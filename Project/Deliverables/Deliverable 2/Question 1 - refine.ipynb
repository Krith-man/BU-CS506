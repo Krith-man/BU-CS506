{
 "cells": [
  {
   "cell_type": "code",
   "execution_count": 1,
   "id": "78c33300",
   "metadata": {},
   "outputs": [],
   "source": [
    "import numpy as np\n",
    "import pandas as pd\n",
    "import warnings\n",
    "warnings.filterwarnings(\"ignore\")\n",
    "import matplotlib.pyplot as plt\n",
    "import seaborn as sns"
   ]
  },
  {
   "cell_type": "markdown",
   "id": "95a65b72",
   "metadata": {},
   "source": [
    "## Analysis whole data set"
   ]
  },
  {
   "cell_type": "code",
   "execution_count": 2,
   "id": "e7bc1cff",
   "metadata": {},
   "outputs": [],
   "source": [
    "df = pd.read_csv(\"Merged_Preprocessed_Mars2020_2021.csv\")"
   ]
  },
  {
   "cell_type": "markdown",
   "id": "b6bbf245",
   "metadata": {},
   "source": [
    "**Show all columns**"
   ]
  },
  {
   "cell_type": "code",
   "execution_count": 3,
   "id": "db43b79b",
   "metadata": {},
   "outputs": [
    {
     "data": {
      "text/plain": [
       "Index(['Coder', 'Asset_Name', 'Brand', 'Lead_Country', 'Year_Produced',\n",
       "       'Year_Aired', 'Segment', 'Agency', 'Character_Name',\n",
       "       'Character_Description', 'Q1_Prominence', 'Q2_Age',\n",
       "       'Q2a_Age_SpecifyOther', 'Q3_Sex', 'Q4_Gender', 'Q5_LGBTQ',\n",
       "       'Q6_Animated', 'Q6a_Animated_OtherSpecify', 'Q7_Race_Ethnicity',\n",
       "       'Q7a_RE_OtherSpecify', 'Q8_Disability', 'Q9a_Shopping', 'Q9b_Driving',\n",
       "       'Q9c_Cleaning', 'Q9d_Cooking', 'Q9e_Working', 'Q9f_Socializing',\n",
       "       'Q9g_Nothing', 'Q9h_Eating/Drinking', 'Q9i_Exercising',\n",
       "       'Q9j_Activity Other', 'Q9j_Activity_Other_Specify', 'Q10a_Kitchen',\n",
       "       'Q10b_Office', 'Q10c_Car', 'Q10d_Store', 'Q10e_Outdoors',\n",
       "       'Q10f_Living Room', 'Q10g_Restaurant_Bar', 'Q10h_Gym', 'Q10i_Bedroom',\n",
       "       'Q10j_Bathroom', 'Q10k_Sporting_Event', 'Q10l_Classroom',\n",
       "       'Q10m_Location_Other', 'Q10m_Location_Other_Specify',\n",
       "       'Q11_Revealing_Clothing', 'Q12_Nudity', 'Q12a_Nudity_Other_Specify',\n",
       "       'Q13_Visually_Objectified', 'Q14_Verbally_Objectified',\n",
       "       'Q15_Intelligence', 'Q16_Humor', 'Q17_Occupation', 'Q18_Leader',\n",
       "       'Q19_Authority', 'Q20_Body Type', 'Q20a_Body_Type_Other_Specify',\n",
       "       'Q21a_Disordered_Eating', 'Q21b_Selfy_injury', 'Q21c_NegativeTalk',\n",
       "       'Q21d_Body_Modification', 'Q22a_Visual_Shame', 'Q22b_Verbal_Shame',\n",
       "       'Q22c_Sizeist_Slurs', 'Q22d_Punchline',\n",
       "       'Q22e_Denied_Personal_Opportunity',\n",
       "       'Q22f_Denied_Professional_Opportunity', 'Q22g_Other_Prejudice',\n",
       "       'Q22g_Prejudice_Other_Specify', 'Q23a_Lazy', 'Q23b_Physically_Slow',\n",
       "       'Q23c_Stupid', 'Q23d_Loser', 'Q23e_Inactive', 'Q23f_Poorly_Dressed',\n",
       "       'Q23g_Funny', 'Q23h_Jolly', 'Q23i_Clumsy', 'Q23j_Alone',\n",
       "       'Q24a_Comic_Relief', 'Q24b_Sidekick', 'Q24c_Mamma_Hen', 'Q24d_Nympho',\n",
       "       'Q25_Fat_to_Fit', 'Q26_Inspo_Porn', 'Q27_NOTES', 'Notes on Dwelling'],\n",
       "      dtype='object')"
      ]
     },
     "execution_count": 3,
     "metadata": {},
     "output_type": "execute_result"
    }
   ],
   "source": [
    "df.columns"
   ]
  },
  {
   "cell_type": "markdown",
   "id": "60b9aa62",
   "metadata": {},
   "source": [
    "**Seperate to four dataframe of different columns**"
   ]
  },
  {
   "cell_type": "code",
   "execution_count": 4,
   "id": "98a42669",
   "metadata": {},
   "outputs": [],
   "source": [
    "segment_col = df[['Segment']]\n",
    "\n",
    "age_col = df[['Q2_Age','Segment']]\n",
    "\n",
    "sex_col = df[['Q3_Sex','Segment']]\n",
    "\n",
    "gender_col = df[['Q4_Gender','Segment']]"
   ]
  },
  {
   "cell_type": "markdown",
   "id": "115f0b3c",
   "metadata": {},
   "source": [
    "### For Deliverable 2, Refine the preliminary analysis in PD1 and analyze more columns for dataset "
   ]
  },
  {
   "cell_type": "markdown",
   "id": "1be279ba",
   "metadata": {},
   "source": [
    "**Q7. What is the character’s race/ethnicity?**\n",
    "\n",
    "1. White\n",
    "2. Hispanic/Latino\n",
    "3. Black\n",
    "4. Native American/Hawaiian/Alaskan/Pacific Islander\n",
    "5. Asian/Asian American\n",
    "6. Middle Eastern\n",
    "8. Mixed Race\n",
    "9. Can’t tell\n",
    "10. Not Applicable (please specify)\n",
    "11. Other (please specify)\n"
   ]
  },
  {
   "cell_type": "code",
   "execution_count": 14,
   "id": "4e45b88b",
   "metadata": {},
   "outputs": [],
   "source": [
    "# add more columns\n",
    "race_col = df[['Segment','Q7_Race_Ethnicity']]\n",
    "race_col_2 = df[['Segment','Q7a_RE_OtherSpecify']]\n",
    "# race_segment = df.groupby('room_type', as_index=False)"
   ]
  },
  {
   "cell_type": "markdown",
   "id": "0d4d876a",
   "metadata": {},
   "source": [
    "**category feature nunique distribution**"
   ]
  },
  {
   "cell_type": "code",
   "execution_count": 13,
   "id": "fd03dfd0",
   "metadata": {},
   "outputs": [
    {
     "name": "stdout",
     "output_type": "stream",
     "text": [
      "*****************************\n",
      "Segment's feature distribution as follow'：\n",
      "Segment feature has 4 different values\n",
      "Confectionary    729\n",
      "Petcare          346\n",
      "Wrigley          119\n",
      "Food              93\n",
      "Name: Segment, dtype: int64\n",
      "*****************************\n",
      "Q2_Age's feature distribution as follow'：\n",
      "Q2_Age feature has 11 different values\n",
      "4     428\n",
      "5     283\n",
      "6     152\n",
      "3     115\n",
      "7      68\n",
      "1      56\n",
      "10     50\n",
      "8      43\n",
      "11     36\n",
      "9      31\n",
      "2      25\n",
      "Name: Q2_Age, dtype: int64\n",
      "*****************************\n",
      "Q3_Sex's feature distribution as follow'：\n",
      "Q3_Sex feature has 3 different values\n",
      "2    760\n",
      "1    524\n",
      "9      3\n",
      "Name: Q3_Sex, dtype: int64\n",
      "*****************************\n",
      "Q4_Gender's feature distribution as follow'：\n",
      "Q4_Gender feature has 5 different values\n",
      "10    512\n",
      "2     450\n",
      "4     318\n",
      "1       5\n",
      "9       2\n",
      "Name: Q4_Gender, dtype: int64\n",
      "*****************************\n",
      "Q7_Race_Ethnicity's feature distribution as follow'：\n",
      "Q7_Race_Ethnicity feature has 9 different values\n",
      "1     705\n",
      "5     216\n",
      "10    113\n",
      "3     107\n",
      "2      86\n",
      "6      28\n",
      "9      21\n",
      "8       6\n",
      "4       5\n",
      "Name: Q7_Race_Ethnicity, dtype: int64\n"
     ]
    }
   ],
   "source": [
    "# classify feature\n",
    "cat_fea =['Segment','Q2_Age','Q3_Sex','Q4_Gender','Q7_Race_Ethnicity']\n",
    "# category feature nunique distribution\n",
    "for fea in cat_fea:\n",
    "    print('*****************************')\n",
    "    print(fea + \"'s feature distribution as follow'：\")\n",
    "    print(\"{} feature has {} different values\".format(fea,df[fea].nunique()))\n",
    "    print(df[fea].value_counts())"
   ]
  },
  {
   "cell_type": "markdown",
   "id": "4f688f4f",
   "metadata": {},
   "source": [
    "****\n",
    "**Plot a boxplot and linegraph of numeric data and check/detect for outliers**"
   ]
  },
  {
   "cell_type": "code",
   "execution_count": 11,
   "id": "2bb14ae1",
   "metadata": {},
   "outputs": [
    {
     "data": {
      "image/png": "[encoded data removed]",
      "text/plain": [
       "<Figure size 576x432 with 4 Axes>"
      ]
     },
     "metadata": {
      "needs_background": "light"
     },
     "output_type": "display_data"
    },
    {
     "data": {
      "image/png": "[encoded data removed]",
      "text/plain": [
       "<Figure size 576x432 with 4 Axes>"
      ]
     },
     "metadata": {
      "needs_background": "light"
     },
     "output_type": "display_data"
    }
   ],
   "source": [
    "fig=plt.figure(figsize=(8,6))\n",
    "i=1\n",
    "num_fea =['Q2_Age','Q3_Sex','Q4_Gender','Q7_Race_Ethnicity']\n",
    "for col in num_fea:\n",
    "    ax=fig.add_subplot(2,2,i)\n",
    "    sns.boxplot(data=df[col],ax=ax)\n",
    "    i=i+1\n",
    "    plt.title(col) \n",
    "\n",
    "plt.subplots_adjust(wspace=0.4,hspace=0.3)\n",
    "plt.show()\n",
    "\n",
    "fig=plt.figure(figsize=(8,6))\n",
    "i=1\n",
    "for col in num_fea:\n",
    "    ax=fig.add_subplot(2,2,i)\n",
    "    sns.distplot(df[col])\n",
    "    i=i+1\n",
    "    plt.title(col) \n",
    "\n",
    "plt.tight_layout()"
   ]
  },
  {
   "cell_type": "markdown",
   "id": "69aad6c0",
   "metadata": {},
   "source": [
    "****\n",
    "**Plot histogram of Segment, Age, Sex, Gender**"
   ]
  },
  {
   "cell_type": "code",
   "execution_count": 12,
   "id": "79eff9e8",
   "metadata": {},
   "outputs": [
    {
     "data": {
      "text/plain": [
       "<Figure size 432x288 with 0 Axes>"
      ]
     },
     "metadata": {},
     "output_type": "display_data"
    },
    {
     "data": {
      "image/png": "[encoded data removed]",
      "text/plain": [
       "<Figure size 1728x1728 with 5 Axes>"
      ]
     },
     "metadata": {
      "needs_background": "light"
     },
     "output_type": "display_data"
    }
   ],
   "source": [
    "# plot histogram to show 10 most \n",
    "plt.figure()\n",
    "plt.figure(figsize=(24, 24))\n",
    "i = 1\n",
    "for fea in cat_fea:\n",
    "        plt.subplot(3, 2, i)\n",
    "        \n",
    "        i += 1\n",
    "        v = df[fea].value_counts().nlargest(15)\n",
    "        fig = sns.barplot(x=v.index, y=v.values)\n",
    "        for item in fig.get_xticklabels():\n",
    "            item.set_rotation(80)\n",
    "        plt.title('Histogram for '+fea)\n",
    "plt.tight_layout()\n",
    "plt.show()"
   ]
  },
  {
   "cell_type": "markdown",
   "id": "5d44493e",
   "metadata": {},
   "source": [
    "### Observation for entire dataset\n",
    "**For Segment column, we can see the 'confectionary' accounts for half of the total data volume of Segment column**\n",
    "\n",
    "**For Q2_Age column, most value are 4, which is the age of 20-29 year olds**\n",
    "\n",
    "**For Q3_Sex column, number of male is more than female, and there is a little people don't tell their sex**\n",
    "\n",
    "**For Q4_Gender column, we find that value 'Not Applicable' is the largest, and then is the 'Masculine' and 'Feminine'. Also, there are a few 'Hyper-Masciline' and 'Can't Tell'**\n",
    "\n",
    "**Deliverable2:**\n",
    "\n",
    "**For Q7_Race_Ethnicity column, we find that value \"1\"(\"White\") is the largest, the second one and thrid one are \"5\"(\"Asian/Asian American\") and \"10\"(\"Not Applicable\").** \n",
    "\n",
    "**We can find that the number of whites is greater than the sum of the numbers of all other races**"
   ]
  },
  {
   "cell_type": "markdown",
   "id": "daacab1e",
   "metadata": {},
   "source": [
    "\n",
    "******\n",
    "### Question :\n",
    "### Are there industry differences in representation in advertisements?\n",
    "### “industry” refers to the “Segment” column, and “representation” refers to all the question columns. "
   ]
  },
  {
   "cell_type": "code",
   "execution_count": 9,
   "id": "b882cfbd",
   "metadata": {},
   "outputs": [],
   "source": [
    "industry = segment_col"
   ]
  },
  {
   "cell_type": "code",
   "execution_count": 10,
   "id": "4f9b8671",
   "metadata": {},
   "outputs": [
    {
     "data": {
      "text/html": [
       "<div>\n",
       "<style scoped>\n",
       "    .dataframe tbody tr th:only-of-type {\n",
       "        vertical-align: middle;\n",
       "    }\n",
       "\n",
       "    .dataframe tbody tr th {\n",
       "        vertical-align: top;\n",
       "    }\n",
       "\n",
       "    .dataframe thead th {\n",
       "        text-align: right;\n",
       "    }\n",
       "</style>\n",
       "<table border=\"1\" class=\"dataframe\">\n",
       "  <thead>\n",
       "    <tr style=\"text-align: right;\">\n",
       "      <th></th>\n",
       "      <th>Segment</th>\n",
       "    </tr>\n",
       "  </thead>\n",
       "  <tbody>\n",
       "    <tr>\n",
       "      <th>count</th>\n",
       "      <td>1287</td>\n",
       "    </tr>\n",
       "    <tr>\n",
       "      <th>unique</th>\n",
       "      <td>4</td>\n",
       "    </tr>\n",
       "    <tr>\n",
       "      <th>top</th>\n",
       "      <td>Confectionary</td>\n",
       "    </tr>\n",
       "    <tr>\n",
       "      <th>freq</th>\n",
       "      <td>729</td>\n",
       "    </tr>\n",
       "  </tbody>\n",
       "</table>\n",
       "</div>"
      ],
      "text/plain": [
       "              Segment\n",
       "count            1287\n",
       "unique              4\n",
       "top     Confectionary\n",
       "freq              729"
      ]
     },
     "execution_count": 10,
     "metadata": {},
     "output_type": "execute_result"
    }
   ],
   "source": [
    "industry.describe()"
   ]
  },
  {
   "cell_type": "markdown",
   "id": "a98e8e03",
   "metadata": {},
   "source": [
    "### Specific examples of how to interpret the questions could be: Are there segment differences in different ages?"
   ]
  },
  {
   "cell_type": "markdown",
   "id": "eb0559f4",
   "metadata": {},
   "source": [
    "### Industry differences of the Q2_Age column"
   ]
  },
  {
   "cell_type": "code",
   "execution_count": 11,
   "id": "7aa1001d",
   "metadata": {},
   "outputs": [
    {
     "data": {
      "text/html": [
       "<div>\n",
       "<style scoped>\n",
       "    .dataframe tbody tr th:only-of-type {\n",
       "        vertical-align: middle;\n",
       "    }\n",
       "\n",
       "    .dataframe tbody tr th {\n",
       "        vertical-align: top;\n",
       "    }\n",
       "\n",
       "    .dataframe thead th {\n",
       "        text-align: right;\n",
       "    }\n",
       "</style>\n",
       "<table border=\"1\" class=\"dataframe\">\n",
       "  <thead>\n",
       "    <tr style=\"text-align: right;\">\n",
       "      <th></th>\n",
       "      <th>Q2_Age</th>\n",
       "      <th>Segment</th>\n",
       "    </tr>\n",
       "  </thead>\n",
       "  <tbody>\n",
       "    <tr>\n",
       "      <th>0</th>\n",
       "      <td>5</td>\n",
       "      <td>Confectionary</td>\n",
       "    </tr>\n",
       "    <tr>\n",
       "      <th>1</th>\n",
       "      <td>4</td>\n",
       "      <td>Confectionary</td>\n",
       "    </tr>\n",
       "    <tr>\n",
       "      <th>2</th>\n",
       "      <td>8</td>\n",
       "      <td>Confectionary</td>\n",
       "    </tr>\n",
       "    <tr>\n",
       "      <th>3</th>\n",
       "      <td>2</td>\n",
       "      <td>Confectionary</td>\n",
       "    </tr>\n",
       "    <tr>\n",
       "      <th>4</th>\n",
       "      <td>2</td>\n",
       "      <td>Confectionary</td>\n",
       "    </tr>\n",
       "  </tbody>\n",
       "</table>\n",
       "</div>"
      ],
      "text/plain": [
       "   Q2_Age        Segment\n",
       "0       5  Confectionary\n",
       "1       4  Confectionary\n",
       "2       8  Confectionary\n",
       "3       2  Confectionary\n",
       "4       2  Confectionary"
      ]
     },
     "execution_count": 11,
     "metadata": {},
     "output_type": "execute_result"
    }
   ],
   "source": [
    "age_col.head()"
   ]
  },
  {
   "cell_type": "code",
   "execution_count": 12,
   "id": "f6fba91a",
   "metadata": {},
   "outputs": [
    {
     "name": "stdout",
     "output_type": "stream",
     "text": [
      "Q2_Age = 1\n",
      "Petcare          25\n",
      "Food             18\n",
      "Confectionary    13\n",
      "Name: Segment, dtype: int64\n",
      "\n",
      "Q2_Age = 2\n",
      "Confectionary    14\n",
      "Petcare           7\n",
      "Food              4\n",
      "Name: Segment, dtype: int64\n",
      "\n",
      "Q2_Age = 3\n",
      "Confectionary    75\n",
      "Wrigley          24\n",
      "Petcare          12\n",
      "Food              4\n",
      "Name: Segment, dtype: int64\n",
      "\n",
      "Q2_Age = 4\n",
      "Confectionary    246\n",
      "Petcare           91\n",
      "Wrigley           60\n",
      "Food              31\n",
      "Name: Segment, dtype: int64\n",
      "\n",
      "Q2_Age = 5\n",
      "Confectionary    134\n",
      "Petcare          106\n",
      "Wrigley           23\n",
      "Food              20\n",
      "Name: Segment, dtype: int64\n",
      "\n",
      "Q2_Age = 6\n",
      "Confectionary    85\n",
      "Petcare          52\n",
      "Food             11\n",
      "Wrigley           4\n",
      "Name: Segment, dtype: int64\n",
      "\n",
      "Q2_Age = 7\n",
      "Confectionary    38\n",
      "Petcare          24\n",
      "Wrigley           5\n",
      "Food              1\n",
      "Name: Segment, dtype: int64\n",
      "\n",
      "Q2_Age = 8\n",
      "Petcare          22\n",
      "Confectionary    17\n",
      "Food              2\n",
      "Wrigley           2\n",
      "Name: Segment, dtype: int64\n",
      "\n",
      "Q2_Age = 9\n",
      "Confectionary    28\n",
      "Food              1\n",
      "Petcare           1\n",
      "Wrigley           1\n",
      "Name: Segment, dtype: int64\n",
      "\n",
      "Q2_Age = 10\n",
      "Confectionary    48\n",
      "Petcare           2\n",
      "Name: Segment, dtype: int64\n",
      "\n",
      "Q2_Age = 11\n",
      "Confectionary    31\n",
      "Petcare           4\n",
      "Food              1\n",
      "Name: Segment, dtype: int64\n",
      "\n"
     ]
    }
   ],
   "source": [
    "for i in range(1,12):\n",
    "    df_age = age_col.loc[age_col['Q2_Age'] == i]\n",
    "    print('Q2_Age =',i)\n",
    "    print(df_age['Segment'].value_counts())\n",
    "    print()"
   ]
  },
  {
   "cell_type": "markdown",
   "id": "aad00b87",
   "metadata": {},
   "source": [
    "### Observation for Q2_Age:\n",
    "\n",
    "**We can find that among the Q2_Age=1, the Petcare is the most**\n",
    "\n",
    "**With the increasing of the age, more people are in the \"Confectionary\" industry, but when Q2_Age = 8 the Petcare is greater than Confectionary**\n",
    "\n",
    "**And by the statistics, we observe that the largest amount of data are in the \"Confectionary\" industry**\n",
    "\n",
    "**And someone don't tell or are unwilling to disclose the information of age**"
   ]
  },
  {
   "cell_type": "markdown",
   "id": "4e139ff7",
   "metadata": {},
   "source": [
    "### Industry differences of the Q3_Sex column"
   ]
  },
  {
   "cell_type": "code",
   "execution_count": 13,
   "id": "a5d6db39",
   "metadata": {},
   "outputs": [
    {
     "name": "stdout",
     "output_type": "stream",
     "text": [
      "Q3_Sex = 1\n",
      "Confectionary    262\n",
      "Petcare          157\n",
      "Wrigley           59\n",
      "Food              46\n",
      "Name: Segment, dtype: int64\n",
      "\n",
      "Q3_Sex = 2\n",
      "Confectionary    467\n",
      "Petcare          186\n",
      "Wrigley           60\n",
      "Food              47\n",
      "Name: Segment, dtype: int64\n",
      "\n",
      "Q3_Sex = 9\n",
      "Petcare    3\n",
      "Name: Segment, dtype: int64\n",
      "\n"
     ]
    }
   ],
   "source": [
    "sex_list = [1,2,9]\n",
    "for i in sex_list:\n",
    "    df_sex = sex_col.loc[sex_col['Q3_Sex'] == i]\n",
    "    print('Q3_Sex =',i)\n",
    "    print(df_sex['Segment'].value_counts())\n",
    "    print()"
   ]
  },
  {
   "cell_type": "markdown",
   "id": "3dbd2340",
   "metadata": {},
   "source": [
    "### Observation for Q3_Sex:\n",
    "\n",
    "**We can find that among the Q3_Sex = 1 which is \"Female\", the \"Confectionary\" is the most, \"Food\" is the smallest**\n",
    "\n",
    "**We can find that among the Q3_Sex = 2 which is \"Male\", the \"Confectionary\" is the most, \"Food\" is the smallest**\n",
    "\n",
    "**We can find that among the Q3_Sex = 9 which is \"Can't tell\", there is only Petcare**\n",
    "\n",
    "**And by the statistics, we observe that the largest amount of data are in the \"Confectionary\" industry**\n",
    "\n",
    "**And some of people can not tell their sex**"
   ]
  },
  {
   "cell_type": "markdown",
   "id": "b03d3622",
   "metadata": {},
   "source": [
    "### Industry differences of the Q4_Gender column"
   ]
  },
  {
   "cell_type": "code",
   "execution_count": 14,
   "id": "3e40db13",
   "metadata": {},
   "outputs": [
    {
     "name": "stdout",
     "output_type": "stream",
     "text": [
      "Q4_Gender = 1\n",
      "Petcare    3\n",
      "Wrigley    2\n",
      "Name: Segment, dtype: int64\n",
      "\n",
      "Q4_Gender = 2\n",
      "Confectionary    313\n",
      "Wrigley           58\n",
      "Petcare           55\n",
      "Food              24\n",
      "Name: Segment, dtype: int64\n",
      "\n",
      "Q4_Gender = 4\n",
      "Confectionary    151\n",
      "Petcare           82\n",
      "Wrigley           59\n",
      "Food              26\n",
      "Name: Segment, dtype: int64\n",
      "\n",
      "Q4_Gender = 9\n",
      "Confectionary    1\n",
      "Petcare          1\n",
      "Name: Segment, dtype: int64\n",
      "\n",
      "Q4_Gender = 10\n",
      "Confectionary    264\n",
      "Petcare          205\n",
      "Food              43\n",
      "Name: Segment, dtype: int64\n",
      "\n"
     ]
    }
   ],
   "source": [
    "gender_list = [1,2,4,9,10,]\n",
    "for i in gender_list:\n",
    "    df_gender = gender_col.loc[gender_col['Q4_Gender'] == i]\n",
    "    print('Q4_Gender =',i)\n",
    "    print(df_gender['Segment'].value_counts())\n",
    "    print()"
   ]
  },
  {
   "cell_type": "markdown",
   "id": "8dc88b5a",
   "metadata": {},
   "source": [
    "### Observation for Q4_Gender:\n",
    "\n",
    "**We can find that among the Q4_Gender = 1 which is \"Hyper-Masculine\", is in either Petcare or Wrigley**\n",
    "\n",
    "**We can find that among the Q4_Gender = 2 which is \"Masculine\", the \"Confectionary\" is much higher than other industries, each industry has \"Masculine\"**\n",
    "\n",
    "**We can find that among the Q4_Gender = 4 which is \"Feminine\", the \"Confectionary\" is also higher than other industries, each industry has \"Feminine\"**\n",
    "\n",
    "**And by the statistics, we observe that the largest amount of data whatever their gender are in the \"Confectionary\" industry**\n",
    "\n",
    "**And many of people are \"Not Applicable\" of Q4_gender in \"Confectionary\", \"Petcare\" and \"Food\"**"
   ]
  },
  {
   "cell_type": "markdown",
   "id": "2f024dfe",
   "metadata": {},
   "source": [
    "### Deliverable 2 - Industry differences of the Q7_Race_Ethnicity column"
   ]
  },
  {
   "cell_type": "code",
   "execution_count": 67,
   "id": "54bc6c5c",
   "metadata": {},
   "outputs": [
    {
     "name": "stdout",
     "output_type": "stream",
     "text": [
      "Q7_Race_Ethnicity = 1\n",
      "Confectionary    310\n",
      "Petcare          263\n",
      "Wrigley           79\n",
      "Food              53\n",
      "Name: Segment, dtype: int64\n",
      "\n",
      "Q7_Race_Ethnicity = 2\n",
      "Confectionary    59\n",
      "Petcare          14\n",
      "Food              8\n",
      "Wrigley           5\n",
      "Name: Segment, dtype: int64\n",
      "\n",
      "Q7_Race_Ethnicity = 3\n",
      "Confectionary    41\n",
      "Petcare          39\n",
      "Food             20\n",
      "Wrigley           7\n",
      "Name: Segment, dtype: int64\n",
      "\n",
      "Q7_Race_Ethnicity = 4\n",
      "Food             3\n",
      "Confectionary    1\n",
      "Wrigley          1\n",
      "Name: Segment, dtype: int64\n",
      "\n",
      "Q7_Race_Ethnicity = 5\n",
      "Confectionary    177\n",
      "Wrigley           22\n",
      "Petcare           15\n",
      "Food               2\n",
      "Name: Segment, dtype: int64\n",
      "\n",
      "Q7_Race_Ethnicity = 6\n",
      "Confectionary    23\n",
      "Petcare           3\n",
      "Wrigley           2\n",
      "Name: Segment, dtype: int64\n",
      "\n",
      "Q7_Race_Ethnicity = 7\n",
      "Series([], Name: Segment, dtype: int64)\n",
      "\n",
      "Q7_Race_Ethnicity = 8\n",
      "Confectionary    3\n",
      "Wrigley          2\n",
      "Petcare          1\n",
      "Name: Segment, dtype: int64\n",
      "\n",
      "Q7_Race_Ethnicity = 9\n",
      "Confectionary    7\n",
      "Food             7\n",
      "Petcare          6\n",
      "Wrigley          1\n",
      "Name: Segment, dtype: int64\n",
      "\n",
      "Q7_Race_Ethnicity = 10\n",
      "Confectionary    108\n",
      "Petcare            5\n",
      "Name: Segment, dtype: int64\n",
      "\n"
     ]
    }
   ],
   "source": [
    "race_list = [1,2,3,4,5,6,7,8,9,10]\n",
    "for i in race_list:\n",
    "    df_race = race_col.loc[race_col['Q7_Race_Ethnicity'] == i]\n",
    "    print('Q7_Race_Ethnicity =',i)\n",
    "    print(df_race['Segment'].value_counts())\n",
    "    print()"
   ]
  },
  {
   "cell_type": "markdown",
   "id": "1495aab4",
   "metadata": {},
   "source": [
    "### Observation for Q7_Race_Ethnicity:\n",
    "\n",
    "**We can find that among the Q7_Race_Ethnicity = 1(\"White\"), the number of \"Confectionary\" is 310 and \"Petcare \" is 263 which are far more than \"Wrigley\" and \"Food\" industry. Majority of \"White\" work in these two industries**\n",
    "\n",
    "**We can find that among the Q7_Race_Ethnicity = 2(\"Hispanic/Latino\"), the \"Confectionary\" is much higher than other industries, each industry has \"Hispanic/Latino\", most of \"Hispanic\" are in \"Confectionary\" industry**\n",
    "\n",
    "**We can find that among the Q7_Race_Ethnicity = 3(\"Black\"), the \"Confectionary\" is also higher than other industries, each industry has \"Black\". The portion of \"Petcare\" for \"Black\" is the highest comparing with other ethnicities**\n",
    "\n",
    "**We can find that among the Q7_Race_Ethnicity = 4(Native American/Hawaiian/Alaskan/Pacific Islander), there are small amount of data**\n",
    "\n",
    "**We can find that among the Q7_Race_Ethnicity = 5(\"Asian/Asian American\"), there are very high number of people working in \"Confectionary\" industry.**\n",
    "\n",
    "**We can find that among the Q7_Race_Ethnicity = 6(\"Middle Eastern\"), no one is in the \"Food\" industry. The ratio of \"Confectionary\" among industries for \"Asian\" is the highest comparing with other ethnicities**\n",
    "\n",
    "**We can find that among the Q7_Race_Ethnicity = 8(\"Mixed Race\"), there are small amount of data, the number of \"Confectionary\" is 3, for \"Petcare\" is 2, for \"Wrigley\" is 1, no one is in \"Food\" industry**\n",
    "\n",
    "**We can find that among the Q7_Race_Ethnicity = 9(\"Can’t tell\"), number of data is relatively small, the number of people for \"Confectionary\" and \"Food\" is same.**\n",
    "\n",
    "**We can find that among the Q7_Race_Ethnicity = 10(\"Not Applicable\"), the \"Confectionary\" is higher than other industries, people are only in \"Confectionary\" and \"Food\" industry**\n",
    "\n",
    "**By the statistics, we observe that the largest amount of data whatever their race/ethnicity are in the \"Confectionary\" industry**\n",
    "\n",
    "**And many of people are \"Not Applicable\" of Q7_Race_Ethnicity in \"Confectionary\" and \"Food\"**"
   ]
  },
  {
   "cell_type": "markdown",
   "id": "4a7675dc",
   "metadata": {},
   "source": [
    "****"
   ]
  },
  {
   "cell_type": "markdown",
   "id": "482dfbf6",
   "metadata": {},
   "source": [
    "### Try different way to answer the question, separate four different segments to different dataframes\n",
    "### For Deliverable 2, add \"Q7_Race_Ethnicity\" column"
   ]
  },
  {
   "cell_type": "markdown",
   "id": "abec5d4f",
   "metadata": {},
   "source": [
    "### **Create confectionary dataframe**"
   ]
  },
  {
   "cell_type": "code",
   "execution_count": 15,
   "id": "7640aa88",
   "metadata": {},
   "outputs": [
    {
     "data": {
      "text/html": [
       "<div>\n",
       "<style scoped>\n",
       "    .dataframe tbody tr th:only-of-type {\n",
       "        vertical-align: middle;\n",
       "    }\n",
       "\n",
       "    .dataframe tbody tr th {\n",
       "        vertical-align: top;\n",
       "    }\n",
       "\n",
       "    .dataframe thead th {\n",
       "        text-align: right;\n",
       "    }\n",
       "</style>\n",
       "<table border=\"1\" class=\"dataframe\">\n",
       "  <thead>\n",
       "    <tr style=\"text-align: right;\">\n",
       "      <th></th>\n",
       "      <th>Q2_Age</th>\n",
       "      <th>Q3_Sex</th>\n",
       "      <th>Q4_Gender</th>\n",
       "      <th>Q7_Race_Ethnicity</th>\n",
       "    </tr>\n",
       "  </thead>\n",
       "  <tbody>\n",
       "    <tr>\n",
       "      <th>0</th>\n",
       "      <td>5</td>\n",
       "      <td>2</td>\n",
       "      <td>10</td>\n",
       "      <td>5</td>\n",
       "    </tr>\n",
       "    <tr>\n",
       "      <th>1</th>\n",
       "      <td>4</td>\n",
       "      <td>2</td>\n",
       "      <td>10</td>\n",
       "      <td>5</td>\n",
       "    </tr>\n",
       "    <tr>\n",
       "      <th>2</th>\n",
       "      <td>8</td>\n",
       "      <td>2</td>\n",
       "      <td>10</td>\n",
       "      <td>5</td>\n",
       "    </tr>\n",
       "    <tr>\n",
       "      <th>3</th>\n",
       "      <td>2</td>\n",
       "      <td>2</td>\n",
       "      <td>10</td>\n",
       "      <td>5</td>\n",
       "    </tr>\n",
       "    <tr>\n",
       "      <th>4</th>\n",
       "      <td>2</td>\n",
       "      <td>1</td>\n",
       "      <td>10</td>\n",
       "      <td>5</td>\n",
       "    </tr>\n",
       "  </tbody>\n",
       "</table>\n",
       "</div>"
      ],
      "text/plain": [
       "   Q2_Age  Q3_Sex  Q4_Gender  Q7_Race_Ethnicity\n",
       "0       5       2         10                  5\n",
       "1       4       2         10                  5\n",
       "2       8       2         10                  5\n",
       "3       2       2         10                  5\n",
       "4       2       1         10                  5"
      ]
     },
     "execution_count": 15,
     "metadata": {},
     "output_type": "execute_result"
    }
   ],
   "source": [
    "df_confectionary = df.loc[df['Segment'] == 'Confectionary']\n",
    "df_confectionary = df_confectionary.loc[:,['Q2_Age','Q3_Sex', 'Q4_Gender', 'Q7_Race_Ethnicity']]\n",
    "df_confectionary.reset_index(inplace = True)\n",
    "df_confectionary.drop('index', axis = 1, inplace = True)\n",
    "df_confectionary.head()"
   ]
  },
  {
   "cell_type": "markdown",
   "id": "63d88fe9",
   "metadata": {},
   "source": [
    "### category feature nunique distribution"
   ]
  },
  {
   "cell_type": "code",
   "execution_count": 16,
   "id": "cbb4885d",
   "metadata": {},
   "outputs": [
    {
     "name": "stdout",
     "output_type": "stream",
     "text": [
      "*****************************\n",
      "Q2_Age's feature distribution as follow'：\n",
      "Q2_Age feature has 11 different values\n",
      "4     246\n",
      "5     134\n",
      "6      85\n",
      "3      75\n",
      "10     48\n",
      "7      38\n",
      "11     31\n",
      "9      28\n",
      "8      17\n",
      "2      14\n",
      "1      13\n",
      "Name: Q2_Age, dtype: int64\n",
      "*****************************\n",
      "Q3_Sex's feature distribution as follow'：\n",
      "Q3_Sex feature has 2 different values\n",
      "2    467\n",
      "1    262\n",
      "Name: Q3_Sex, dtype: int64\n",
      "*****************************\n",
      "Q4_Gender's feature distribution as follow'：\n",
      "Q4_Gender feature has 4 different values\n",
      "2     313\n",
      "10    264\n",
      "4     151\n",
      "9       1\n",
      "Name: Q4_Gender, dtype: int64\n",
      "*****************************\n",
      "Q7_Race_Ethnicity's feature distribution as follow'：\n",
      "Q7_Race_Ethnicity feature has 9 different values\n",
      "1     310\n",
      "5     177\n",
      "10    108\n",
      "2      59\n",
      "3      41\n",
      "6      23\n",
      "9       7\n",
      "8       3\n",
      "4       1\n",
      "Name: Q7_Race_Ethnicity, dtype: int64\n"
     ]
    }
   ],
   "source": [
    "\n",
    "cat_fea_confectionary =['Q2_Age','Q3_Sex','Q4_Gender','Q7_Race_Ethnicity']\n",
    "# category feature nunique distribution\n",
    "for fea in cat_fea_confectionary:\n",
    "    print('*****************************')\n",
    "    print(fea + \"'s feature distribution as follow'：\")\n",
    "    print(\"{} feature has {} different values\".format(fea,df_confectionary[fea].nunique()))\n",
    "    print(df_confectionary[fea].value_counts())"
   ]
  },
  {
   "cell_type": "markdown",
   "id": "613454f7",
   "metadata": {},
   "source": [
    "### Plot Histogram for columns"
   ]
  },
  {
   "cell_type": "code",
   "execution_count": 19,
   "id": "3b19b42e",
   "metadata": {},
   "outputs": [
    {
     "data": {
      "text/plain": [
       "<Figure size 432x288 with 0 Axes>"
      ]
     },
     "metadata": {},
     "output_type": "display_data"
    },
    {
     "data": {
      "image/png": "[encoded data removed]",
      "text/plain": [
       "<Figure size 1728x1728 with 4 Axes>"
      ]
     },
     "metadata": {
      "needs_background": "light"
     },
     "output_type": "display_data"
    }
   ],
   "source": [
    "# plot histogram to show\n",
    "plt.figure()\n",
    "plt.figure(figsize=(24, 24))\n",
    "i = 1\n",
    "for fea in cat_fea_confectionary:\n",
    "        plt.subplot(3, 2, i)\n",
    "        i += 1\n",
    "        v = df_confectionary[fea].value_counts().nlargest(15)\n",
    "        fig = sns.barplot(x = v.index, y = v.values)\n",
    "        for item in fig.get_xticklabels():\n",
    "            item.set_rotation(80)\n",
    "        plt.title('Histogram of \"Confectionary\" for '+fea)\n",
    "plt.tight_layout()\n",
    "plt.show()"
   ]
  },
  {
   "cell_type": "markdown",
   "id": "9c6dc53d",
   "metadata": {},
   "source": [
    "**We can find that for Confectionary, the 20-29 age group(4) has the largest proportion, the second one is group(5)**\n",
    "\n",
    "**Through Q3_Sex and Q4_Gender, we can find that the number of male is definitely greater than female and lots of people choose \"Not Applicable\" on Q4_gender**\n",
    "\n",
    "\n",
    "**From the histogram, we observe that \"White\" has the largest number of any race in \"Confectionary\" industry, and there are large amount of \"Black\" and \"Not Applicable\". Such a data distribution is almost consistent with the proportion of racial populations in the United States**"
   ]
  },
  {
   "cell_type": "markdown",
   "id": "54733f30",
   "metadata": {},
   "source": [
    "### Barplot for sex portions of confectionary"
   ]
  },
  {
   "cell_type": "code",
   "execution_count": 18,
   "id": "9088d89c",
   "metadata": {},
   "outputs": [
    {
     "data": {
      "image/png": "[encoded data removed]",
      "text/plain": [
       "<Figure size 432x288 with 1 Axes>"
      ]
     },
     "metadata": {},
     "output_type": "display_data"
    }
   ],
   "source": [
    "Sex1 = df_confectionary[df_confectionary['Q3_Sex'] == 1]['Q3_Sex'].value_counts()\n",
    "Sex2 = df_confectionary[df_confectionary['Q3_Sex'] == 2]['Q3_Sex'].value_counts()\n",
    "\n",
    "labels = '1','2'\n",
    "sizes = [Sex1.values.item(), Sex2.values.item()]\n",
    "explode = (0, 0)  # only \"explode\" the 2nd slice (i.e. 'Hogs')\n",
    "\n",
    "fig, ax = plt.subplots()\n",
    "ax.pie(sizes, explode = explode, labels = labels, autopct='%1.1f%%',\n",
    "        shadow = True, startangle = 90)\n",
    "ax.axis('equal')  # Equal aspect ratio ensures that pie is drawn as a circle.\n",
    "plt.title('Sex Portions of Amount of Confectionary Segment')\n",
    "plt.show()"
   ]
  },
  {
   "cell_type": "markdown",
   "id": "1a1af1f9",
   "metadata": {},
   "source": [
    "**We can find that for Confectionary segment, the amount of \"Male(2)\" is 64.1%, which is more than \"Female(1)\" (35.9%)**\n",
    "\n",
    "**From the four barplot for sex portions of different industry, we can conclude that the Confectionary has the largest difference in the number of male and female**"
   ]
  },
  {
   "cell_type": "markdown",
   "id": "f7d6c365",
   "metadata": {},
   "source": [
    "### Barplot for sex portions of confectionary"
   ]
  },
  {
   "cell_type": "code",
   "execution_count": 23,
   "id": "08188829",
   "metadata": {},
   "outputs": [
    {
     "data": {
      "image/png": "[encoded data removed]",
      "text/plain": [
       "<Figure size 432x288 with 1 Axes>"
      ]
     },
     "metadata": {},
     "output_type": "display_data"
    }
   ],
   "source": [
    "Sex1 = df_confectionary[df_confectionary['Q7_Race_Ethnicity'] == 1]['Q7_Race_Ethnicity'].value_counts()\n",
    "Sex2 = df_confectionary[df_confectionary['Q7_Race_Ethnicity'] == 2]['Q7_Race_Ethnicity'].value_counts()\n",
    "Sex3 = df_confectionary[df_confectionary['Q7_Race_Ethnicity'] == 3]['Q7_Race_Ethnicity'].value_counts()\n",
    "Sex4 = df_confectionary[df_confectionary['Q7_Race_Ethnicity'] == 4]['Q7_Race_Ethnicity'].value_counts()\n",
    "Sex5 = df_confectionary[df_confectionary['Q7_Race_Ethnicity'] == 5]['Q7_Race_Ethnicity'].value_counts()\n",
    "Sex6 = df_confectionary[df_confectionary['Q7_Race_Ethnicity'] == 6]['Q7_Race_Ethnicity'].value_counts()\n",
    "Sex8 = df_confectionary[df_confectionary['Q7_Race_Ethnicity'] == 8]['Q7_Race_Ethnicity'].value_counts()\n",
    "Sex9 = df_confectionary[df_confectionary['Q7_Race_Ethnicity'] == 9]['Q7_Race_Ethnicity'].value_counts()\n",
    "Sex10 = df_confectionary[df_confectionary['Q7_Race_Ethnicity'] == 10]['Q7_Race_Ethnicity'].value_counts()\n",
    "\n",
    "\n",
    "labels = '1','2','3','4','5','6','8','9','10'\n",
    "sizes = [Sex1.values.item(), Sex2.values.item(), Sex3.values.item(), Sex4.values.item(), \n",
    "         Sex5.values.item(), Sex6.values.item(), Sex8.values.item(), Sex9.values.item(), Sex10.values.item()]\n",
    "explode = (0, 0, 0, 0, 0, 0, 0, 0, 0)  # only \"explode\" the 2nd slice (i.e. 'Hogs')\n",
    "\n",
    "fig, ax = plt.subplots()\n",
    "ax.pie(sizes, explode = explode, labels = labels, autopct='%1.1f%%',\n",
    "        shadow = True, startangle = 90)\n",
    "ax.axis('equal')  # Equal aspect ratio ensures that pie is drawn as a circle.\n",
    "plt.title('Race Portions of Amount of Confectionary Industry')\n",
    "plt.show()"
   ]
  },
  {
   "cell_type": "markdown",
   "id": "5bd48ef4",
   "metadata": {},
   "source": [
    "**With barplot we can observe the result obviously**"
   ]
  },
  {
   "cell_type": "markdown",
   "id": "903bee08",
   "metadata": {},
   "source": [
    "### Compute Mean and std of Q2_Age for Confectionary"
   ]
  },
  {
   "cell_type": "code",
   "execution_count": 19,
   "id": "7078541f",
   "metadata": {},
   "outputs": [
    {
     "name": "stdout",
     "output_type": "stream",
     "text": [
      "Mean of Age is 5.36 Standard deviation of Age is 2.33\n"
     ]
    }
   ],
   "source": [
    "age_mean_confectionary = df_confectionary['Q2_Age'].mean()\n",
    "age_mean_confectionary = round(age_mean_confectionary, 2)\n",
    "age_std_confectionary = df_confectionary['Q2_Age'].std()\n",
    "age_std_confectionary = round(age_std_confectionary, 2)\n",
    "print('Mean of Age is', age_mean_confectionary, 'Standard deviation of Age is',age_std_confectionary)"
   ]
  },
  {
   "cell_type": "markdown",
   "id": "96b410b9",
   "metadata": {},
   "source": [
    "**we can get the average value of Q2_Age for the Confectionary industry is 5.36(around 34 years old),the std value is 2.33**\n",
    "*****"
   ]
  },
  {
   "cell_type": "markdown",
   "id": "b620e28b",
   "metadata": {},
   "source": [
    "### **Create Petcare dataframe**"
   ]
  },
  {
   "cell_type": "code",
   "execution_count": 30,
   "id": "5297c70c",
   "metadata": {},
   "outputs": [],
   "source": [
    "df_petcare = df.loc[df['Segment'] == 'Petcare']\n",
    "df_petcare = df_petcare.loc[:,['Q2_Age','Q3_Sex', 'Q4_Gender', 'Q7_Race_Ethnicity']]\n",
    "df_petcare.reset_index(inplace = True)\n",
    "df_petcare.drop('index',axis = 1, inplace = True)\n",
    "# df_petcare.head()"
   ]
  },
  {
   "cell_type": "code",
   "execution_count": 31,
   "id": "98dcc2bc",
   "metadata": {},
   "outputs": [
    {
     "name": "stdout",
     "output_type": "stream",
     "text": [
      "*****************************\n",
      "Q2_Age's feature distribution as follow'：\n",
      "Q2_Age feature has 11 different values\n",
      "5     106\n",
      "4      91\n",
      "6      52\n",
      "1      25\n",
      "7      24\n",
      "8      22\n",
      "3      12\n",
      "2       7\n",
      "11      4\n",
      "10      2\n",
      "9       1\n",
      "Name: Q2_Age, dtype: int64\n",
      "*****************************\n",
      "Q3_Sex's feature distribution as follow'：\n",
      "Q3_Sex feature has 3 different values\n",
      "2    186\n",
      "1    157\n",
      "9      3\n",
      "Name: Q3_Sex, dtype: int64\n",
      "*****************************\n",
      "Q4_Gender's feature distribution as follow'：\n",
      "Q4_Gender feature has 5 different values\n",
      "10    205\n",
      "4      82\n",
      "2      55\n",
      "1       3\n",
      "9       1\n",
      "Name: Q4_Gender, dtype: int64\n",
      "*****************************\n",
      "Q7_Race_Ethnicity's feature distribution as follow'：\n",
      "Q7_Race_Ethnicity feature has 8 different values\n",
      "1     263\n",
      "3      39\n",
      "5      15\n",
      "2      14\n",
      "9       6\n",
      "10      5\n",
      "6       3\n",
      "8       1\n",
      "Name: Q7_Race_Ethnicity, dtype: int64\n"
     ]
    }
   ],
   "source": [
    "# category feature nunique distribution\n",
    "cat_fea_petcare =['Q2_Age','Q3_Sex','Q4_Gender', 'Q7_Race_Ethnicity']\n",
    "# category feature nunique distribution\n",
    "for fea in cat_fea_petcare:\n",
    "    print('*****************************')\n",
    "    print(fea + \"'s feature distribution as follow'：\")\n",
    "    print(\"{} feature has {} different values\".format(fea,df_petcare[fea].nunique()))\n",
    "    print(df_petcare[fea].value_counts())"
   ]
  },
  {
   "cell_type": "markdown",
   "id": "70834455",
   "metadata": {},
   "source": [
    "### Plot Histogram for columns"
   ]
  },
  {
   "cell_type": "code",
   "execution_count": 32,
   "id": "8130bfcc",
   "metadata": {},
   "outputs": [
    {
     "data": {
      "text/plain": [
       "<Figure size 432x288 with 0 Axes>"
      ]
     },
     "metadata": {},
     "output_type": "display_data"
    },
    {
     "data": {
      "image/png": "[encoded data removed]",
      "text/plain": [
       "<Figure size 1728x1728 with 4 Axes>"
      ]
     },
     "metadata": {
      "needs_background": "light"
     },
     "output_type": "display_data"
    }
   ],
   "source": [
    "# plot histogram to show\n",
    "plt.figure()\n",
    "plt.figure(figsize=(24, 24))\n",
    "i = 1\n",
    "for fea in cat_fea_petcare:\n",
    "        plt.subplot(3, 2, i)\n",
    "        i += 1\n",
    "        v = df_petcare[fea].value_counts().nlargest(15)\n",
    "        fig = sns.barplot(x = v.index, y = v.values)\n",
    "        for item in fig.get_xticklabels():\n",
    "            item.set_rotation(80)\n",
    "        plt.title('10 Most '+fea)\n",
    "plt.tight_layout()\n",
    "plt.show()"
   ]
  },
  {
   "cell_type": "markdown",
   "id": "ab558e99",
   "metadata": {},
   "source": [
    "**We can find that for \"Petcare\", the 30s age group(5) has the largest proportion, the second one is group(4)**\n",
    "\n",
    "**For \"Percare\", compared with other races, \"White\" is the largest**"
   ]
  },
  {
   "cell_type": "markdown",
   "id": "195ebe03",
   "metadata": {},
   "source": [
    "### Barplot"
   ]
  },
  {
   "cell_type": "code",
   "execution_count": 33,
   "id": "7fdf7437",
   "metadata": {},
   "outputs": [
    {
     "data": {
      "image/png": "[encoded data removed]",
      "text/plain": [
       "<Figure size 432x288 with 1 Axes>"
      ]
     },
     "metadata": {},
     "output_type": "display_data"
    }
   ],
   "source": [
    "Sex1_petcare = df_petcare[df_petcare['Q3_Sex'] == 1]['Q3_Sex'].value_counts()\n",
    "Sex2_petcare = df_petcare[df_petcare['Q3_Sex'] == 2]['Q3_Sex'].value_counts()\n",
    "Sex9_petcare = df_petcare[df_petcare['Q3_Sex'] == 9]['Q3_Sex'].value_counts()\n",
    "\n",
    "labels_petcare = '1','2','9'\n",
    "sizes_petcare = [Sex1_petcare.values.item(), Sex2_petcare.values.item(), Sex9_petcare.values.item()]\n",
    "explode_petcare = (0, 0, 0)  # only \"explode\" the 2nd slice (i.e. 'Hogs')\n",
    "\n",
    "fig, ax = plt.subplots()\n",
    "ax.pie(sizes_petcare, explode = explode_petcare, labels = labels_petcare, autopct='%1.1f%%',\n",
    "        shadow = True, startangle = 90)\n",
    "ax.axis('equal')  # Equal aspect ratio ensures that pie is drawn as a circle.\n",
    "plt.title(' Portions of Amount of Sex of Petcare Segment')\n",
    "plt.show()"
   ]
  },
  {
   "cell_type": "markdown",
   "id": "99206f52",
   "metadata": {},
   "source": [
    "**We can find that for Petcare, the amount of \"Male(2)\" is 53.8% which is the largest one, the amount of \"Female(1)\" is 45.4% and the amount of \"Can't tell(9)\" is 0.9%**"
   ]
  },
  {
   "cell_type": "markdown",
   "id": "1c8fea7b",
   "metadata": {},
   "source": [
    "### Compute Mean and std of Q3_Age for Petcare"
   ]
  },
  {
   "cell_type": "code",
   "execution_count": 24,
   "id": "92df9255",
   "metadata": {},
   "outputs": [
    {
     "name": "stdout",
     "output_type": "stream",
     "text": [
      "Mean of Age is 4.91 Standard deviation of Age is 1.83\n"
     ]
    }
   ],
   "source": [
    "age_mean_petcare = df_petcare['Q2_Age'].mean()\n",
    "age_mean_petcare = round(age_mean_petcare, 2)\n",
    "age_std_petcare = df_petcare['Q2_Age'].std()\n",
    "age_std_petcare = round(age_std_petcare, 2)\n",
    "print('Mean of Age is', age_mean_petcare, 'Standard deviation of Age is',age_std_petcare)"
   ]
  },
  {
   "cell_type": "markdown",
   "id": "a1335f5e",
   "metadata": {},
   "source": [
    "**we can get the average value of Q2_Age for the Petcare industry is 4.91(around 30 years old), which is smaller than Confectionary industry, the std value is 1.83**\n",
    "*****"
   ]
  },
  {
   "cell_type": "markdown",
   "id": "262c1823",
   "metadata": {},
   "source": [
    "## **Create Wrigley dataframe**"
   ]
  },
  {
   "cell_type": "code",
   "execution_count": 37,
   "id": "c909605f",
   "metadata": {},
   "outputs": [
    {
     "data": {
      "text/html": [
       "<div>\n",
       "<style scoped>\n",
       "    .dataframe tbody tr th:only-of-type {\n",
       "        vertical-align: middle;\n",
       "    }\n",
       "\n",
       "    .dataframe tbody tr th {\n",
       "        vertical-align: top;\n",
       "    }\n",
       "\n",
       "    .dataframe thead th {\n",
       "        text-align: right;\n",
       "    }\n",
       "</style>\n",
       "<table border=\"1\" class=\"dataframe\">\n",
       "  <thead>\n",
       "    <tr style=\"text-align: right;\">\n",
       "      <th></th>\n",
       "      <th>Q2_Age</th>\n",
       "      <th>Q3_Sex</th>\n",
       "      <th>Q4_Gender</th>\n",
       "      <th>Q7_Race_Ethnicity</th>\n",
       "    </tr>\n",
       "  </thead>\n",
       "  <tbody>\n",
       "    <tr>\n",
       "      <th>0</th>\n",
       "      <td>4</td>\n",
       "      <td>1</td>\n",
       "      <td>4</td>\n",
       "      <td>1</td>\n",
       "    </tr>\n",
       "    <tr>\n",
       "      <th>1</th>\n",
       "      <td>4</td>\n",
       "      <td>1</td>\n",
       "      <td>4</td>\n",
       "      <td>5</td>\n",
       "    </tr>\n",
       "    <tr>\n",
       "      <th>2</th>\n",
       "      <td>4</td>\n",
       "      <td>2</td>\n",
       "      <td>2</td>\n",
       "      <td>5</td>\n",
       "    </tr>\n",
       "    <tr>\n",
       "      <th>3</th>\n",
       "      <td>4</td>\n",
       "      <td>2</td>\n",
       "      <td>2</td>\n",
       "      <td>1</td>\n",
       "    </tr>\n",
       "    <tr>\n",
       "      <th>4</th>\n",
       "      <td>4</td>\n",
       "      <td>2</td>\n",
       "      <td>2</td>\n",
       "      <td>1</td>\n",
       "    </tr>\n",
       "  </tbody>\n",
       "</table>\n",
       "</div>"
      ],
      "text/plain": [
       "   Q2_Age  Q3_Sex  Q4_Gender  Q7_Race_Ethnicity\n",
       "0       4       1          4                  1\n",
       "1       4       1          4                  5\n",
       "2       4       2          2                  5\n",
       "3       4       2          2                  1\n",
       "4       4       2          2                  1"
      ]
     },
     "execution_count": 37,
     "metadata": {},
     "output_type": "execute_result"
    }
   ],
   "source": [
    "df_wrigley = df.loc[df['Segment'] == 'Wrigley']\n",
    "df_wrigley = df_wrigley.loc[:,['Q2_Age','Q3_Sex', 'Q4_Gender', 'Q7_Race_Ethnicity']]\n",
    "df_wrigley.reset_index(inplace = True)\n",
    "df_wrigley.drop('index' , axis = 1, inplace = True)\n",
    "df_wrigley.head()"
   ]
  },
  {
   "cell_type": "code",
   "execution_count": 38,
   "id": "fa602223",
   "metadata": {
    "scrolled": false
   },
   "outputs": [
    {
     "name": "stdout",
     "output_type": "stream",
     "text": [
      "*********************c********\n",
      "Q2_Age's feature distribution as follow'：\n",
      "Q2_Age feature has 7 different values\n",
      "4    60\n",
      "3    24\n",
      "5    23\n",
      "7     5\n",
      "6     4\n",
      "8     2\n",
      "9     1\n",
      "Name: Q2_Age, dtype: int64\n",
      "*********************c********\n",
      "Q3_Sex's feature distribution as follow'：\n",
      "Q3_Sex feature has 2 different values\n",
      "2    60\n",
      "1    59\n",
      "Name: Q3_Sex, dtype: int64\n",
      "*********************c********\n",
      "Q4_Gender's feature distribution as follow'：\n",
      "Q4_Gender feature has 3 different values\n",
      "4    59\n",
      "2    58\n",
      "1     2\n",
      "Name: Q4_Gender, dtype: int64\n",
      "*********************c********\n",
      "Q7_Race_Ethnicity's feature distribution as follow'：\n",
      "Q7_Race_Ethnicity feature has 8 different values\n",
      "1    79\n",
      "5    22\n",
      "3     7\n",
      "2     5\n",
      "8     2\n",
      "6     2\n",
      "4     1\n",
      "9     1\n",
      "Name: Q7_Race_Ethnicity, dtype: int64\n"
     ]
    }
   ],
   "source": [
    "# category feature nunique distribution\n",
    "cat_fea_wrigley =['Q2_Age','Q3_Sex','Q4_Gender','Q7_Race_Ethnicity']\n",
    "# category feature nunique distribution\n",
    "for fea in cat_fea_wrigley:\n",
    "    print('*********************c********')\n",
    "    print(fea + \"'s feature distribution as follow'：\")\n",
    "    print(\"{} feature has {} different values\".format(fea,df_wrigley[fea].nunique()))\n",
    "    print(df_wrigley[fea].value_counts())"
   ]
  },
  {
   "cell_type": "markdown",
   "id": "0afae5fb",
   "metadata": {},
   "source": [
    "### Plot Histogram"
   ]
  },
  {
   "cell_type": "code",
   "execution_count": 39,
   "id": "1e29e1d8",
   "metadata": {},
   "outputs": [
    {
     "data": {
      "text/plain": [
       "<Figure size 432x288 with 0 Axes>"
      ]
     },
     "metadata": {},
     "output_type": "display_data"
    },
    {
     "data": {
      "image/png": "[encoded data removed]",
      "text/plain": [
       "<Figure size 1728x1728 with 4 Axes>"
      ]
     },
     "metadata": {
      "needs_background": "light"
     },
     "output_type": "display_data"
    }
   ],
   "source": [
    "# plot histogram to show\n",
    "plt.figure()\n",
    "plt.figure(figsize=(24, 24))\n",
    "i = 1\n",
    "for fea in cat_fea_wrigley:\n",
    "        plt.subplot(3, 2, i)\n",
    "        i += 1\n",
    "        v = df_wrigley[fea].value_counts().nlargest(15)\n",
    "        fig = sns.barplot(x = v.index, y = v.values)\n",
    "        for item in fig.get_xticklabels():\n",
    "            item.set_rotation(80)\n",
    "        plt.title('10 Most '+fea)\n",
    "plt.tight_layout()\n",
    "plt.show()"
   ]
  },
  {
   "cell_type": "markdown",
   "id": "728acb91",
   "metadata": {},
   "source": [
    "**We can find that for Petcare, the 20s age group(4) has the largest proportion, the second one is group(3), but number of group(5) is close to group(3)**\n",
    "\n",
    "**For the gender column of Wrigley, there are small portion of \"Hyper-Masculine(1)\", the number of \"Masculine(4)\" and \"Feminine(2)\" is close, which is same as sex column**\n",
    "\n",
    "**For \"Wrigley\", compared with other races, \"White\" is the largest**"
   ]
  },
  {
   "cell_type": "markdown",
   "id": "b70d3f89",
   "metadata": {},
   "source": [
    "### BarPlot"
   ]
  },
  {
   "cell_type": "code",
   "execution_count": 28,
   "id": "d401abc7",
   "metadata": {},
   "outputs": [
    {
     "data": {
      "image/png": "[encoded data removed]",
      "text/plain": [
       "<Figure size 432x288 with 1 Axes>"
      ]
     },
     "metadata": {},
     "output_type": "display_data"
    }
   ],
   "source": [
    "Sex1_wrigley = df_wrigley[df_wrigley['Q3_Sex'] == 1]['Q3_Sex'].value_counts()\n",
    "Sex2_wrigley = df_wrigley[df_wrigley['Q3_Sex'] == 2]['Q3_Sex'].value_counts()\n",
    "\n",
    "labels_wrigley = '1','2'\n",
    "sizes_wrigley = [Sex1_wrigley.values.item(), Sex2_wrigley.values.item()]\n",
    "explode_wrigley = (0, 0)  # only \"explode\" the 2nd slice (i.e. 'Hogs')\n",
    "\n",
    "fig, ax = plt.subplots()\n",
    "ax.pie(sizes_wrigley, explode = explode_wrigley, labels = labels_wrigley, autopct='%1.1f%%',\n",
    "        shadow = True, startangle = 90)\n",
    "ax.axis('equal')  # Equal aspect ratio ensures that pie is drawn as a circle.\n",
    "plt.title(' Portions of Amount of Sex of Wrigley Segment')\n",
    "plt.show()"
   ]
  },
  {
   "cell_type": "markdown",
   "id": "3cc1fc96",
   "metadata": {},
   "source": [
    "**We can find that for Confectionary segment, the amount of male is 50.4% which is more than female 49.6%**\n",
    "\n",
    "**The number of \"males(2)\" and \"females(1)\" is basically the same**\n",
    "\n",
    "**From the four barplot for sex portions of different industry, we can conclude that the Wrigley has the smallest difference in the number of male and female**"
   ]
  },
  {
   "cell_type": "markdown",
   "id": "19eea853",
   "metadata": {},
   "source": [
    "### Compute Mean and std of Q3_Age for Petcare"
   ]
  },
  {
   "cell_type": "code",
   "execution_count": 29,
   "id": "2649b902",
   "metadata": {},
   "outputs": [
    {
     "name": "stdout",
     "output_type": "stream",
     "text": [
      "Mean of Age is 4.29 Standard deviation of Age is 1.15\n"
     ]
    }
   ],
   "source": [
    "age_mean_wrigley = df_wrigley['Q2_Age'].mean()\n",
    "age_mean_wrigley = round(age_mean_wrigley, 2)\n",
    "age_std_wrigley = df_wrigley['Q2_Age'].std()\n",
    "age_std_wrigley = round(age_std_wrigley, 2)\n",
    "print('Mean of Age is', age_mean_wrigley, 'Standard deviation of Age is',age_std_wrigley)"
   ]
  },
  {
   "cell_type": "markdown",
   "id": "ad28c44d",
   "metadata": {},
   "source": [
    "**we can get the average value of Q2_Age for the Wrigley industry is 4.29(around 25 years old), which is smaller than Confectionary and Petcare and bigger than Food, the std value is 1.15, means the age distribution is relatively concentrated**\n",
    "*****"
   ]
  },
  {
   "cell_type": "markdown",
   "id": "3e7df993",
   "metadata": {},
   "source": [
    "## **Create Food dataframe**"
   ]
  },
  {
   "cell_type": "code",
   "execution_count": 40,
   "id": "747a872a",
   "metadata": {},
   "outputs": [
    {
     "data": {
      "text/html": [
       "<div>\n",
       "<style scoped>\n",
       "    .dataframe tbody tr th:only-of-type {\n",
       "        vertical-align: middle;\n",
       "    }\n",
       "\n",
       "    .dataframe tbody tr th {\n",
       "        vertical-align: top;\n",
       "    }\n",
       "\n",
       "    .dataframe thead th {\n",
       "        text-align: right;\n",
       "    }\n",
       "</style>\n",
       "<table border=\"1\" class=\"dataframe\">\n",
       "  <thead>\n",
       "    <tr style=\"text-align: right;\">\n",
       "      <th></th>\n",
       "      <th>Q2_Age</th>\n",
       "      <th>Q3_Sex</th>\n",
       "      <th>Q4_Gender</th>\n",
       "      <th>Q7_Race_Ethnicity</th>\n",
       "    </tr>\n",
       "  </thead>\n",
       "  <tbody>\n",
       "    <tr>\n",
       "      <th>0</th>\n",
       "      <td>4</td>\n",
       "      <td>1</td>\n",
       "      <td>10</td>\n",
       "      <td>1</td>\n",
       "    </tr>\n",
       "    <tr>\n",
       "      <th>1</th>\n",
       "      <td>4</td>\n",
       "      <td>1</td>\n",
       "      <td>10</td>\n",
       "      <td>1</td>\n",
       "    </tr>\n",
       "    <tr>\n",
       "      <th>2</th>\n",
       "      <td>4</td>\n",
       "      <td>1</td>\n",
       "      <td>10</td>\n",
       "      <td>1</td>\n",
       "    </tr>\n",
       "    <tr>\n",
       "      <th>3</th>\n",
       "      <td>4</td>\n",
       "      <td>2</td>\n",
       "      <td>10</td>\n",
       "      <td>1</td>\n",
       "    </tr>\n",
       "    <tr>\n",
       "      <th>4</th>\n",
       "      <td>4</td>\n",
       "      <td>2</td>\n",
       "      <td>10</td>\n",
       "      <td>1</td>\n",
       "    </tr>\n",
       "  </tbody>\n",
       "</table>\n",
       "</div>"
      ],
      "text/plain": [
       "   Q2_Age  Q3_Sex  Q4_Gender  Q7_Race_Ethnicity\n",
       "0       4       1         10                  1\n",
       "1       4       1         10                  1\n",
       "2       4       1         10                  1\n",
       "3       4       2         10                  1\n",
       "4       4       2         10                  1"
      ]
     },
     "execution_count": 40,
     "metadata": {},
     "output_type": "execute_result"
    }
   ],
   "source": [
    "df_food = df.loc[df['Segment'] == 'Food']\n",
    "df_food = df_food.loc[:,['Q2_Age','Q3_Sex', 'Q4_Gender', 'Q7_Race_Ethnicity']]\n",
    "df_food.reset_index(inplace = True)\n",
    "df_food.drop('index', axis = 1, inplace = True)\n",
    "df_food.head()"
   ]
  },
  {
   "cell_type": "code",
   "execution_count": 41,
   "id": "1b3f122f",
   "metadata": {},
   "outputs": [
    {
     "name": "stdout",
     "output_type": "stream",
     "text": [
      "*****************************\n",
      "Q2_Age's feature distribution as follow'：\n",
      "Q2_Age feature has 10 different values\n",
      "4     31\n",
      "5     20\n",
      "1     18\n",
      "6     11\n",
      "3      4\n",
      "2      4\n",
      "8      2\n",
      "9      1\n",
      "7      1\n",
      "11     1\n",
      "Name: Q2_Age, dtype: int64\n",
      "*****************************\n",
      "Q3_Sex's feature distribution as follow'：\n",
      "Q3_Sex feature has 2 different values\n",
      "2    47\n",
      "1    46\n",
      "Name: Q3_Sex, dtype: int64\n",
      "*****************************\n",
      "Q4_Gender's feature distribution as follow'：\n",
      "Q4_Gender feature has 3 different values\n",
      "10    43\n",
      "4     26\n",
      "2     24\n",
      "Name: Q4_Gender, dtype: int64\n",
      "*****************************\n",
      "Q7_Race_Ethnicity's feature distribution as follow'：\n",
      "Q7_Race_Ethnicity feature has 6 different values\n",
      "1    53\n",
      "3    20\n",
      "2     8\n",
      "9     7\n",
      "4     3\n",
      "5     2\n",
      "Name: Q7_Race_Ethnicity, dtype: int64\n"
     ]
    }
   ],
   "source": [
    "# category feature nunique distribution\n",
    "cat_fea_food =['Q2_Age','Q3_Sex','Q4_Gender', 'Q7_Race_Ethnicity']\n",
    "# category feature nunique distribution\n",
    "for fea in cat_fea_food:\n",
    "    print('*****************************')\n",
    "    print(fea + \"'s feature distribution as follow'：\")\n",
    "    print(\"{} feature has {} different values\".format(fea,df_food[fea].nunique()))\n",
    "    print(df_food[fea].value_counts())"
   ]
  },
  {
   "cell_type": "markdown",
   "id": "7e830080",
   "metadata": {},
   "source": [
    "### Plot Histogram"
   ]
  },
  {
   "cell_type": "code",
   "execution_count": 42,
   "id": "e4e11f5e",
   "metadata": {},
   "outputs": [
    {
     "data": {
      "text/plain": [
       "<Figure size 432x288 with 0 Axes>"
      ]
     },
     "metadata": {},
     "output_type": "display_data"
    },
    {
     "data": {
      "image/png": "[encoded data removed]",
      "text/plain": [
       "<Figure size 1728x1728 with 4 Axes>"
      ]
     },
     "metadata": {
      "needs_background": "light"
     },
     "output_type": "display_data"
    }
   ],
   "source": [
    "# plot histogram to show\n",
    "plt.figure()\n",
    "plt.figure(figsize=(24, 24))\n",
    "i = 1\n",
    "for fea in cat_fea_food:\n",
    "        plt.subplot(3, 2, i)\n",
    "        i += 1\n",
    "        v = df_food[fea].value_counts().nlargest(15)\n",
    "        fig = sns.barplot(x = v.index, y = v.values)\n",
    "        for item in fig.get_xticklabels():\n",
    "            item.set_rotation(80)\n",
    "        plt.title('10 Most '+fea)\n",
    "plt.tight_layout()\n",
    "plt.show()"
   ]
  },
  {
   "cell_type": "markdown",
   "id": "737b32df",
   "metadata": {},
   "source": [
    "**We can find that for Petcare, the 20s age group(4) has the largest proportion, the second one is group(5), and the number of group(1) is close to group(5)**\n",
    "\n",
    "**For the gender column of Wrigley, there are large portion of \"Not Applicable(10)\", the number of \"Masculine(4)\" and \"Feminine(2)\" is close, which is same as sex column**\n",
    "\n",
    "**For \"Food\", compared with other races, \"White\" is the largest**"
   ]
  },
  {
   "cell_type": "markdown",
   "id": "aedea684",
   "metadata": {},
   "source": [
    "### Barplot"
   ]
  },
  {
   "cell_type": "code",
   "execution_count": 33,
   "id": "855de258",
   "metadata": {},
   "outputs": [
    {
     "data": {
      "image/png": "[encoded data removed]",
      "text/plain": [
       "<Figure size 432x288 with 1 Axes>"
      ]
     },
     "metadata": {},
     "output_type": "display_data"
    }
   ],
   "source": [
    "Sex1_food = df_food[df_food['Q3_Sex'] == 1]['Q3_Sex'].value_counts()\n",
    "Sex2_food = df_food[df_food['Q3_Sex'] == 2]['Q3_Sex'].value_counts()\n",
    "\n",
    "labels_food = '1','2'\n",
    "sizes_food = [Sex1_food.values.item(), Sex2_food.values.item()]\n",
    "explode_food = (0, 0)  # only \"explode\" the 2nd slice (i.e. 'Hogs')\n",
    "\n",
    "fig, ax = plt.subplots()\n",
    "ax.pie(sizes_food, explode = explode_food, labels = labels_food, autopct='%1.1f%%',\n",
    "        shadow = True, startangle = 90)\n",
    "ax.axis('equal')  # Equal aspect ratio ensures that pie is drawn as a circle.\n",
    "plt.title(' Portions of Amount of Sex of Food Segment')\n",
    "plt.show()"
   ]
  },
  {
   "cell_type": "markdown",
   "id": "7575ac88",
   "metadata": {},
   "source": [
    "**We can find that for Confectionary segment, the amount of \"Male(2)\" is 50.5% which is more than \"Female(1)\" 49.5%**\n",
    "\n",
    "**The number of \"Male(2)\" and \"Female(1)\" is basically the same**"
   ]
  },
  {
   "cell_type": "markdown",
   "id": "9293141b",
   "metadata": {},
   "source": [
    "### Compute Mean and std of Q3_Age for Petcare"
   ]
  },
  {
   "cell_type": "code",
   "execution_count": 34,
   "id": "b9418dec",
   "metadata": {},
   "outputs": [
    {
     "name": "stdout",
     "output_type": "stream",
     "text": [
      "Mean of Age is 3.99 Standard deviation of Age is 1.98\n"
     ]
    }
   ],
   "source": [
    "age_mean_food = df_food['Q2_Age'].mean()\n",
    "age_mean_food = round(age_mean_food, 2)\n",
    "age_std_food = df_food['Q2_Age'].std()\n",
    "age_std_food = round(age_std_food, 2)\n",
    "print('Mean of Age is', age_mean_food, 'Standard deviation of Age is',age_std_food)"
   ]
  },
  {
   "cell_type": "markdown",
   "id": "744b7100",
   "metadata": {},
   "source": [
    "**we can get the average value of Q2_Age for the Food industry is 3.99(around 20 years old), which is smallest among these four industry, the std value is 1.98, means the age distribution is not relatively concentrated**\n",
    "\n",
    "**We can conclude that the the average age of the Food is the youngest**\n",
    "****"
   ]
  }
 ],
 "metadata": {
  "kernelspec": {
   "display_name": "Python 3 (ipykernel)",
   "language": "python",
   "name": "python3"
  },
  "language_info": {
   "codemirror_mode": {
    "name": "ipython",
    "version": 3
   },
   "file_extension": ".py",
   "mimetype": "text/x-python",
   "name": "python",
   "nbconvert_exporter": "python",
   "pygments_lexer": "ipython3",
   "version": "3.9.7"
  }
 },
 "nbformat": 4,
 "nbformat_minor": 5
}

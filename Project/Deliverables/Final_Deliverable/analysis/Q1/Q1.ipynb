{
 "cells": [
  {
   "cell_type": "code",
   "execution_count": 134,
   "id": "78c33300",
   "metadata": {},
   "outputs": [],
   "source": [
    "import numpy as np\n",
    "import pandas as pd\n",
    "import warnings\n",
    "warnings.filterwarnings(\"ignore\")\n",
    "import matplotlib.pyplot as plt\n",
    "import seaborn as sns"
   ]
  },
  {
   "cell_type": "markdown",
   "id": "95a65b72",
   "metadata": {},
   "source": [
    "## Analysis whole data set"
   ]
  },
  {
   "cell_type": "code",
   "execution_count": 135,
   "id": "e7bc1cff",
   "metadata": {},
   "outputs": [],
   "source": [
    "df = pd.read_csv(\"Merged_Preprocessed_Mars2020_2021.csv\")"
   ]
  },
  {
   "cell_type": "markdown",
   "id": "b6bbf245",
   "metadata": {},
   "source": [
    "**Show all columns**"
   ]
  },
  {
   "cell_type": "code",
   "execution_count": 136,
   "id": "db43b79b",
   "metadata": {},
   "outputs": [
    {
     "data": {
      "text/plain": [
       "Index(['Coder', 'Asset_Name', 'Brand', 'Lead_Country', 'Year_Produced',\n",
       "       'Year_Aired', 'Segment', 'Agency', 'Character_Name',\n",
       "       'Character_Description', 'Prominence', 'Animated', 'Animated Specify',\n",
       "       'Gender', 'Trans', 'Race', 'Race Other/Specify', 'API', 'Skin tone',\n",
       "       'Sexual Orientation', 'Queer', 'Age', 'Disabled', 'Disability Specify',\n",
       "       'Body Type', 'Shopping', 'Driving', 'Cleaning', 'Cooking', 'Working',\n",
       "       'Socializing', 'Nothing', 'EatingDrinking', 'Exercising',\n",
       "       'Other Activity', 'Activity Other Specify', 'Kitchen', 'Office', 'Car',\n",
       "       'Store', 'Outdoors', 'Living Room', 'Restaurant/Bar', 'Gym', 'Bedroom',\n",
       "       'Bathroom', 'Sporting Event', 'Classroom', 'Setting Other',\n",
       "       'Other Setting Specify', 'Revealing Clothing', 'Nudity',\n",
       "       'Visually Objectified', 'Verbally Objectified', 'Intelligent', 'Funny',\n",
       "       'Occupation', 'Leader', 'Authority', 'Q27a_Disordered_Eating',\n",
       "       'Q27b_Selfy_injury', 'Q27c_NegativeTalk', 'Q27d_Body_Modification',\n",
       "       'Q28a_Visual_Shame', 'Q28b_Verbal_Shame', 'Q28c_Sizeist_Slurs',\n",
       "       'Q28d_Punchline', 'Q28e_Denied_Personal_Opportunity',\n",
       "       'Q28f_Denied_Professional_Opportunity', 'Q28g_Other_Prejudice',\n",
       "       'Q28g_Prejudice_Other_Specify', 'Q29a_Lazy', 'Q29b_Physically_Slow',\n",
       "       'Q29c_Stupid', 'Q29d_Loser', 'Q29e_Inactive', 'Q29f_Poorly_Dressed',\n",
       "       'Q29g_Funny', 'Q29h_Jolly', 'Q29i_Clumsy', 'Q29j_Alone',\n",
       "       'Q30a_Comic_Relief', 'Q30b_Sidekick', 'Q30c_Mamma_Hen', 'Q30d_Nympho',\n",
       "       'Q31_Fat_to_Fit', 'Q32_Inspo_Porn', 'Q31_NOTES', 'Notes on Dwelling'],\n",
       "      dtype='object')"
      ]
     },
     "execution_count": 136,
     "metadata": {},
     "output_type": "execute_result"
    }
   ],
   "source": [
    "df.columns"
   ]
  },
  {
   "cell_type": "markdown",
   "id": "60b9aa62",
   "metadata": {},
   "source": [
    "**Seperate to four dataframe of different columns**"
   ]
  },
  {
   "cell_type": "code",
   "execution_count": 137,
   "id": "98a42669",
   "metadata": {},
   "outputs": [],
   "source": [
    "segment_col = df[['Segment']]\n",
    "\n",
    "age_col = df[['Age','Segment']]\n",
    "\n",
    "sex_col = df[['Gender','Segment']]\n",
    "\n",
    "# gender_col = df[['Q4_Gender','Segment']]"
   ]
  },
  {
   "cell_type": "code",
   "execution_count": 138,
   "id": "4e45b88b",
   "metadata": {},
   "outputs": [],
   "source": [
    "# add more columns\n",
    "race_col = df[['Segment','Race']]\n",
    "race_col_2 = df[['Segment','Race Other/Specify']]\n",
    "# race_segment = df.groupby('room_type', as_index=False)"
   ]
  },
  {
   "cell_type": "markdown",
   "id": "0d4d876a",
   "metadata": {},
   "source": [
    "**category feature nunique distribution**"
   ]
  },
  {
   "cell_type": "code",
   "execution_count": 139,
   "id": "fd03dfd0",
   "metadata": {},
   "outputs": [
    {
     "name": "stdout",
     "output_type": "stream",
     "text": [
      "*****************************\n",
      "Segment's feature distribution as follow'：\n",
      "Segment feature has 4 different values\n",
      "Confectionary    729\n",
      "Petcare          346\n",
      "Wrigley          119\n",
      "Food              93\n",
      "Name: Segment, dtype: int64\n",
      "*****************************\n",
      "Age's feature distribution as follow'：\n",
      "Age feature has 8 different values\n",
      "3      428\n",
      "4      283\n",
      "5      152\n",
      "2      140\n",
      "999    117\n",
      "6       68\n",
      "1       56\n",
      "7       43\n",
      "Name: Age, dtype: int64\n",
      "*****************************\n",
      "Gender's feature distribution as follow'：\n",
      "Gender feature has 3 different values\n",
      "1      760\n",
      "2      524\n",
      "888      3\n",
      "Name: Gender, dtype: int64\n",
      "*****************************\n",
      "Race's feature distribution as follow'：\n",
      "Race feature has 9 different values\n",
      "1      705\n",
      "3      216\n",
      "999    113\n",
      "2      107\n",
      "4       86\n",
      "6       28\n",
      "888     21\n",
      "8        6\n",
      "5        5\n",
      "Name: Race, dtype: int64\n"
     ]
    }
   ],
   "source": [
    "# classify feature\n",
    "cat_fea =['Segment','Age','Gender','Race']\n",
    "# category feature nunique distribution\n",
    "for fea in cat_fea:\n",
    "    print('*****************************')\n",
    "    print(fea + \"'s feature distribution as follow'：\")\n",
    "    print(\"{} feature has {} different values\".format(fea,df[fea].nunique()))\n",
    "    print(df[fea].value_counts())"
   ]
  },
  {
   "cell_type": "markdown",
   "id": "5d44493e",
   "metadata": {},
   "source": [
    "### Observation for entire dataset\n",
    "**For Segment column, we can see the 'confectionary' accounts for half of the total data volume of Segment column**\n",
    "\n",
    "**For Age column, most value are 3, which is the age of 20-29 year olds**\n",
    "\n",
    "**For Race column, we find that value \"1\"(\"White\") is the largest, the second one and thrid one are \"3\"(\"Asian/Asian American\") and \"999\"(\"Not Applicable\").** \n",
    "\n",
    "**We can find that the number of whites is greater than the sum of the numbers of all other races**"
   ]
  },
  {
   "cell_type": "markdown",
   "id": "daacab1e",
   "metadata": {},
   "source": [
    "\n",
    "******\n",
    "### Question :\n",
    "### Are there industry differences in representation in advertisements?\n",
    "### “industry” refers to the “Segment” column, and “representation” refers to all the question columns. "
   ]
  },
  {
   "cell_type": "code",
   "execution_count": 140,
   "id": "b882cfbd",
   "metadata": {},
   "outputs": [],
   "source": [
    "industry = segment_col"
   ]
  },
  {
   "cell_type": "code",
   "execution_count": 141,
   "id": "4f9b8671",
   "metadata": {},
   "outputs": [
    {
     "data": {
      "text/html": [
       "<div>\n",
       "<style scoped>\n",
       "    .dataframe tbody tr th:only-of-type {\n",
       "        vertical-align: middle;\n",
       "    }\n",
       "\n",
       "    .dataframe tbody tr th {\n",
       "        vertical-align: top;\n",
       "    }\n",
       "\n",
       "    .dataframe thead th {\n",
       "        text-align: right;\n",
       "    }\n",
       "</style>\n",
       "<table border=\"1\" class=\"dataframe\">\n",
       "  <thead>\n",
       "    <tr style=\"text-align: right;\">\n",
       "      <th></th>\n",
       "      <th>Segment</th>\n",
       "    </tr>\n",
       "  </thead>\n",
       "  <tbody>\n",
       "    <tr>\n",
       "      <th>count</th>\n",
       "      <td>1287</td>\n",
       "    </tr>\n",
       "    <tr>\n",
       "      <th>unique</th>\n",
       "      <td>4</td>\n",
       "    </tr>\n",
       "    <tr>\n",
       "      <th>top</th>\n",
       "      <td>Confectionary</td>\n",
       "    </tr>\n",
       "    <tr>\n",
       "      <th>freq</th>\n",
       "      <td>729</td>\n",
       "    </tr>\n",
       "  </tbody>\n",
       "</table>\n",
       "</div>"
      ],
      "text/plain": [
       "              Segment\n",
       "count            1287\n",
       "unique              4\n",
       "top     Confectionary\n",
       "freq              729"
      ]
     },
     "execution_count": 141,
     "metadata": {},
     "output_type": "execute_result"
    }
   ],
   "source": [
    "industry.describe()"
   ]
  },
  {
   "cell_type": "markdown",
   "id": "a98e8e03",
   "metadata": {},
   "source": [
    "### Specific examples of how to interpret the questions could be: Are there segment differences in different ages?"
   ]
  },
  {
   "cell_type": "markdown",
   "id": "eb0559f4",
   "metadata": {},
   "source": [
    "### Industry differences of the Age column"
   ]
  },
  {
   "cell_type": "code",
   "execution_count": 142,
   "id": "7aa1001d",
   "metadata": {},
   "outputs": [
    {
     "data": {
      "text/html": [
       "<div>\n",
       "<style scoped>\n",
       "    .dataframe tbody tr th:only-of-type {\n",
       "        vertical-align: middle;\n",
       "    }\n",
       "\n",
       "    .dataframe tbody tr th {\n",
       "        vertical-align: top;\n",
       "    }\n",
       "\n",
       "    .dataframe thead th {\n",
       "        text-align: right;\n",
       "    }\n",
       "</style>\n",
       "<table border=\"1\" class=\"dataframe\">\n",
       "  <thead>\n",
       "    <tr style=\"text-align: right;\">\n",
       "      <th></th>\n",
       "      <th>Age</th>\n",
       "      <th>Segment</th>\n",
       "    </tr>\n",
       "  </thead>\n",
       "  <tbody>\n",
       "    <tr>\n",
       "      <th>0</th>\n",
       "      <td>4</td>\n",
       "      <td>Confectionary</td>\n",
       "    </tr>\n",
       "    <tr>\n",
       "      <th>1</th>\n",
       "      <td>3</td>\n",
       "      <td>Confectionary</td>\n",
       "    </tr>\n",
       "    <tr>\n",
       "      <th>2</th>\n",
       "      <td>7</td>\n",
       "      <td>Confectionary</td>\n",
       "    </tr>\n",
       "    <tr>\n",
       "      <th>3</th>\n",
       "      <td>2</td>\n",
       "      <td>Confectionary</td>\n",
       "    </tr>\n",
       "    <tr>\n",
       "      <th>4</th>\n",
       "      <td>2</td>\n",
       "      <td>Confectionary</td>\n",
       "    </tr>\n",
       "  </tbody>\n",
       "</table>\n",
       "</div>"
      ],
      "text/plain": [
       "   Age        Segment\n",
       "0    4  Confectionary\n",
       "1    3  Confectionary\n",
       "2    7  Confectionary\n",
       "3    2  Confectionary\n",
       "4    2  Confectionary"
      ]
     },
     "execution_count": 142,
     "metadata": {},
     "output_type": "execute_result"
    }
   ],
   "source": [
    "age_col.head()"
   ]
  },
  {
   "cell_type": "code",
   "execution_count": 143,
   "id": "f6fba91a",
   "metadata": {},
   "outputs": [
    {
     "name": "stdout",
     "output_type": "stream",
     "text": [
      "Age = 1\n",
      "Petcare          25\n",
      "Food             18\n",
      "Confectionary    13\n",
      "Name: Segment, dtype: int64\n",
      "\n",
      "Age = 2\n",
      "Confectionary    89\n",
      "Wrigley          24\n",
      "Petcare          19\n",
      "Food              8\n",
      "Name: Segment, dtype: int64\n",
      "\n",
      "Age = 3\n",
      "Confectionary    246\n",
      "Petcare           91\n",
      "Wrigley           60\n",
      "Food              31\n",
      "Name: Segment, dtype: int64\n",
      "\n",
      "Age = 4\n",
      "Confectionary    134\n",
      "Petcare          106\n",
      "Wrigley           23\n",
      "Food              20\n",
      "Name: Segment, dtype: int64\n",
      "\n",
      "Age = 5\n",
      "Confectionary    85\n",
      "Petcare          52\n",
      "Food             11\n",
      "Wrigley           4\n",
      "Name: Segment, dtype: int64\n",
      "\n",
      "Age = 6\n",
      "Confectionary    38\n",
      "Petcare          24\n",
      "Wrigley           5\n",
      "Food              1\n",
      "Name: Segment, dtype: int64\n",
      "\n",
      "Age = 7\n",
      "Petcare          22\n",
      "Confectionary    17\n",
      "Food              2\n",
      "Wrigley           2\n",
      "Name: Segment, dtype: int64\n",
      "\n",
      "Age = 8\n",
      "Series([], Name: Segment, dtype: int64)\n",
      "\n"
     ]
    }
   ],
   "source": [
    "for i in range(1,9):\n",
    "    df_age = age_col.loc[age_col['Age'] == i]\n",
    "    print('Age =',i)\n",
    "    print(df_age['Segment'].value_counts())\n",
    "    print()"
   ]
  },
  {
   "cell_type": "markdown",
   "id": "aad00b87",
   "metadata": {},
   "source": [
    "### Observation for Age:\n",
    "\n",
    "**We can find that among the Age=1, the Petcare is the most**\n",
    "\n",
    "**With the increasing of the age, more people are in the \"Confectionary\" industry, but when Age = 7 the Petcare is greater than Confectionary**\n",
    "\n",
    "**And by the statistics, we observe that the largest amount of data are in the \"Confectionary\" industry**\n",
    "\n",
    "**And someone don't tell or are unwilling to disclose the information of age**"
   ]
  },
  {
   "cell_type": "markdown",
   "id": "4e139ff7",
   "metadata": {},
   "source": [
    "### Industry differences of the Gender column"
   ]
  },
  {
   "cell_type": "code",
   "execution_count": 144,
   "id": "a5d6db39",
   "metadata": {},
   "outputs": [
    {
     "name": "stdout",
     "output_type": "stream",
     "text": [
      "Gender = 1\n",
      "Confectionary    467\n",
      "Petcare          186\n",
      "Wrigley           60\n",
      "Food              47\n",
      "Name: Segment, dtype: int64\n",
      "\n",
      "Gender = 2\n",
      "Confectionary    262\n",
      "Petcare          157\n",
      "Wrigley           59\n",
      "Food              46\n",
      "Name: Segment, dtype: int64\n",
      "\n",
      "Gender = 3\n",
      "Series([], Name: Segment, dtype: int64)\n",
      "\n",
      "Gender = 888\n",
      "Petcare    3\n",
      "Name: Segment, dtype: int64\n",
      "\n",
      "Gender = 999\n",
      "Series([], Name: Segment, dtype: int64)\n",
      "\n"
     ]
    }
   ],
   "source": [
    "sex_list = [1,2,3,888,999]\n",
    "for i in sex_list:\n",
    "    df_sex = sex_col.loc[sex_col['Gender'] == i]\n",
    "    print('Gender =',i)\n",
    "    print(df_sex['Segment'].value_counts())\n",
    "    print()"
   ]
  },
  {
   "cell_type": "markdown",
   "id": "3dbd2340",
   "metadata": {},
   "source": [
    "### Observation for Gender:\n",
    "\n",
    "**We can find that among the Gender = 1 which is \"Man\", the \"Confectionary\" is the most, \"Food\" is the smallest**\n",
    "\n",
    "**We can find that among the Gender = 2 which is \"Woman\", the \"Confectionary\" is the most, \"Food\" is the smallest**\n",
    "\n",
    "**We can find that among the Gender = 888 which is \"Can't tell\", there is only Petcare**\n",
    "\n",
    "**And by the statistics, we observe that the largest amount of data are in the \"Confectionary\" industry**\n",
    "\n",
    "**And some of people can not tell their gender**"
   ]
  },
  {
   "cell_type": "markdown",
   "id": "2f024dfe",
   "metadata": {},
   "source": [
    "### Deliverable 2 - Industry differences of the Race column"
   ]
  },
  {
   "cell_type": "code",
   "execution_count": 145,
   "id": "54bc6c5c",
   "metadata": {},
   "outputs": [
    {
     "name": "stdout",
     "output_type": "stream",
     "text": [
      "Race = 1\n",
      "Confectionary    310\n",
      "Petcare          263\n",
      "Wrigley           79\n",
      "Food              53\n",
      "Name: Segment, dtype: int64\n",
      "\n",
      "Race = 2\n",
      "Confectionary    41\n",
      "Petcare          39\n",
      "Food             20\n",
      "Wrigley           7\n",
      "Name: Segment, dtype: int64\n",
      "\n",
      "Race = 3\n",
      "Confectionary    177\n",
      "Wrigley           22\n",
      "Petcare           15\n",
      "Food               2\n",
      "Name: Segment, dtype: int64\n",
      "\n",
      "Race = 4\n",
      "Confectionary    59\n",
      "Petcare          14\n",
      "Food              8\n",
      "Wrigley           5\n",
      "Name: Segment, dtype: int64\n",
      "\n",
      "Race = 5\n",
      "Food             3\n",
      "Confectionary    1\n",
      "Wrigley          1\n",
      "Name: Segment, dtype: int64\n",
      "\n",
      "Race = 6\n",
      "Confectionary    23\n",
      "Petcare           3\n",
      "Wrigley           2\n",
      "Name: Segment, dtype: int64\n",
      "\n",
      "Race = 7\n",
      "Series([], Name: Segment, dtype: int64)\n",
      "\n",
      "Race = 8\n",
      "Confectionary    3\n",
      "Wrigley          2\n",
      "Petcare          1\n",
      "Name: Segment, dtype: int64\n",
      "\n",
      "Race = 888\n",
      "Confectionary    7\n",
      "Food             7\n",
      "Petcare          6\n",
      "Wrigley          1\n",
      "Name: Segment, dtype: int64\n",
      "\n",
      "Race = 999\n",
      "Confectionary    108\n",
      "Petcare            5\n",
      "Name: Segment, dtype: int64\n",
      "\n"
     ]
    }
   ],
   "source": [
    "race_list = [1,2,3,4,5,6,7,8,888,999]\n",
    "for i in race_list:\n",
    "    df_race = race_col.loc[race_col['Race'] == i]\n",
    "    print('Race =',i)\n",
    "    print(df_race['Segment'].value_counts())\n",
    "    print()"
   ]
  },
  {
   "cell_type": "markdown",
   "id": "1495aab4",
   "metadata": {},
   "source": [
    "### Observation for Race:\n",
    "\n",
    "**We can find that among the Race = 1(\"White\"), the number of \"Confectionary\" is 310 and \"Petcare \" is 263 which are far more than \"Wrigley\" and \"Food\" industry. Majority of \"White\" work in these two industries**\n",
    "\n",
    "**We can find that among the Race = 2(\"Black\"), the \"Confectionary\" is also higher than other industries, each industry has \"Black\". The portion of \"Petcare\" for \"Black\" is the highest comparing with other ethnicities**\n",
    "\n",
    "**We can find that among the Race = 3(\"Asian/Asian American\"), there are very high number of people working in \"Confectionary\" industry.**\n",
    "\n",
    "**We can find that among the Race = 4(\"Latinx\"), the \"Confectionary\" is much higher than other industries.**\n",
    "\n",
    "**We can find that among the Race = 5(\"Native\"), there are small amount of data**\n",
    "\n",
    "**We can find that among the Race = 6(\"Middle Eastern\"), no one is in the \"Food\" industry. The ratio of \"Confectionary\" among industries for \"Asian\" is the highest comparing with other ethnicities**\n",
    "\n",
    "**We can find that among the Race = 7(\"Multi-racial (only if you know for certain)\"), there are no data**\n",
    "\n",
    "**We can find that among the Race = 8(\"Non-white, but cannot tell specific race\"), there are small amount of data, the number of \"Confectionary\" is 3, for \"Petcare\" is 2, for \"Wrigley\" is 1, no one is in \"Food\" industry**\n",
    "\n",
    "**We can find that among the Race = 888(\"Can’t tell\"), number of data is relatively small, the number of people for \"Confectionary\" and \"Food\" is same.**\n",
    "\n",
    "**We can find that among the Race = 999(\"Not Applicable\"), the \"Confectionary\" is higher than other industries, people are only in \"Confectionary\" and \"Food\" industry**\n",
    "\n",
    "**By the statistics, we observe that the largest amount of data whatever their race are in the \"Confectionary\" industry**\n",
    "\n",
    "**And many of people are \"Not Applicable\" of Race in \"Confectionary\" and \"Food\"**"
   ]
  },
  {
   "cell_type": "markdown",
   "id": "4a7675dc",
   "metadata": {},
   "source": [
    "****"
   ]
  },
  {
   "cell_type": "markdown",
   "id": "482dfbf6",
   "metadata": {},
   "source": [
    "### Try different way to answer the question, separate four different segments to different dataframes\n",
    "### For Deliverable 2, add \"Race\" column"
   ]
  },
  {
   "cell_type": "markdown",
   "id": "abec5d4f",
   "metadata": {},
   "source": [
    "### **Create confectionary dataframe**"
   ]
  },
  {
   "cell_type": "code",
   "execution_count": 146,
   "id": "7640aa88",
   "metadata": {},
   "outputs": [
    {
     "data": {
      "text/html": [
       "<div>\n",
       "<style scoped>\n",
       "    .dataframe tbody tr th:only-of-type {\n",
       "        vertical-align: middle;\n",
       "    }\n",
       "\n",
       "    .dataframe tbody tr th {\n",
       "        vertical-align: top;\n",
       "    }\n",
       "\n",
       "    .dataframe thead th {\n",
       "        text-align: right;\n",
       "    }\n",
       "</style>\n",
       "<table border=\"1\" class=\"dataframe\">\n",
       "  <thead>\n",
       "    <tr style=\"text-align: right;\">\n",
       "      <th></th>\n",
       "      <th>Age</th>\n",
       "      <th>Gender</th>\n",
       "      <th>Race</th>\n",
       "    </tr>\n",
       "  </thead>\n",
       "  <tbody>\n",
       "    <tr>\n",
       "      <th>0</th>\n",
       "      <td>4</td>\n",
       "      <td>1</td>\n",
       "      <td>3</td>\n",
       "    </tr>\n",
       "    <tr>\n",
       "      <th>1</th>\n",
       "      <td>3</td>\n",
       "      <td>1</td>\n",
       "      <td>3</td>\n",
       "    </tr>\n",
       "    <tr>\n",
       "      <th>2</th>\n",
       "      <td>7</td>\n",
       "      <td>1</td>\n",
       "      <td>3</td>\n",
       "    </tr>\n",
       "    <tr>\n",
       "      <th>3</th>\n",
       "      <td>2</td>\n",
       "      <td>1</td>\n",
       "      <td>3</td>\n",
       "    </tr>\n",
       "    <tr>\n",
       "      <th>4</th>\n",
       "      <td>2</td>\n",
       "      <td>2</td>\n",
       "      <td>3</td>\n",
       "    </tr>\n",
       "  </tbody>\n",
       "</table>\n",
       "</div>"
      ],
      "text/plain": [
       "   Age  Gender  Race\n",
       "0    4       1     3\n",
       "1    3       1     3\n",
       "2    7       1     3\n",
       "3    2       1     3\n",
       "4    2       2     3"
      ]
     },
     "execution_count": 146,
     "metadata": {},
     "output_type": "execute_result"
    }
   ],
   "source": [
    "df_confectionary = df.loc[df['Segment'] == 'Confectionary']\n",
    "df_confectionary = df_confectionary.loc[:,['Age','Gender', 'Race']]\n",
    "df_confectionary.reset_index(inplace = True)\n",
    "df_confectionary.drop('index', axis = 1, inplace = True)\n",
    "df_confectionary.head()"
   ]
  },
  {
   "cell_type": "markdown",
   "id": "63d88fe9",
   "metadata": {},
   "source": [
    "### category feature nunique distribution"
   ]
  },
  {
   "cell_type": "code",
   "execution_count": 147,
   "id": "cbb4885d",
   "metadata": {},
   "outputs": [
    {
     "name": "stdout",
     "output_type": "stream",
     "text": [
      "*****************************\n",
      "Age's feature distribution as follow'：\n",
      "Age feature has 8 different values\n",
      "3      246\n",
      "4      134\n",
      "999    107\n",
      "2       89\n",
      "5       85\n",
      "6       38\n",
      "7       17\n",
      "1       13\n",
      "Name: Age, dtype: int64\n",
      "*****************************\n",
      "Gender's feature distribution as follow'：\n",
      "Gender feature has 2 different values\n",
      "1    467\n",
      "2    262\n",
      "Name: Gender, dtype: int64\n",
      "*****************************\n",
      "Race's feature distribution as follow'：\n",
      "Race feature has 9 different values\n",
      "1      310\n",
      "3      177\n",
      "999    108\n",
      "4       59\n",
      "2       41\n",
      "6       23\n",
      "888      7\n",
      "8        3\n",
      "5        1\n",
      "Name: Race, dtype: int64\n"
     ]
    }
   ],
   "source": [
    "\n",
    "cat_fea_confectionary =['Age','Gender','Race']\n",
    "# category feature nunique distribution\n",
    "for fea in cat_fea_confectionary:\n",
    "    print('*****************************')\n",
    "    print(fea + \"'s feature distribution as follow'：\")\n",
    "    print(\"{} feature has {} different values\".format(fea,df_confectionary[fea].nunique()))\n",
    "    print(df_confectionary[fea].value_counts())"
   ]
  },
  {
   "cell_type": "markdown",
   "id": "613454f7",
   "metadata": {},
   "source": [
    "### Plot Histogram for different columns"
   ]
  },
  {
   "cell_type": "code",
   "execution_count": 148,
   "id": "d53ead8f",
   "metadata": {},
   "outputs": [
    {
     "data": {
      "image/png": "[encoded data removed]",
      "text/plain": [
       "<Figure size 432x288 with 1 Axes>"
      ]
     },
     "metadata": {
      "needs_background": "light"
     },
     "output_type": "display_data"
    }
   ],
   "source": [
    "# Age \n",
    "age = ['20s','30s','N/A','Teen','40s','50s','60s','child']\n",
    "v = df_confectionary['Age'].value_counts().nlargest(15)\n",
    "plt.bar(age,v.values)\n",
    "plt.subplot(1,1,1)\n",
    "plt.xticks(rotation=0)\n",
    "plt.xlabel('Character Age',fontweight ='bold', fontsize = 10)\n",
    "plt.ylabel('Answer No. of Age',fontweight ='bold',  fontsize = 10)\n",
    "plt.title('Histogram of \"Confectionary\" for '+'Age')\n",
    "plt.show()"
   ]
  },
  {
   "cell_type": "code",
   "execution_count": 149,
   "id": "e836218e",
   "metadata": {},
   "outputs": [
    {
     "data": {
      "image/png": "[encoded data removed]",
      "text/plain": [
       "<Figure size 432x288 with 1 Axes>"
      ]
     },
     "metadata": {
      "needs_background": "light"
     },
     "output_type": "display_data"
    }
   ],
   "source": [
    "# Gender\n",
    "gender = ['Man','Woman']\n",
    "v = df_confectionary['Gender'].value_counts().nlargest(15)\n",
    "plt.bar(gender,v.values)\n",
    "plt.subplot(1,1,1)\n",
    "plt.xticks(rotation=0)\n",
    "plt.xlabel('Character Gender',fontweight ='bold', fontsize = 10)\n",
    "plt.ylabel('Answer No. of Gender',fontweight ='bold',  fontsize = 10)\n",
    "plt.title('Histogram of \"Confectionary\" for '+'Gender')\n",
    "plt.show()"
   ]
  },
  {
   "cell_type": "code",
   "execution_count": 150,
   "id": "f0c33901",
   "metadata": {},
   "outputs": [
    {
     "data": {
      "image/png": "[encoded data removed]",
      "text/plain": [
       "<Figure size 432x288 with 1 Axes>"
      ]
     },
     "metadata": {
      "needs_background": "light"
     },
     "output_type": "display_data"
    }
   ],
   "source": [
    "# Race\n",
    "race = ['white', 'Asian/Pacific Islander', 'NA','Latinx','Black','Middle Eastern/North African','Can not tell','Non-white, can not tell race','Native']\n",
    "v = df_confectionary['Race'].value_counts().nlargest(15)\n",
    "plt.bar(race,v.values)\n",
    "plt.xticks(rotation=80)\n",
    "plt.xlabel('Character Race',fontweight ='bold', fontsize = 10)\n",
    "plt.ylabel('Answer No. of Race',fontweight ='bold',  fontsize = 10)\n",
    "plt.title('Histogram of \"Confectionary\" for '+'Race')\n",
    "plt.show()"
   ]
  },
  {
   "cell_type": "markdown",
   "id": "9c6dc53d",
   "metadata": {},
   "source": [
    "**We can find that for Confectionary, the 20s has the largest proportion, the second one is 30s**\n",
    "\n",
    "**Through Gender, we can find that the number of male is definitely greater than female**\n",
    "\n",
    "**From the histogram, we observe that \"White\" has the largest number of any race in \"Confectionary\" industry, and there are large amount of \"Asian/Pacific Islander\" and \"Not Applicable\"**"
   ]
  },
  {
   "cell_type": "markdown",
   "id": "54733f30",
   "metadata": {},
   "source": [
    "### Barplot for gender portions of confectionary"
   ]
  },
  {
   "cell_type": "code",
   "execution_count": 151,
   "id": "9088d89c",
   "metadata": {},
   "outputs": [
    {
     "data": {
      "image/png": "[encoded data removed]",
      "text/plain": [
       "<Figure size 432x288 with 1 Axes>"
      ]
     },
     "metadata": {},
     "output_type": "display_data"
    }
   ],
   "source": [
    "Sex1 = df_confectionary[df_confectionary['Gender'] == 1]['Gender'].value_counts()\n",
    "Sex2 = df_confectionary[df_confectionary['Gender'] == 2]['Gender'].value_counts()\n",
    "\n",
    "labels = 'Man','Woman'\n",
    "sizes = [Sex1.values.item(), Sex2.values.item()]\n",
    "explode = (0, 0)  # only \"explode\" the 2nd slice (i.e. 'Hogs')\n",
    "\n",
    "fig, ax = plt.subplots()\n",
    "ax.pie(sizes, explode = explode, labels = labels, autopct='%1.1f%%',\n",
    "        shadow = True, startangle = 90)\n",
    "ax.axis('equal')  # Equal aspect ratio ensures that pie is drawn as a circle.\n",
    "plt.title('Gender Portions of Confectionary')\n",
    "plt.show()"
   ]
  },
  {
   "cell_type": "markdown",
   "id": "1a1af1f9",
   "metadata": {},
   "source": [
    "**We can find that for Confectionary segment, the amount of \"Man(1)\" is 64.1%, which is more than \"Woman(2)\" (35.9%)**\n",
    "\n",
    "**From the four barplot for gender portions of different industry, we can conclude that the Confectionary has the largest difference in the number of man and woman**"
   ]
  },
  {
   "cell_type": "markdown",
   "id": "f7d6c365",
   "metadata": {},
   "source": [
    "### Barplot for Race portions of confectionary"
   ]
  },
  {
   "cell_type": "code",
   "execution_count": 152,
   "id": "08188829",
   "metadata": {},
   "outputs": [
    {
     "data": {
      "image/png": "[encoded data removed]",
      "text/plain": [
       "<Figure size 432x288 with 1 Axes>"
      ]
     },
     "metadata": {},
     "output_type": "display_data"
    }
   ],
   "source": [
    "Sex1 = df_confectionary[df_confectionary['Race'] == 1]['Race'].value_counts()\n",
    "Sex2 = df_confectionary[df_confectionary['Race'] == 2]['Race'].value_counts()\n",
    "Sex3 = df_confectionary[df_confectionary['Race'] == 3]['Race'].value_counts()\n",
    "Sex4 = df_confectionary[df_confectionary['Race'] == 4]['Race'].value_counts()\n",
    "Sex5 = df_confectionary[df_confectionary['Race'] == 5]['Race'].value_counts()\n",
    "Sex6 = df_confectionary[df_confectionary['Race'] == 6]['Race'].value_counts()\n",
    "Sex7 = df_confectionary[df_confectionary['Race'] == 7]['Race'].value_counts()\n",
    "Sex8 = df_confectionary[df_confectionary['Race'] == 8]['Race'].value_counts()\n",
    "Sex888 = df_confectionary[df_confectionary['Race'] == 888]['Race'].value_counts()\n",
    "Sex999 = df_confectionary[df_confectionary['Race'] == 999]['Race'].value_counts()\n",
    "\n",
    "\n",
    "labels = '1','2','3','4','5','6','7','8','888','999'\n",
    "sizes = [Sex1.values.item(), Sex2.values.item(), Sex3.values.item(), Sex4.values.item(), \n",
    "         Sex5.values.item(), Sex6.values.item(), 0, Sex8.values.item(), Sex888.values.item(), Sex999.values.item()]\n",
    "explode = (0, 0, 0, 0, 0, 0, 0, 0, 0, 0)  # only \"explode\" the 2nd slice (i.e. 'Hogs')\n",
    "\n",
    "fig, ax = plt.subplots()\n",
    "ax.pie(sizes, explode = explode, labels = labels, autopct='%1.1f%%',\n",
    "        shadow = True, startangle = 90)\n",
    "ax.axis('equal')  # Equal aspect ratio ensures that pie is drawn as a circle.\n",
    "plt.title('Race Portions of Confectionary Industry')\n",
    "plt.show()"
   ]
  },
  {
   "cell_type": "markdown",
   "id": "5bd48ef4",
   "metadata": {},
   "source": [
    "**With barplot we can observe the result obviously**"
   ]
  },
  {
   "cell_type": "markdown",
   "id": "903bee08",
   "metadata": {},
   "source": [
    "### Compute Mean and std of Age for Confectionery"
   ]
  },
  {
   "cell_type": "code",
   "execution_count": 153,
   "id": "7078541f",
   "metadata": {},
   "outputs": [
    {
     "name": "stdout",
     "output_type": "stream",
     "text": [
      "Mean of Age is 3.6 Standard deviation of Age is 1.27\n"
     ]
    }
   ],
   "source": [
    "df_confectionary = df_confectionary.loc[df_confectionary['Age'] < 10]\n",
    "age_mean_confectionary = df_confectionary['Age'].mean()\n",
    "age_mean_confectionary = round(age_mean_confectionary, 2)\n",
    "age_std_confectionary = df_confectionary['Age'].std()\n",
    "age_std_confectionary = round(age_std_confectionary, 2)\n",
    "print('Mean of Age is', age_mean_confectionary, 'Standard deviation of Age is',age_std_confectionary)"
   ]
  },
  {
   "cell_type": "markdown",
   "id": "96b410b9",
   "metadata": {},
   "source": [
    "**We exclude the value of '999' and '888', and we can get the average value of Age for the Confectionary industry is 3.6,the std value is 1.27**\n",
    "*****"
   ]
  },
  {
   "cell_type": "markdown",
   "id": "b620e28b",
   "metadata": {},
   "source": [
    "### **Create Petcare dataframe**"
   ]
  },
  {
   "cell_type": "code",
   "execution_count": 154,
   "id": "5297c70c",
   "metadata": {},
   "outputs": [],
   "source": [
    "df_petcare = df.loc[df['Segment'] == 'Petcare']\n",
    "df_petcare = df_petcare.loc[:,['Age','Gender', 'Race']]\n",
    "df_petcare.reset_index(inplace = True)\n",
    "df_petcare.drop('index',axis = 1, inplace = True)\n",
    "# df_petcare.head()"
   ]
  },
  {
   "cell_type": "code",
   "execution_count": 155,
   "id": "98dcc2bc",
   "metadata": {},
   "outputs": [
    {
     "name": "stdout",
     "output_type": "stream",
     "text": [
      "*****************************\n",
      "Age's feature distribution as follow'：\n",
      "Age feature has 8 different values\n",
      "4      106\n",
      "3       91\n",
      "5       52\n",
      "1       25\n",
      "6       24\n",
      "7       22\n",
      "2       19\n",
      "999      7\n",
      "Name: Age, dtype: int64\n",
      "*****************************\n",
      "Gender's feature distribution as follow'：\n",
      "Gender feature has 3 different values\n",
      "1      186\n",
      "2      157\n",
      "888      3\n",
      "Name: Gender, dtype: int64\n",
      "*****************************\n",
      "Race's feature distribution as follow'：\n",
      "Race feature has 8 different values\n",
      "1      263\n",
      "2       39\n",
      "3       15\n",
      "4       14\n",
      "888      6\n",
      "999      5\n",
      "6        3\n",
      "8        1\n",
      "Name: Race, dtype: int64\n"
     ]
    }
   ],
   "source": [
    "# category feature nunique distribution\n",
    "cat_fea_petcare =['Age','Gender', 'Race']\n",
    "# category feature nunique distribution\n",
    "for fea in cat_fea_petcare:\n",
    "    print('*****************************')\n",
    "    print(fea + \"'s feature distribution as follow'：\")\n",
    "    print(\"{} feature has {} different values\".format(fea,df_petcare[fea].nunique()))\n",
    "    print(df_petcare[fea].value_counts())"
   ]
  },
  {
   "cell_type": "markdown",
   "id": "70834455",
   "metadata": {},
   "source": [
    "### Plot Histogram for columns"
   ]
  },
  {
   "cell_type": "code",
   "execution_count": 156,
   "id": "0c5903ee",
   "metadata": {},
   "outputs": [
    {
     "data": {
      "image/png": "[encoded data removed]",
      "text/plain": [
       "<Figure size 432x288 with 1 Axes>"
      ]
     },
     "metadata": {
      "needs_background": "light"
     },
     "output_type": "display_data"
    }
   ],
   "source": [
    "age = ['30s','20s','40s','child','50s','60s','Teen','N/A']\n",
    "a = df_petcare['Age'].value_counts().nlargest(10)\n",
    "plt.bar(age,a.values)\n",
    "# plt.subplot(1,1,1)\n",
    "plt.xticks(rotation=0)\n",
    "plt.xlabel('Character Age',fontweight ='bold', fontsize = 10)\n",
    "plt.ylabel('Answer No. of Age',fontweight ='bold',  fontsize = 10)\n",
    "plt.title('Histogram of \"Petcare\" for '+'Age')\n",
    "plt.show()"
   ]
  },
  {
   "cell_type": "code",
   "execution_count": 157,
   "id": "17c3e0c3",
   "metadata": {},
   "outputs": [
    {
     "data": {
      "image/png": "[encoded data removed]",
      "text/plain": [
       "<Figure size 432x288 with 1 Axes>"
      ]
     },
     "metadata": {
      "needs_background": "light"
     },
     "output_type": "display_data"
    }
   ],
   "source": [
    "# Gender\n",
    "gender = ['Man','Woman','Non-Binary']\n",
    "v = df_petcare['Gender'].value_counts().nlargest(5)\n",
    "plt.bar(gender,v.values)\n",
    "plt.subplot(1,1,1)\n",
    "plt.xticks(rotation=0)\n",
    "plt.xlabel('Character Gender',fontweight ='bold', fontsize = 10)\n",
    "plt.ylabel('Answer No. of Gender',fontweight ='bold',  fontsize = 10)\n",
    "plt.title('Histogram of \"Petcare\" for '+'Gender')\n",
    "plt.show()"
   ]
  },
  {
   "cell_type": "code",
   "execution_count": 158,
   "id": "94d3e38a",
   "metadata": {},
   "outputs": [
    {
     "data": {
      "image/png": "[encoded data removed]",
      "text/plain": [
       "<Figure size 432x288 with 1 Axes>"
      ]
     },
     "metadata": {
      "needs_background": "light"
     },
     "output_type": "display_data"
    }
   ],
   "source": [
    "# Race\n",
    "race = ['white','Black', 'Asian/Pacific Islander', 'Latinx','Can not tell','NA','Middle Eastern/North African','Non-white, can not tell race']\n",
    "v = df_petcare['Race'].value_counts().nlargest(10)\n",
    "plt.bar(race,v.values)\n",
    "plt.xticks(rotation=80)\n",
    "plt.xlabel('Character Race',fontweight ='bold', fontsize = 10)\n",
    "plt.ylabel('Answer No. of Race',fontweight ='bold',  fontsize = 10)\n",
    "plt.title('Histogram of \"Petcare\" for '+'Race')\n",
    "plt.show()"
   ]
  },
  {
   "cell_type": "markdown",
   "id": "ab558e99",
   "metadata": {},
   "source": [
    "**We can find that for \"Petcare\", the 30s has the largest proportion, the second one is 20s**\n",
    "\n",
    "**For \"Percare\", compared with other races, \"White\" is the largest**"
   ]
  },
  {
   "cell_type": "markdown",
   "id": "195ebe03",
   "metadata": {},
   "source": [
    "### Barplot"
   ]
  },
  {
   "cell_type": "code",
   "execution_count": 175,
   "id": "7fdf7437",
   "metadata": {},
   "outputs": [
    {
     "data": {
      "image/png": "[encoded data removed]",
      "text/plain": [
       "<Figure size 432x288 with 1 Axes>"
      ]
     },
     "metadata": {},
     "output_type": "display_data"
    }
   ],
   "source": [
    "Sex1_petcare = df_petcare[df_petcare['Gender'] == 1]['Gender'].value_counts()\n",
    "Sex2_petcare = df_petcare[df_petcare['Gender'] == 2]['Gender'].value_counts()\n",
    "Sex3_petcare = df_petcare[df_petcare['Gender'] == 3]['Gender'].value_counts()\n",
    "Sex888_petcare = df_petcare[df_petcare['Gender'] == 888]['Gender'].value_counts()\n",
    "Sex999_petcare = df_petcare[df_petcare['Gender'] == 999]['Gender'].value_counts()\n",
    "\n",
    "labels_petcare = 'Man','Woman','','Can not tell',''\n",
    "sizes_petcare = [Sex1_petcare.values.item(), Sex2_petcare.values.item(), 0, Sex888_petcare.values.item(), 0]\n",
    "explode_petcare = (0, 0, 0, 0, 0)  # only \"explode\" the 2nd slice (i.e. 'Hogs')\n",
    "\n",
    "fig, ax = plt.subplots()\n",
    "ax.pie(sizes_petcare, explode = explode_petcare, labels = labels_petcare, autopct='%1.1f%%',\n",
    "        shadow = True, startangle = 90)\n",
    "ax.axis('equal')  # Equal aspect ratio ensures that pie is drawn as a circle.\n",
    "plt.title('Gender Portions of Petcare')\n",
    "plt.show()"
   ]
  },
  {
   "cell_type": "markdown",
   "id": "99206f52",
   "metadata": {},
   "source": [
    "**We can find that for Petcare, the amount of \"Man(1)\" is 53.8% which is the largest one, the amount of \"Woman(2)\" is 45.4% and the amount of \"Can't tell(888)\" is 0.9%**"
   ]
  },
  {
   "cell_type": "markdown",
   "id": "1c8fea7b",
   "metadata": {},
   "source": [
    "### Compute Mean and std of Age for Petcare"
   ]
  },
  {
   "cell_type": "code",
   "execution_count": 160,
   "id": "92df9255",
   "metadata": {},
   "outputs": [
    {
     "name": "stdout",
     "output_type": "stream",
     "text": [
      "Mean of Age is 3.89 Standard deviation of Age is 1.47\n"
     ]
    }
   ],
   "source": [
    "df_petcare = df_petcare.loc[df_petcare['Age'] < 10]\n",
    "age_mean_petcare = df_petcare['Age'].mean()\n",
    "age_mean_petcare = round(age_mean_petcare, 2)\n",
    "age_std_petcare = df_petcare['Age'].std()\n",
    "age_std_petcare = round(age_std_petcare, 2)\n",
    "print('Mean of Age is', age_mean_petcare, 'Standard deviation of Age is',age_std_petcare)"
   ]
  },
  {
   "cell_type": "markdown",
   "id": "a1335f5e",
   "metadata": {},
   "source": [
    "**we can get the average value of Age for the Petcare industry is 3.89, which is higher than Confectionary industry, the std value is 1.47**\n",
    "*****"
   ]
  },
  {
   "cell_type": "markdown",
   "id": "262c1823",
   "metadata": {},
   "source": [
    "## **Create Wrigley dataframe**"
   ]
  },
  {
   "cell_type": "code",
   "execution_count": 161,
   "id": "c909605f",
   "metadata": {},
   "outputs": [
    {
     "data": {
      "text/html": [
       "<div>\n",
       "<style scoped>\n",
       "    .dataframe tbody tr th:only-of-type {\n",
       "        vertical-align: middle;\n",
       "    }\n",
       "\n",
       "    .dataframe tbody tr th {\n",
       "        vertical-align: top;\n",
       "    }\n",
       "\n",
       "    .dataframe thead th {\n",
       "        text-align: right;\n",
       "    }\n",
       "</style>\n",
       "<table border=\"1\" class=\"dataframe\">\n",
       "  <thead>\n",
       "    <tr style=\"text-align: right;\">\n",
       "      <th></th>\n",
       "      <th>Age</th>\n",
       "      <th>Gender</th>\n",
       "      <th>Race</th>\n",
       "    </tr>\n",
       "  </thead>\n",
       "  <tbody>\n",
       "    <tr>\n",
       "      <th>0</th>\n",
       "      <td>3</td>\n",
       "      <td>2</td>\n",
       "      <td>1</td>\n",
       "    </tr>\n",
       "    <tr>\n",
       "      <th>1</th>\n",
       "      <td>3</td>\n",
       "      <td>2</td>\n",
       "      <td>3</td>\n",
       "    </tr>\n",
       "    <tr>\n",
       "      <th>2</th>\n",
       "      <td>3</td>\n",
       "      <td>1</td>\n",
       "      <td>3</td>\n",
       "    </tr>\n",
       "    <tr>\n",
       "      <th>3</th>\n",
       "      <td>3</td>\n",
       "      <td>1</td>\n",
       "      <td>1</td>\n",
       "    </tr>\n",
       "    <tr>\n",
       "      <th>4</th>\n",
       "      <td>3</td>\n",
       "      <td>1</td>\n",
       "      <td>1</td>\n",
       "    </tr>\n",
       "  </tbody>\n",
       "</table>\n",
       "</div>"
      ],
      "text/plain": [
       "   Age  Gender  Race\n",
       "0    3       2     1\n",
       "1    3       2     3\n",
       "2    3       1     3\n",
       "3    3       1     1\n",
       "4    3       1     1"
      ]
     },
     "execution_count": 161,
     "metadata": {},
     "output_type": "execute_result"
    }
   ],
   "source": [
    "df_wrigley = df.loc[df['Segment'] == 'Wrigley']\n",
    "df_wrigley = df_wrigley.loc[:,['Age', 'Gender', 'Race']]\n",
    "df_wrigley.reset_index(inplace = True)\n",
    "df_wrigley.drop('index' , axis = 1, inplace = True)\n",
    "df_wrigley.head()"
   ]
  },
  {
   "cell_type": "code",
   "execution_count": 162,
   "id": "fa602223",
   "metadata": {
    "scrolled": false
   },
   "outputs": [
    {
     "name": "stdout",
     "output_type": "stream",
     "text": [
      "*********************c********\n",
      "Age's feature distribution as follow'：\n",
      "Age feature has 7 different values\n",
      "3      60\n",
      "2      24\n",
      "4      23\n",
      "6       5\n",
      "5       4\n",
      "7       2\n",
      "999     1\n",
      "Name: Age, dtype: int64\n",
      "*********************c********\n",
      "Gender's feature distribution as follow'：\n",
      "Gender feature has 2 different values\n",
      "1    60\n",
      "2    59\n",
      "Name: Gender, dtype: int64\n",
      "*********************c********\n",
      "Race's feature distribution as follow'：\n",
      "Race feature has 8 different values\n",
      "1      79\n",
      "3      22\n",
      "2       7\n",
      "4       5\n",
      "8       2\n",
      "6       2\n",
      "5       1\n",
      "888     1\n",
      "Name: Race, dtype: int64\n"
     ]
    }
   ],
   "source": [
    "# category feature nunique distribution\n",
    "cat_fea_wrigley =['Age','Gender','Race']\n",
    "# category feature nunique distribution\n",
    "for fea in cat_fea_wrigley:\n",
    "    print('*********************c********')\n",
    "    print(fea + \"'s feature distribution as follow'：\")\n",
    "    print(\"{} feature has {} different values\".format(fea,df_wrigley[fea].nunique()))\n",
    "    print(df_wrigley[fea].value_counts())"
   ]
  },
  {
   "cell_type": "code",
   "execution_count": 163,
   "id": "c03103e5",
   "metadata": {},
   "outputs": [
    {
     "data": {
      "image/png": "[encoded data removed]",
      "text/plain": [
       "<Figure size 432x288 with 1 Axes>"
      ]
     },
     "metadata": {
      "needs_background": "light"
     },
     "output_type": "display_data"
    }
   ],
   "source": [
    "age = ['20s','Teen','30s','50s','40s','60s','N/A']\n",
    "a = df_wrigley['Age'].value_counts().nlargest(10)\n",
    "plt.bar(age,a.values)\n",
    "# plt.subplot(1,1,1)\n",
    "plt.xticks(rotation=0)\n",
    "plt.xlabel('Character Age',fontweight ='bold', fontsize = 10)\n",
    "plt.ylabel('Answer No. of Age',fontweight ='bold',  fontsize = 10)\n",
    "plt.title('Histogram of \"Wrigley\" for '+'Age')\n",
    "plt.show()"
   ]
  },
  {
   "cell_type": "code",
   "execution_count": 164,
   "id": "4e2178f7",
   "metadata": {},
   "outputs": [
    {
     "data": {
      "image/png": "[encoded data removed]",
      "text/plain": [
       "<Figure size 432x288 with 1 Axes>"
      ]
     },
     "metadata": {
      "needs_background": "light"
     },
     "output_type": "display_data"
    }
   ],
   "source": [
    "# Gender\n",
    "gender = ['Man','Woman']\n",
    "v = df_wrigley['Gender'].value_counts().nlargest(5)\n",
    "plt.bar(gender,v.values)\n",
    "plt.subplot(1,1,1)\n",
    "plt.xticks(rotation=0)\n",
    "plt.xlabel('Character Gender',fontweight ='bold', fontsize = 10)\n",
    "plt.ylabel('Answer No. of Gender',fontweight ='bold',  fontsize = 10)\n",
    "plt.title('Histogram of \"Wrigley\" for '+'Gender')\n",
    "plt.show()"
   ]
  },
  {
   "cell_type": "code",
   "execution_count": 165,
   "id": "c61dfcca",
   "metadata": {},
   "outputs": [
    {
     "data": {
      "image/png": "[encoded data removed]",
      "text/plain": [
       "<Figure size 432x288 with 1 Axes>"
      ]
     },
     "metadata": {
      "needs_background": "light"
     },
     "output_type": "display_data"
    }
   ],
   "source": [
    "# Race\n",
    "race = ['white','Asian/Pacific Islander','Black', 'Latinx','Non-white, can not tell race','Middle Eastern/North African','Native','Can not tell']\n",
    "v = df_wrigley['Race'].value_counts().nlargest(10)\n",
    "plt.bar(race,v.values)\n",
    "plt.xticks(rotation=80)\n",
    "plt.xlabel('Character Race',fontweight ='bold', fontsize = 10)\n",
    "plt.ylabel('Answer No. of Race',fontweight ='bold',  fontsize = 10)\n",
    "plt.title('Histogram of \"Wrigley\" for '+'Race')\n",
    "plt.show()"
   ]
  },
  {
   "cell_type": "markdown",
   "id": "728acb91",
   "metadata": {},
   "source": [
    "**We can find that for Petcare, the 20s has the largest proportion, the second one is Teen, but number of 30s is close to Teen**\n",
    "\n",
    "**For \"Wrigley\", compared with other races, \"White\" is the largest**"
   ]
  },
  {
   "cell_type": "markdown",
   "id": "b70d3f89",
   "metadata": {},
   "source": [
    "### BarPlot"
   ]
  },
  {
   "cell_type": "code",
   "execution_count": 166,
   "id": "d401abc7",
   "metadata": {},
   "outputs": [
    {
     "data": {
      "image/png": "[encoded data removed]",
      "text/plain": [
       "<Figure size 432x288 with 1 Axes>"
      ]
     },
     "metadata": {},
     "output_type": "display_data"
    }
   ],
   "source": [
    "Sex1_wrigley = df_wrigley[df_wrigley['Gender'] == 1]['Gender'].value_counts()\n",
    "Sex2_wrigley = df_wrigley[df_wrigley['Gender'] == 2]['Gender'].value_counts()\n",
    "\n",
    "labels_wrigley = 'Man','Woman'\n",
    "sizes_wrigley = [Sex1_wrigley.values.item(), Sex2_wrigley.values.item()]\n",
    "explode_wrigley = (0, 0)  # only \"explode\" the 2nd slice (i.e. 'Hogs')\n",
    "\n",
    "fig, ax = plt.subplots()\n",
    "ax.pie(sizes_wrigley, explode = explode_wrigley, labels = labels_wrigley, autopct='%1.1f%%',\n",
    "        shadow = True, startangle = 90)\n",
    "ax.axis('equal')  # Equal aspect ratio ensures that pie is drawn as a circle.\n",
    "plt.title('Gender Portions of Wrigley')\n",
    "plt.show()"
   ]
  },
  {
   "cell_type": "markdown",
   "id": "3cc1fc96",
   "metadata": {},
   "source": [
    "**We can find that for Confectionary segment, the amount of man is 50.4% which is more than woman 49.6%**\n",
    "\n",
    "**The number of \"men(1)\" and \"women(2)\" is basically the same**\n",
    "\n",
    "**From the four barplot for gender portions of different industry, we can conclude that the Wrigley has the smallest difference in the number of man and woman**"
   ]
  },
  {
   "cell_type": "markdown",
   "id": "19eea853",
   "metadata": {},
   "source": [
    "### Compute Mean and std of Age for Wrigley"
   ]
  },
  {
   "cell_type": "code",
   "execution_count": 167,
   "id": "2649b902",
   "metadata": {},
   "outputs": [
    {
     "name": "stdout",
     "output_type": "stream",
     "text": [
      "Mean of Age is 3.25 Standard deviation of Age is 1.06\n"
     ]
    }
   ],
   "source": [
    "df_wrigley = df_wrigley.loc[df_wrigley['Age'] < 10]\n",
    "age_mean_wrigley = df_wrigley['Age'].mean()\n",
    "age_mean_wrigley = round(age_mean_wrigley, 2)\n",
    "age_std_wrigley = df_wrigley['Age'].std()\n",
    "age_std_wrigley = round(age_std_wrigley, 2)\n",
    "print('Mean of Age is', age_mean_wrigley, 'Standard deviation of Age is',age_std_wrigley)"
   ]
  },
  {
   "cell_type": "markdown",
   "id": "ad28c44d",
   "metadata": {},
   "source": [
    "**we can get the average value of Age for the Wrigley industry is 3.25(around 20 years old), which is smaller than Confectionary and Petcare and bigger than Food, the std value is 1.06, means the age distribution is relatively concentrated**\n",
    "*****"
   ]
  },
  {
   "cell_type": "markdown",
   "id": "3e7df993",
   "metadata": {},
   "source": [
    "## **Create Food dataframe**"
   ]
  },
  {
   "cell_type": "code",
   "execution_count": 168,
   "id": "747a872a",
   "metadata": {},
   "outputs": [
    {
     "data": {
      "text/html": [
       "<div>\n",
       "<style scoped>\n",
       "    .dataframe tbody tr th:only-of-type {\n",
       "        vertical-align: middle;\n",
       "    }\n",
       "\n",
       "    .dataframe tbody tr th {\n",
       "        vertical-align: top;\n",
       "    }\n",
       "\n",
       "    .dataframe thead th {\n",
       "        text-align: right;\n",
       "    }\n",
       "</style>\n",
       "<table border=\"1\" class=\"dataframe\">\n",
       "  <thead>\n",
       "    <tr style=\"text-align: right;\">\n",
       "      <th></th>\n",
       "      <th>Age</th>\n",
       "      <th>Gender</th>\n",
       "      <th>Race</th>\n",
       "    </tr>\n",
       "  </thead>\n",
       "  <tbody>\n",
       "    <tr>\n",
       "      <th>0</th>\n",
       "      <td>3</td>\n",
       "      <td>2</td>\n",
       "      <td>1</td>\n",
       "    </tr>\n",
       "    <tr>\n",
       "      <th>1</th>\n",
       "      <td>3</td>\n",
       "      <td>2</td>\n",
       "      <td>1</td>\n",
       "    </tr>\n",
       "    <tr>\n",
       "      <th>2</th>\n",
       "      <td>3</td>\n",
       "      <td>2</td>\n",
       "      <td>1</td>\n",
       "    </tr>\n",
       "    <tr>\n",
       "      <th>3</th>\n",
       "      <td>3</td>\n",
       "      <td>1</td>\n",
       "      <td>1</td>\n",
       "    </tr>\n",
       "    <tr>\n",
       "      <th>4</th>\n",
       "      <td>3</td>\n",
       "      <td>1</td>\n",
       "      <td>1</td>\n",
       "    </tr>\n",
       "  </tbody>\n",
       "</table>\n",
       "</div>"
      ],
      "text/plain": [
       "   Age  Gender  Race\n",
       "0    3       2     1\n",
       "1    3       2     1\n",
       "2    3       2     1\n",
       "3    3       1     1\n",
       "4    3       1     1"
      ]
     },
     "execution_count": 168,
     "metadata": {},
     "output_type": "execute_result"
    }
   ],
   "source": [
    "df_food = df.loc[df['Segment'] == 'Food']\n",
    "df_food = df_food.loc[:,['Age', 'Gender', 'Race']]\n",
    "df_food.reset_index(inplace = True)\n",
    "df_food.drop('index', axis = 1, inplace = True)\n",
    "df_food.head()"
   ]
  },
  {
   "cell_type": "code",
   "execution_count": 169,
   "id": "1b3f122f",
   "metadata": {},
   "outputs": [
    {
     "name": "stdout",
     "output_type": "stream",
     "text": [
      "*****************************\n",
      "Age's feature distribution as follow'：\n",
      "Age feature has 8 different values\n",
      "3      31\n",
      "4      20\n",
      "1      18\n",
      "5      11\n",
      "2       8\n",
      "7       2\n",
      "999     2\n",
      "6       1\n",
      "Name: Age, dtype: int64\n",
      "*****************************\n",
      "Gender's feature distribution as follow'：\n",
      "Gender feature has 2 different values\n",
      "1    47\n",
      "2    46\n",
      "Name: Gender, dtype: int64\n",
      "*****************************\n",
      "Race's feature distribution as follow'：\n",
      "Race feature has 6 different values\n",
      "1      53\n",
      "2      20\n",
      "4       8\n",
      "888     7\n",
      "5       3\n",
      "3       2\n",
      "Name: Race, dtype: int64\n"
     ]
    }
   ],
   "source": [
    "# category feature nunique distribution\n",
    "cat_fea_food =['Age','Gender', 'Race']\n",
    "# category feature nunique distribution\n",
    "for fea in cat_fea_food:\n",
    "    print('*****************************')\n",
    "    print(fea + \"'s feature distribution as follow'：\")\n",
    "    print(\"{} feature has {} different values\".format(fea,df_food[fea].nunique()))\n",
    "    print(df_food[fea].value_counts())"
   ]
  },
  {
   "cell_type": "markdown",
   "id": "7e830080",
   "metadata": {},
   "source": [
    "### Plot Histogram"
   ]
  },
  {
   "cell_type": "code",
   "execution_count": 170,
   "id": "d1a493c9",
   "metadata": {},
   "outputs": [
    {
     "data": {
      "image/png": "[encoded data removed]",
      "text/plain": [
       "<Figure size 432x288 with 1 Axes>"
      ]
     },
     "metadata": {
      "needs_background": "light"
     },
     "output_type": "display_data"
    }
   ],
   "source": [
    "age = ['20s','30s','Child','40s','Teen','60s','N/A','50s']\n",
    "a = df_food['Age'].value_counts().nlargest(10)\n",
    "plt.bar(age,a.values)\n",
    "# plt.subplot(1,1,1)\n",
    "plt.xticks(rotation=0)\n",
    "plt.xlabel('Character Age',fontweight ='bold', fontsize = 10)\n",
    "plt.ylabel('Answer No. of Age',fontweight ='bold',  fontsize = 10)\n",
    "plt.title('Histogram of \"Food\" for '+'Age')\n",
    "plt.show()"
   ]
  },
  {
   "cell_type": "code",
   "execution_count": 171,
   "id": "52331a11",
   "metadata": {},
   "outputs": [
    {
     "data": {
      "image/png": "[encoded data removed]",
      "text/plain": [
       "<Figure size 432x288 with 1 Axes>"
      ]
     },
     "metadata": {
      "needs_background": "light"
     },
     "output_type": "display_data"
    }
   ],
   "source": [
    "# Gender\n",
    "gender = ['Man','Woman']\n",
    "v = df_food['Gender'].value_counts().nlargest(5)\n",
    "plt.bar(gender,v.values)\n",
    "plt.subplot(1,1,1)\n",
    "plt.xticks(rotation=0)\n",
    "plt.xlabel('Character Gender',fontweight ='bold', fontsize = 10)\n",
    "plt.ylabel('Answer No. of Gender',fontweight ='bold',  fontsize = 10)\n",
    "plt.title('Histogram of \"Food\" for '+'Gender')\n",
    "plt.show()"
   ]
  },
  {
   "cell_type": "code",
   "execution_count": 172,
   "id": "e325b83e",
   "metadata": {},
   "outputs": [
    {
     "data": {
      "image/png": "[encoded data removed]",
      "text/plain": [
       "<Figure size 432x288 with 1 Axes>"
      ]
     },
     "metadata": {
      "needs_background": "light"
     },
     "output_type": "display_data"
    }
   ],
   "source": [
    "# Race\n",
    "race = ['white','Black','Latinx','Can not tell','Native','Asian/Pacific Islander']\n",
    "v = df_food['Race'].value_counts().nlargest(10)\n",
    "plt.bar(race,v.values)\n",
    "plt.xticks(rotation=80)\n",
    "plt.xlabel('Character Race',fontweight ='bold', fontsize = 10)\n",
    "plt.ylabel('Answer No. of Race',fontweight ='bold',  fontsize = 10)\n",
    "plt.title('Histogram of \"Food\" for '+'Race')\n",
    "plt.show()"
   ]
  },
  {
   "cell_type": "markdown",
   "id": "737b32df",
   "metadata": {},
   "source": [
    "**We can find that for Petcare, the 20s has the largest proportion, the second one is 30s, and the number of child is close to 30s**\n",
    "\n",
    "**For \"Food\", compared with other races, \"White\" is the largest**"
   ]
  },
  {
   "cell_type": "markdown",
   "id": "aedea684",
   "metadata": {},
   "source": [
    "### Barplot"
   ]
  },
  {
   "cell_type": "code",
   "execution_count": 173,
   "id": "855de258",
   "metadata": {},
   "outputs": [
    {
     "data": {
      "image/png": "[encoded data removed]",
      "text/plain": [
       "<Figure size 432x288 with 1 Axes>"
      ]
     },
     "metadata": {},
     "output_type": "display_data"
    }
   ],
   "source": [
    "Sex1_food = df_food[df_food['Gender'] == 1]['Gender'].value_counts()\n",
    "Sex2_food = df_food[df_food['Gender'] == 2]['Gender'].value_counts()\n",
    "\n",
    "labels_food = 'Man','Woman'\n",
    "sizes_food = [Sex1_food.values.item(), Sex2_food.values.item()]\n",
    "explode_food = (0, 0)  # only \"explode\" the 2nd slice (i.e. 'Hogs')\n",
    "\n",
    "fig, ax = plt.subplots()\n",
    "ax.pie(sizes_food, explode = explode_food, labels = labels_food, autopct='%1.1f%%',\n",
    "        shadow = True, startangle = 90)\n",
    "ax.axis('equal')  # Equal aspect ratio ensures that pie is drawn as a circle.\n",
    "plt.title('Gender Portions of Food')\n",
    "plt.show()"
   ]
  },
  {
   "cell_type": "markdown",
   "id": "7575ac88",
   "metadata": {},
   "source": [
    "**We can find that for Confectionary segment, the amount of \"Man(1)\" is 50.5% which is more than \"Women(2)\" 49.5%**\n",
    "\n",
    "**The number of \"Man(1)\" and \"Woman(2)\" is basically the same**"
   ]
  },
  {
   "cell_type": "markdown",
   "id": "9293141b",
   "metadata": {},
   "source": [
    "### Compute Mean and std of Age for Food"
   ]
  },
  {
   "cell_type": "code",
   "execution_count": 174,
   "id": "b9418dec",
   "metadata": {},
   "outputs": [
    {
     "name": "stdout",
     "output_type": "stream",
     "text": [
      "Mean of Age is 3.1 Standard deviation of Age is 1.43\n"
     ]
    }
   ],
   "source": [
    "df_food = df_food.loc[df_food['Age'] < 10]\n",
    "age_mean_food = df_food['Age'].mean()\n",
    "age_mean_food = round(age_mean_food, 2)\n",
    "age_std_food = df_food['Age'].std()\n",
    "age_std_food = round(age_std_food, 2)\n",
    "print('Mean of Age is', age_mean_food, 'Standard deviation of Age is',age_std_food)"
   ]
  },
  {
   "cell_type": "markdown",
   "id": "744b7100",
   "metadata": {},
   "source": [
    "**we can get the average value of Age for the Food industry is 3.1, which is smallest among these four industry, the std value is 1.43, means the age distribution is not relatively concentrated**\n",
    "\n",
    "**We can conclude that the the average age of the Food is the youngest**"
   ]
  }
 ],
 "metadata": {
  "kernelspec": {
   "display_name": "Python 3 (ipykernel)",
   "language": "python",
   "name": "python3"
  },
  "language_info": {
   "codemirror_mode": {
    "name": "ipython",
    "version": 3
   },
   "file_extension": ".py",
   "mimetype": "text/x-python",
   "name": "python",
   "nbconvert_exporter": "python",
   "pygments_lexer": "ipython3",
   "version": "3.9.7"
  }
 },
 "nbformat": 4,
 "nbformat_minor": 5
}

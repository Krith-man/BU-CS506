{
 "cells": [
  {
   "cell_type": "code",
   "execution_count": 90,
   "outputs": [],
   "source": [
    "import pandas as pd\n",
    "import numpy as np\n",
    "\n",
    "df_2006_2016 = pd.read_excel(\"BU Spark CannesLions_2006-2020.xlsx\", sheet_name='2006-2016')\n",
    "df_2017 = pd.read_excel(\"BU Spark CannesLions_2006-2020.xlsx\", sheet_name='2017')"
   ],
   "metadata": {
    "collapsed": false,
    "pycharm": {
     "name": "#%%\n"
    }
   }
  },
  {
   "cell_type": "code",
   "execution_count": 91,
   "outputs": [],
   "source": [
    "def fix_age(row):\n",
    "    # 'Child'\n",
    "    if row['age'] == 1:\n",
    "        return 1\n",
    "    # 'Teen'\n",
    "    elif row['age'] == 3 or row['age'] == 2:\n",
    "        return 2\n",
    "    # '20s'\n",
    "    elif row['age'] == 4:\n",
    "        return 3\n",
    "    # '30s'\n",
    "    elif row['age'] == 5:\n",
    "        return 4\n",
    "    # '40s'\n",
    "    elif row['age'] == 6:\n",
    "        return 5\n",
    "    # '50s'\n",
    "    elif row['age'] == 7:\n",
    "        return 6\n",
    "    # '60s'\n",
    "    elif row['age'] == 8:\n",
    "        return 7\n",
    "    # 'Can't tell'\n",
    "    elif row['age'] == 9:\n",
    "        return 8\n",
    "    # 'Not Applicable'\n",
    "    elif row['age'] == 10:\n",
    "        return 9"
   ],
   "metadata": {
    "collapsed": false,
    "pycharm": {
     "name": "#%%\n"
    }
   }
  },
  {
   "cell_type": "markdown",
   "source": [
    "## Prepare 2006-2016 Excel sheet"
   ],
   "metadata": {
    "collapsed": false,
    "pycharm": {
     "name": "#%% md\n"
    }
   }
  },
  {
   "cell_type": "code",
   "source": [
    "######################################################################################\n",
    "################################# Asset Metadata #####################################\n",
    "######################################################################################\n",
    "\n",
    "# Coder Name\n",
    "df_2006_2016['Code Name'] = \"\"\n",
    "\n",
    "# Year\n",
    "df_2006_2016 = df_2006_2016.rename(columns={\"year\": \"Year\"})\n",
    "\n",
    "# Category\n",
    "df_2006_2016 = df_2006_2016.rename(columns={\"category\": \"Category\"})\n",
    "\n",
    "# Catalogue Number\n",
    "df_2006_2016 = df_2006_2016.rename(columns={\"catalogue\": \"Catalogue Number\"})\n",
    "\n",
    "# Title\n",
    "df_2006_2016 = df_2006_2016.rename(columns={\"title\": \"Title\"})\n",
    "\n",
    "# Advertiser\n",
    "df_2006_2016 = df_2006_2016.rename(columns={\"advertiser\": \"Advertiser\"})\n",
    "\n",
    "# Product\n",
    "df_2006_2016 = df_2006_2016.rename(columns={\"product\": \"Product\"})\n",
    "\n",
    "# Company\n",
    "df_2006_2016 = df_2006_2016.rename(columns={\"company\": \"Company\"})\n",
    "\n",
    "# Country\n",
    "df_2006_2016 = df_2006_2016.rename(columns={\"country\": \"Country\"})\n",
    "\n",
    "# Prize Description\n",
    "df_2006_2016 = df_2006_2016.rename(columns={\"prize_description\": \"Prize Description\"})\n",
    "\n",
    "# Prize code\n",
    "df_2006_2016 = df_2006_2016.rename(columns={\"prize_code\": \"Prize code\"})\n",
    "\n",
    "# Video Name\n",
    "df_2006_2016 = df_2006_2016.rename(columns={\"video_name\": \"Video Name\"})\n",
    "\n",
    "# Link to Asset\n",
    "df_2006_2016['Link to Asset'] = \"\"\n",
    "\n",
    "######################################################################################\n",
    "################################### Prominence #######################################\n",
    "######################################################################################\n",
    "\n",
    "# Character ID\n",
    "df_2006_2016 = df_2006_2016.rename(columns={\"char_id\": \"Character ID\"})\n",
    "\n",
    "######################################################################################\n",
    "############################ Background Characteristics ##############################\n",
    "######################################################################################\n",
    "\n",
    "# Age\n",
    "# df_2006_2016['Age'] = df_2006_2016.apply (lambda row: fix_age(row), axis=1)\n",
    "df_2006_2016 = df_2006_2016.rename(columns={\"age\": \"Age\"})\n",
    "df_2006_2016[\"Age\"].fillna(10, inplace=True)\n",
    "\n",
    "# Character Gender\n",
    "df_2006_2016 = df_2006_2016.rename(columns={\"gender\": \"Character Gender\"})\n",
    "df_2006_2016[\"Character Gender\"].fillna(10, inplace=True)\n",
    "\n",
    "# Race\n",
    "df_2006_2016 = df_2006_2016.rename(columns={\"raceethnicity\": \"Race\"})\n",
    "df_2006_2016[\"Race\"].fillna(10, inplace=True)\n",
    "\n",
    "######################################################################################\n",
    "##################### Activity, Technology, Use & Setting ############################\n",
    "######################################################################################\n",
    "\n",
    "# Activity\n",
    "df_2006_2016 = df_2006_2016.rename(columns={\"activity\": \"Activity\"})\n",
    "\n",
    "# Tech\n",
    "df_2006_2016 = df_2006_2016.rename(columns={\"tech\": \"Tech\"})\n",
    "\n",
    "# Setting\n",
    "df_2006_2016 = df_2006_2016.rename(columns={\"setting\": \"Setting\"})\n",
    "\n",
    "# Vehicle\n",
    "df_2006_2016 = df_2006_2016.rename(columns={\"vehicle\": \"Vehicle\"})\n",
    "\n",
    "# Location\n",
    "df_2006_2016 = df_2006_2016.rename(columns={\"location\": \"Location\"})\n",
    "\n",
    "######################################################################################\n",
    "################################### Sexualization ####################################\n",
    "######################################################################################\n",
    "\n",
    "# Sexually Revealing Clothing\n",
    "df_2006_2016 = df_2006_2016.rename(columns={\"sexuallyrevealingclothing\": \"Sexually Revealing Clothing\"})\n",
    "df_2006_2016[\"Sexually Revealing Clothing\"].fillna(10, inplace=True)\n",
    "\n",
    "# State of Nudity\n",
    "df_2006_2016 = df_2006_2016.rename(columns={\"nudity\": \"State of Nudity\"})\n",
    "df_2006_2016[\"State of Nudity\"].fillna(10, inplace=True)\n",
    "\n",
    "# Shown as Body Part\n",
    "df_2006_2016 = df_2006_2016.rename(columns={\"shownasbodyparts\": \"Shown as Body Part\"})\n",
    "df_2006_2016[\"Shown as Body Part\"].fillna(10, inplace=True)\n",
    "\n",
    "\n",
    "# Verbally Sexual Objectification\n",
    "df_2006_2016 = df_2006_2016.rename(columns={\"verballysexuallyobjectified\": \"Verbally Sexual Objectification\"})\n",
    "df_2006_2016[\"Verbally Sexual Objectification\"].fillna(10, inplace=True)\n",
    "\n",
    "\n",
    "######################################################################################\n",
    "######################################## Traits ######################################\n",
    "######################################################################################\n",
    "\n",
    "# TODO: Ask what '4' option is about?\n",
    "# Intelligence\n",
    "df_2006_2016 = df_2006_2016.rename(columns={\"shownasintelligent\": \"Intelligence\"})\n",
    "df_2006_2016[\"Intelligence\"].fillna(10, inplace=True)\n",
    "\n",
    "# TODO: Ask what options \"12\", \"23\", \"1.2\" are about?\n",
    "# Funny\n",
    "df_2006_2016 = df_2006_2016.rename(columns={\"shownasfunny\": \"Funny\"})\n",
    "df_2006_2016[\"Funny\"].fillna(10, inplace=True)\n",
    "\n",
    "######################################################################################\n",
    "################################ Work and Leadership #################################\n",
    "######################################################################################\n",
    "\n",
    "# Occupation Shown\n",
    "df_2006_2016 = df_2006_2016.rename(columns={\"occupationshown\": \"Occupation Shown\"})\n",
    "df_2006_2016[\"Occupation Shown\"].fillna(10, inplace=True)\n",
    "\n",
    "# Occupation\n",
    "df_2006_2016 = df_2006_2016.rename(columns={\"occupation\": \"Occupation\"})\n",
    "\n",
    "# Leader\n",
    "df_2006_2016 = df_2006_2016.rename(columns={\"leader\": \"Leader\"})\n",
    "df_2006_2016[\"Leader\"].fillna(10, inplace=True)\n",
    "\n",
    "#All Other Variables included to other sheets\n",
    "df_2006_2016['view_video'] = \"\"\n",
    "df_2006_2016['vatic_link'] = \"\"\n",
    "df_2006_2016['char_montage'] = \"\""
   ],
   "metadata": {
    "collapsed": false,
    "pycharm": {
     "name": "#%%\n"
    }
   },
   "execution_count": 92,
   "outputs": []
  },
  {
   "cell_type": "markdown",
   "source": [
    "## Prepare 2017 Excel sheet"
   ],
   "metadata": {
    "collapsed": false,
    "pycharm": {
     "name": "#%% md\n"
    }
   }
  },
  {
   "cell_type": "code",
   "execution_count": 93,
   "outputs": [],
   "source": [
    "######################################################################################\n",
    "################################# Asset Metadata #####################################\n",
    "######################################################################################\n",
    "\n",
    "# Coder Name\n",
    "df_2017['Code Name'] = \"\"\n",
    "\n",
    "# Year\n",
    "df_2017['Year'] = 2017\n",
    "df_2017['Year'] = df_2017['Year'].astype(np.float64)\n",
    "\n",
    "# Category\n",
    "df_2017['Category'] = \"\"\n",
    "\n",
    "# Catalogue Number\n",
    "df_2017['Catalogue Number'] = \"\"\n",
    "\n",
    "# Title\n",
    "df_2017['Title'] = \"\"\n",
    "\n",
    "# Advertiser\n",
    "df_2017[\"Advertiser\"] = \"\"\n",
    "\n",
    "# product\n",
    "df_2017[\"Product\"] = \"\"\n",
    "\n",
    "# Company\n",
    "df_2017[\"Company\"] = \"\"\n",
    "\n",
    "# Country\n",
    "df_2017[\"Country\"] = \"\"\n",
    "\n",
    "# Prize Description\n",
    "df_2017[\"Prize Description\"] = \"\"\n",
    "\n",
    "# Prize code\n",
    "df_2017[\"Prize code\"] = \"\"\n",
    "\n",
    "# Video Name\n",
    "df_2017 = df_2017.rename(columns={\"video_name\": \"Video Name\"})\n",
    "\n",
    "# Link to Asset\n",
    "df_2017['Link to Asset'] = \"\"\n",
    "\n",
    "######################################################################################\n",
    "################################### Prominence #######################################\n",
    "######################################################################################\n",
    "\n",
    "# Character ID\n",
    "df_2017 = df_2017.rename(columns={\"char_id\": \"Character ID\"})\n",
    "\n",
    "######################################################################################\n",
    "############################ Background Characteristics ##############################\n",
    "######################################################################################\n",
    "\n",
    "# Age\n",
    "# df_2017['Age'] = df_2017.apply (lambda row: fix_age(row), axis=1)\n",
    "df_2017 = df_2017.rename(columns={\"age\": \"Age\"})\n",
    "df_2017[\"Age\"].fillna(10, inplace=True)\n",
    "\n",
    "# Character Gender\n",
    "df_2017 = df_2017.rename(columns={\"gender\": \"Character Gender\"})\n",
    "df_2017[\"Character Gender\"].fillna(10, inplace=True)\n",
    "\n",
    "# Race\n",
    "df_2017 = df_2017.rename(columns={\"raceethnicity\": \"Race\"})\n",
    "df_2017[\"Race\"].fillna(10, inplace=True)\n",
    "\n",
    "######################################################################################\n",
    "##################### Activity, Technology, Use & Setting ############################\n",
    "######################################################################################\n",
    "\n",
    "# Activity\n",
    "df_2017 = df_2017.rename(columns={\"activity\": \"Activity\"})\n",
    "\n",
    "# Tech\n",
    "df_2017 = df_2017.rename(columns={\"tech\": \"Tech\"})\n",
    "\n",
    "# Setting\n",
    "df_2017 = df_2017.rename(columns={\"setting\": \"Setting\"})\n",
    "\n",
    "# Vehicle\n",
    "df_2017 = df_2017.rename(columns={\"vehicle\": \"Vehicle\"})\n",
    "\n",
    "# Location\n",
    "df_2017 = df_2017.rename(columns={\"location\": \"Location\"})\n",
    "\n",
    "######################################################################################\n",
    "################################### Sexualization ####################################\n",
    "######################################################################################\n",
    "\n",
    "# Sexually Revealing Clothing\n",
    "df_2017 = df_2017.rename(columns={\"sexuallyrevealingclothing\": \"Sexually Revealing Clothing\"})\n",
    "df_2017[\"Sexually Revealing Clothing\"].fillna(10, inplace=True)\n",
    "\n",
    "# State of Nudity\n",
    "df_2017 = df_2017.rename(columns={\"nudity\": \"State of Nudity\"})\n",
    "df_2017[\"State of Nudity\"].fillna(10, inplace=True)\n",
    "\n",
    "# Shown as Body Part\n",
    "df_2017 = df_2017.rename(columns={\"shownasbodyparts\": \"Shown as Body Part\"})\n",
    "df_2017[\"Shown as Body Part\"].fillna(10, inplace=True)\n",
    "\n",
    "# Verbally Sexual Objectification\n",
    "df_2017 = df_2017.rename(columns={\"verballysexuallyobjectified\": \"Verbally Sexual Objectification\"})\n",
    "df_2017[\"Verbally Sexual Objectification\"].fillna(10, inplace=True)\n",
    "\n",
    "\n",
    "######################################################################################\n",
    "######################################## Traits ######################################\n",
    "######################################################################################\n",
    "\n",
    "# TODO: Ask what '4' option is about?\n",
    "# Intelligence\n",
    "df_2017 = df_2017.rename(columns={\"shownasintelligent\": \"Intelligence\"})\n",
    "df_2017[\"Intelligence\"].fillna(10, inplace=True)\n",
    "\n",
    "# TODO: Ask what options \"12\", \"23\", \"1.2\" are about?\n",
    "# Funny\n",
    "df_2017 = df_2017.rename(columns={\"shownasfunny\": \"Funny\"})\n",
    "df_2017[\"Funny\"].fillna(10, inplace=True)\n",
    "\n",
    "######################################################################################\n",
    "################################ Work and Leadership #################################\n",
    "######################################################################################\n",
    "\n",
    "# Occupation Shown\n",
    "df_2017 = df_2017.rename(columns={\"occupationshown\": \"Occupation Shown\"})\n",
    "df_2017[\"Occupation Shown\"].fillna(10, inplace=True)\n",
    "\n",
    "# Occupation\n",
    "df_2017 = df_2017.rename(columns={\"occupation\": \"Occupation\"})\n",
    "\n",
    "# Leader\n",
    "df_2017 = df_2017.rename(columns={\"leader\": \"Leader\"})\n",
    "df_2017[\"Leader\"].fillna(10, inplace=True)\n",
    "\n",
    "# All other variables belong to other excel sheets\n",
    "df_2017[\"file_name\"] = \"\""
   ],
   "metadata": {
    "collapsed": false,
    "pycharm": {
     "name": "#%%\n"
    }
   }
  },
  {
   "cell_type": "code",
   "execution_count": 94,
   "outputs": [],
   "source": [
    "cols = ['Code Name', 'Year', 'Category', 'Catalogue Number', 'Title', 'Advertiser', 'Product',\n",
    "       'Company', 'Country', 'Prize Description', 'Prize code','Video Name','Link to Asset',\n",
    "        'ID','Character ID','Age','Character Gender','Race','Activity','Tech','Setting','Vehicle','Location',\n",
    "        'Sexually Revealing Clothing', 'State of Nudity', 'Shown as Body Part','Verbally Sexual Objectification',\n",
    "        'Intelligence', 'Funny', 'Occupation Shown', 'Occupation', 'Leader','view_video','vatic_link','file_name', 'char_montage']"
   ],
   "metadata": {
    "collapsed": false,
    "pycharm": {
     "name": "#%%\n"
    }
   }
  },
  {
   "cell_type": "code",
   "execution_count": 95,
   "outputs": [
    {
     "data": {
      "text/plain": "  Code Name    Year Category Catalogue Number Title Advertiser Product  \\\n0            2017.0                                                      \n1            2017.0                                                      \n2            2017.0                                                      \n3            2017.0                                                      \n4            2017.0                                                      \n\n  Company Country Prize Description  ... Verbally Sexual Objectification  \\\n0                                    ...                             0.0   \n1                                    ...                             0.0   \n2                                    ...                             0.0   \n3                                    ...                             0.0   \n4                                    ...                             0.0   \n\n  Intelligence Funny  Occupation Shown  Occupation  Leader  \\\n0          0.0   2.0               1.0         3.0     0.0   \n1          0.0   2.0               1.0         3.0     0.0   \n2          0.0   0.0               1.0         2.0     1.0   \n3          3.0   0.0               1.0         3.0     0.0   \n4          3.0   0.0               1.0         3.0     0.0   \n\n                                          view_video  \\\n0  /home/mica/jwt_data/1200_videos_seed343/797600...   \n1  /home/mica/jwt_data/1200_videos_seed343/797600...   \n2  /home/mica/jwt_data/1200_videos_seed343/797026...   \n3  /home/mica/jwt_data/1200_videos_seed343/798212...   \n4  /home/mica/jwt_data/1200_videos_seed343/798212...   \n\n                                        vatic_link file_name  char_montage  \n0  http://mintyfresh.usc.edu?id=6438&hitId=offline                     NaN  \n1  http://mintyfresh.usc.edu?id=6438&hitId=offline                     NaN  \n2  http://mintyfresh.usc.edu?id=6416&hitId=offline                     NaN  \n3  http://mintyfresh.usc.edu?id=6439&hitId=offline                     NaN  \n4  http://mintyfresh.usc.edu?id=6439&hitId=offline                     NaN  \n\n[5 rows x 36 columns]",
      "text/html": "<div>\n<style scoped>\n    .dataframe tbody tr th:only-of-type {\n        vertical-align: middle;\n    }\n\n    .dataframe tbody tr th {\n        vertical-align: top;\n    }\n\n    .dataframe thead th {\n        text-align: right;\n    }\n</style>\n<table border=\"1\" class=\"dataframe\">\n  <thead>\n    <tr style=\"text-align: right;\">\n      <th></th>\n      <th>Code Name</th>\n      <th>Year</th>\n      <th>Category</th>\n      <th>Catalogue Number</th>\n      <th>Title</th>\n      <th>Advertiser</th>\n      <th>Product</th>\n      <th>Company</th>\n      <th>Country</th>\n      <th>Prize Description</th>\n      <th>...</th>\n      <th>Verbally Sexual Objectification</th>\n      <th>Intelligence</th>\n      <th>Funny</th>\n      <th>Occupation Shown</th>\n      <th>Occupation</th>\n      <th>Leader</th>\n      <th>view_video</th>\n      <th>vatic_link</th>\n      <th>file_name</th>\n      <th>char_montage</th>\n    </tr>\n  </thead>\n  <tbody>\n    <tr>\n      <th>0</th>\n      <td></td>\n      <td>2017.0</td>\n      <td></td>\n      <td></td>\n      <td></td>\n      <td></td>\n      <td></td>\n      <td></td>\n      <td></td>\n      <td></td>\n      <td>...</td>\n      <td>0.0</td>\n      <td>0.0</td>\n      <td>2.0</td>\n      <td>1.0</td>\n      <td>3.0</td>\n      <td>0.0</td>\n      <td>/home/mica/jwt_data/1200_videos_seed343/797600...</td>\n      <td>http://mintyfresh.usc.edu?id=6438&amp;hitId=offline</td>\n      <td></td>\n      <td>NaN</td>\n    </tr>\n    <tr>\n      <th>1</th>\n      <td></td>\n      <td>2017.0</td>\n      <td></td>\n      <td></td>\n      <td></td>\n      <td></td>\n      <td></td>\n      <td></td>\n      <td></td>\n      <td></td>\n      <td>...</td>\n      <td>0.0</td>\n      <td>0.0</td>\n      <td>2.0</td>\n      <td>1.0</td>\n      <td>3.0</td>\n      <td>0.0</td>\n      <td>/home/mica/jwt_data/1200_videos_seed343/797600...</td>\n      <td>http://mintyfresh.usc.edu?id=6438&amp;hitId=offline</td>\n      <td></td>\n      <td>NaN</td>\n    </tr>\n    <tr>\n      <th>2</th>\n      <td></td>\n      <td>2017.0</td>\n      <td></td>\n      <td></td>\n      <td></td>\n      <td></td>\n      <td></td>\n      <td></td>\n      <td></td>\n      <td></td>\n      <td>...</td>\n      <td>0.0</td>\n      <td>0.0</td>\n      <td>0.0</td>\n      <td>1.0</td>\n      <td>2.0</td>\n      <td>1.0</td>\n      <td>/home/mica/jwt_data/1200_videos_seed343/797026...</td>\n      <td>http://mintyfresh.usc.edu?id=6416&amp;hitId=offline</td>\n      <td></td>\n      <td>NaN</td>\n    </tr>\n    <tr>\n      <th>3</th>\n      <td></td>\n      <td>2017.0</td>\n      <td></td>\n      <td></td>\n      <td></td>\n      <td></td>\n      <td></td>\n      <td></td>\n      <td></td>\n      <td></td>\n      <td>...</td>\n      <td>0.0</td>\n      <td>3.0</td>\n      <td>0.0</td>\n      <td>1.0</td>\n      <td>3.0</td>\n      <td>0.0</td>\n      <td>/home/mica/jwt_data/1200_videos_seed343/798212...</td>\n      <td>http://mintyfresh.usc.edu?id=6439&amp;hitId=offline</td>\n      <td></td>\n      <td>NaN</td>\n    </tr>\n    <tr>\n      <th>4</th>\n      <td></td>\n      <td>2017.0</td>\n      <td></td>\n      <td></td>\n      <td></td>\n      <td></td>\n      <td></td>\n      <td></td>\n      <td></td>\n      <td></td>\n      <td>...</td>\n      <td>0.0</td>\n      <td>3.0</td>\n      <td>0.0</td>\n      <td>1.0</td>\n      <td>3.0</td>\n      <td>0.0</td>\n      <td>/home/mica/jwt_data/1200_videos_seed343/798212...</td>\n      <td>http://mintyfresh.usc.edu?id=6439&amp;hitId=offline</td>\n      <td></td>\n      <td>NaN</td>\n    </tr>\n  </tbody>\n</table>\n<p>5 rows × 36 columns</p>\n</div>"
     },
     "execution_count": 95,
     "metadata": {},
     "output_type": "execute_result"
    }
   ],
   "source": [
    "df_2017 = df_2017[cols]\n",
    "df_2017.head()"
   ],
   "metadata": {
    "collapsed": false,
    "pycharm": {
     "name": "#%%\n"
    }
   }
  },
  {
   "cell_type": "code",
   "execution_count": 96,
   "outputs": [
    {
     "data": {
      "text/plain": "  Code Name    Year Category Catalogue Number         Title  \\\n0            2008.0      A21          A21/057    METAL SHOP   \n1            2008.0      A21          A21/057    METAL SHOP   \n2            2008.0      A25          A25/011          NAIL   \n3            2008.0      A25          A25/005  SMASH & GRAB   \n4            2008.0      A15          A15/013        STACKS   \n\n                                   Advertiser                     Product  \\\n0                          PACIFIC BLUE CROSS            HEALTH INSURANCE   \n1                          PACIFIC BLUE CROSS            HEALTH INSURANCE   \n2  WORKERS' COMPENSATION BOARD OF NOVA SCOTIA  WORKPLACE SAFETY AWARENESS   \n3                 VANCOUVER POLICE DEPARTMENT  THEFT AWARENESS/PREVENTION   \n4                                       APPLE                   iPOD NANO   \n\n                           Company Country     Prize Description  ...  \\\n0             DDB CANADA VANCOUVER  CANADA  Bronze Lion Campaign  ...   \n1             DDB CANADA VANCOUVER  CANADA  Bronze Lion Campaign  ...   \n2            EXTREME GROUP Halifax  CANADA           Bronze Lion  ...   \n3                RETHINK Vancouver  CANADA                   NaN  ...   \n4  TBWA\\MEDIA ARTS LAB Los Angeles     USA                   NaN  ...   \n\n   Verbally Sexual Objectification Intelligence Funny  Occupation Shown  \\\n0                              0.0          1.0   0.0               1.0   \n1                              0.0          1.0   0.0               1.0   \n2                              0.0          0.0   0.0               1.0   \n3                              0.0          0.0   0.0               1.0   \n4                              0.0          0.0   0.0               1.0   \n\n   Occupation  Leader  view_video  vatic_link  \\\n0         3.0     0.0                           \n1         3.0     0.0                           \n2         3.0     0.0                           \n3         7.0     0.0                           \n4         2.0     1.0                           \n\n                                file_name  char_montage  \n0    2008_Film_A21_057_METAL SHOP_186.mp4                \n1    2008_Film_A21_057_METAL SHOP_186.mp4                \n2          2008_Film_A25_011_NAIL_229.mp4                \n3  2008_Film_A25_005_SMASH & GRAB_268.mp4                \n4        2008_Film_A15_013_STACKS_270.mp4                \n\n[5 rows x 36 columns]",
      "text/html": "<div>\n<style scoped>\n    .dataframe tbody tr th:only-of-type {\n        vertical-align: middle;\n    }\n\n    .dataframe tbody tr th {\n        vertical-align: top;\n    }\n\n    .dataframe thead th {\n        text-align: right;\n    }\n</style>\n<table border=\"1\" class=\"dataframe\">\n  <thead>\n    <tr style=\"text-align: right;\">\n      <th></th>\n      <th>Code Name</th>\n      <th>Year</th>\n      <th>Category</th>\n      <th>Catalogue Number</th>\n      <th>Title</th>\n      <th>Advertiser</th>\n      <th>Product</th>\n      <th>Company</th>\n      <th>Country</th>\n      <th>Prize Description</th>\n      <th>...</th>\n      <th>Verbally Sexual Objectification</th>\n      <th>Intelligence</th>\n      <th>Funny</th>\n      <th>Occupation Shown</th>\n      <th>Occupation</th>\n      <th>Leader</th>\n      <th>view_video</th>\n      <th>vatic_link</th>\n      <th>file_name</th>\n      <th>char_montage</th>\n    </tr>\n  </thead>\n  <tbody>\n    <tr>\n      <th>0</th>\n      <td></td>\n      <td>2008.0</td>\n      <td>A21</td>\n      <td>A21/057</td>\n      <td>METAL SHOP</td>\n      <td>PACIFIC BLUE CROSS</td>\n      <td>HEALTH INSURANCE</td>\n      <td>DDB CANADA VANCOUVER</td>\n      <td>CANADA</td>\n      <td>Bronze Lion Campaign</td>\n      <td>...</td>\n      <td>0.0</td>\n      <td>1.0</td>\n      <td>0.0</td>\n      <td>1.0</td>\n      <td>3.0</td>\n      <td>0.0</td>\n      <td></td>\n      <td></td>\n      <td>2008_Film_A21_057_METAL SHOP_186.mp4</td>\n      <td></td>\n    </tr>\n    <tr>\n      <th>1</th>\n      <td></td>\n      <td>2008.0</td>\n      <td>A21</td>\n      <td>A21/057</td>\n      <td>METAL SHOP</td>\n      <td>PACIFIC BLUE CROSS</td>\n      <td>HEALTH INSURANCE</td>\n      <td>DDB CANADA VANCOUVER</td>\n      <td>CANADA</td>\n      <td>Bronze Lion Campaign</td>\n      <td>...</td>\n      <td>0.0</td>\n      <td>1.0</td>\n      <td>0.0</td>\n      <td>1.0</td>\n      <td>3.0</td>\n      <td>0.0</td>\n      <td></td>\n      <td></td>\n      <td>2008_Film_A21_057_METAL SHOP_186.mp4</td>\n      <td></td>\n    </tr>\n    <tr>\n      <th>2</th>\n      <td></td>\n      <td>2008.0</td>\n      <td>A25</td>\n      <td>A25/011</td>\n      <td>NAIL</td>\n      <td>WORKERS' COMPENSATION BOARD OF NOVA SCOTIA</td>\n      <td>WORKPLACE SAFETY AWARENESS</td>\n      <td>EXTREME GROUP Halifax</td>\n      <td>CANADA</td>\n      <td>Bronze Lion</td>\n      <td>...</td>\n      <td>0.0</td>\n      <td>0.0</td>\n      <td>0.0</td>\n      <td>1.0</td>\n      <td>3.0</td>\n      <td>0.0</td>\n      <td></td>\n      <td></td>\n      <td>2008_Film_A25_011_NAIL_229.mp4</td>\n      <td></td>\n    </tr>\n    <tr>\n      <th>3</th>\n      <td></td>\n      <td>2008.0</td>\n      <td>A25</td>\n      <td>A25/005</td>\n      <td>SMASH &amp; GRAB</td>\n      <td>VANCOUVER POLICE DEPARTMENT</td>\n      <td>THEFT AWARENESS/PREVENTION</td>\n      <td>RETHINK Vancouver</td>\n      <td>CANADA</td>\n      <td>NaN</td>\n      <td>...</td>\n      <td>0.0</td>\n      <td>0.0</td>\n      <td>0.0</td>\n      <td>1.0</td>\n      <td>7.0</td>\n      <td>0.0</td>\n      <td></td>\n      <td></td>\n      <td>2008_Film_A25_005_SMASH &amp; GRAB_268.mp4</td>\n      <td></td>\n    </tr>\n    <tr>\n      <th>4</th>\n      <td></td>\n      <td>2008.0</td>\n      <td>A15</td>\n      <td>A15/013</td>\n      <td>STACKS</td>\n      <td>APPLE</td>\n      <td>iPOD NANO</td>\n      <td>TBWA\\MEDIA ARTS LAB Los Angeles</td>\n      <td>USA</td>\n      <td>NaN</td>\n      <td>...</td>\n      <td>0.0</td>\n      <td>0.0</td>\n      <td>0.0</td>\n      <td>1.0</td>\n      <td>2.0</td>\n      <td>1.0</td>\n      <td></td>\n      <td></td>\n      <td>2008_Film_A15_013_STACKS_270.mp4</td>\n      <td></td>\n    </tr>\n  </tbody>\n</table>\n<p>5 rows × 36 columns</p>\n</div>"
     },
     "execution_count": 96,
     "metadata": {},
     "output_type": "execute_result"
    }
   ],
   "source": [
    "df_2006_2016 = df_2006_2016[cols]\n",
    "df_2006_2016.head()"
   ],
   "metadata": {
    "collapsed": false,
    "pycharm": {
     "name": "#%%\n"
    }
   }
  },
  {
   "cell_type": "code",
   "execution_count": 97,
   "outputs": [],
   "source": [
    "df = pd.concat([df_2006_2016, df_2017], ignore_index=True)"
   ],
   "metadata": {
    "collapsed": false,
    "pycharm": {
     "name": "#%%\n"
    }
   }
  },
  {
   "cell_type": "code",
   "execution_count": 98,
   "outputs": [],
   "source": [
    "df.to_csv(\"Merged_Preprocessed_2006-2017.csv\", encoding='utf-8', index=False)"
   ],
   "metadata": {
    "collapsed": false,
    "pycharm": {
     "name": "#%%\n"
    }
   }
  }
 ],
 "metadata": {
  "kernelspec": {
   "display_name": "Python 3",
   "language": "python",
   "name": "python3"
  },
  "language_info": {
   "codemirror_mode": {
    "name": "ipython",
    "version": 2
   },
   "file_extension": ".py",
   "mimetype": "text/x-python",
   "name": "python",
   "nbconvert_exporter": "python",
   "pygments_lexer": "ipython2",
   "version": "2.7.6"
  }
 },
 "nbformat": 4,
 "nbformat_minor": 0
}
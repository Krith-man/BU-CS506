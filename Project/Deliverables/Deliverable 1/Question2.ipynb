{
 "cells": [
  {
   "cell_type": "markdown",
   "id": "41f9a29c",
   "metadata": {},
   "source": [
    "# Question: Is there a change in representation in advertisements over time?\n"
   ]
  },
  {
   "cell_type": "code",
   "execution_count": 1,
   "id": "5f5586f9",
   "metadata": {},
   "outputs": [],
   "source": [
    "import pandas as pd\n",
    "import matplotlib.pyplot as plt\n",
    "import numpy as np"
   ]
  },
  {
   "cell_type": "code",
   "execution_count": 2,
   "id": "30022224",
   "metadata": {},
   "outputs": [
    {
     "data": {
      "text/html": [
       "<div>\n",
       "<style scoped>\n",
       "    .dataframe tbody tr th:only-of-type {\n",
       "        vertical-align: middle;\n",
       "    }\n",
       "\n",
       "    .dataframe tbody tr th {\n",
       "        vertical-align: top;\n",
       "    }\n",
       "\n",
       "    .dataframe thead th {\n",
       "        text-align: right;\n",
       "    }\n",
       "</style>\n",
       "<table border=\"1\" class=\"dataframe\">\n",
       "  <thead>\n",
       "    <tr style=\"text-align: right;\">\n",
       "      <th></th>\n",
       "      <th>Coder</th>\n",
       "      <th>Asset_Name</th>\n",
       "      <th>Brand</th>\n",
       "      <th>Lead_Country</th>\n",
       "      <th>Year_Produced</th>\n",
       "      <th>Year_Aired</th>\n",
       "      <th>Segment</th>\n",
       "      <th>Agency</th>\n",
       "      <th>Character_Name</th>\n",
       "      <th>Character_Description</th>\n",
       "      <th>...</th>\n",
       "      <th>Q23i_Clumsy</th>\n",
       "      <th>Q23j_Alone</th>\n",
       "      <th>Q24a_Comic_Relief</th>\n",
       "      <th>Q24b_Sidekick</th>\n",
       "      <th>Q24c_Mamma_Hen</th>\n",
       "      <th>Q24d_Nympho</th>\n",
       "      <th>Q25_Fat_to_Fit</th>\n",
       "      <th>Q26_Inspo_Porn</th>\n",
       "      <th>Q25_NOTES</th>\n",
       "      <th>Notes on Dwelling</th>\n",
       "    </tr>\n",
       "  </thead>\n",
       "  <tbody>\n",
       "    <tr>\n",
       "      <th>0</th>\n",
       "      <td>Emma</td>\n",
       "      <td>Airwaves 2020 Intense Mint launch campaign video</td>\n",
       "      <td>Airwaves</td>\n",
       "      <td>NORTH ASIA</td>\n",
       "      <td>2020</td>\n",
       "      <td>2020</td>\n",
       "      <td>Confectionary</td>\n",
       "      <td>DDB</td>\n",
       "      <td>Man</td>\n",
       "      <td>at party</td>\n",
       "      <td>...</td>\n",
       "      <td>10</td>\n",
       "      <td>10</td>\n",
       "      <td>10</td>\n",
       "      <td>10</td>\n",
       "      <td>10</td>\n",
       "      <td>10</td>\n",
       "      <td>10</td>\n",
       "      <td>10</td>\n",
       "      <td>NaN</td>\n",
       "      <td>NaN</td>\n",
       "    </tr>\n",
       "    <tr>\n",
       "      <th>1</th>\n",
       "      <td>Pamela</td>\n",
       "      <td>BOOMER BICEP</td>\n",
       "      <td>BOOMER</td>\n",
       "      <td>India</td>\n",
       "      <td>2020</td>\n",
       "      <td>2020</td>\n",
       "      <td>Confectionary</td>\n",
       "      <td>DDB</td>\n",
       "      <td>Boomer Man</td>\n",
       "      <td>Shirtless, dark hair, chewing gum</td>\n",
       "      <td>...</td>\n",
       "      <td>10</td>\n",
       "      <td>10</td>\n",
       "      <td>10</td>\n",
       "      <td>10</td>\n",
       "      <td>10</td>\n",
       "      <td>10</td>\n",
       "      <td>10</td>\n",
       "      <td>10</td>\n",
       "      <td>NaN</td>\n",
       "      <td>NaN</td>\n",
       "    </tr>\n",
       "    <tr>\n",
       "      <th>2</th>\n",
       "      <td>CEspinoza</td>\n",
       "      <td>BOOMER RAMAYAN</td>\n",
       "      <td>BOOMER</td>\n",
       "      <td>India</td>\n",
       "      <td>2020</td>\n",
       "      <td>2020</td>\n",
       "      <td>Confectionary</td>\n",
       "      <td>DDB</td>\n",
       "      <td>Older man watching TV</td>\n",
       "      <td>Older man watching TV</td>\n",
       "      <td>...</td>\n",
       "      <td>10</td>\n",
       "      <td>10</td>\n",
       "      <td>10</td>\n",
       "      <td>10</td>\n",
       "      <td>10</td>\n",
       "      <td>10</td>\n",
       "      <td>10</td>\n",
       "      <td>10</td>\n",
       "      <td>NaN</td>\n",
       "      <td>NaN</td>\n",
       "    </tr>\n",
       "    <tr>\n",
       "      <th>3</th>\n",
       "      <td>CEspinoza</td>\n",
       "      <td>BOOMER RAMAYAN</td>\n",
       "      <td>BOOMER</td>\n",
       "      <td>India</td>\n",
       "      <td>2020</td>\n",
       "      <td>2020</td>\n",
       "      <td>Confectionary</td>\n",
       "      <td>DDB</td>\n",
       "      <td>Boy watching TV</td>\n",
       "      <td>Boy watching TV</td>\n",
       "      <td>...</td>\n",
       "      <td>10</td>\n",
       "      <td>10</td>\n",
       "      <td>10</td>\n",
       "      <td>10</td>\n",
       "      <td>10</td>\n",
       "      <td>10</td>\n",
       "      <td>10</td>\n",
       "      <td>10</td>\n",
       "      <td>NaN</td>\n",
       "      <td>NaN</td>\n",
       "    </tr>\n",
       "    <tr>\n",
       "      <th>4</th>\n",
       "      <td>CAckel</td>\n",
       "      <td>BOOMER FISH BOWL</td>\n",
       "      <td>BOOMER</td>\n",
       "      <td>India</td>\n",
       "      <td>2020</td>\n",
       "      <td>2020</td>\n",
       "      <td>Confectionary</td>\n",
       "      <td>DDB</td>\n",
       "      <td>girl</td>\n",
       "      <td>sad</td>\n",
       "      <td>...</td>\n",
       "      <td>10</td>\n",
       "      <td>10</td>\n",
       "      <td>10</td>\n",
       "      <td>10</td>\n",
       "      <td>10</td>\n",
       "      <td>10</td>\n",
       "      <td>10</td>\n",
       "      <td>10</td>\n",
       "      <td>NaN</td>\n",
       "      <td>NaN</td>\n",
       "    </tr>\n",
       "  </tbody>\n",
       "</table>\n",
       "<p>5 rows × 88 columns</p>\n",
       "</div>"
      ],
      "text/plain": [
       "       Coder                                        Asset_Name  \\\n",
       "0       Emma  Airwaves 2020 Intense Mint launch campaign video   \n",
       "1     Pamela                                      BOOMER BICEP   \n",
       "2  CEspinoza                                    BOOMER RAMAYAN   \n",
       "3  CEspinoza                                    BOOMER RAMAYAN   \n",
       "4     CAckel                                  BOOMER FISH BOWL   \n",
       "\n",
       "             Brand Lead_Country  Year_Produced  Year_Aired        Segment  \\\n",
       "0  Airwaves          NORTH ASIA           2020        2020  Confectionary   \n",
       "1           BOOMER        India           2020        2020  Confectionary   \n",
       "2           BOOMER        India           2020        2020  Confectionary   \n",
       "3           BOOMER        India           2020        2020  Confectionary   \n",
       "4           BOOMER        India           2020        2020  Confectionary   \n",
       "\n",
       "  Agency         Character_Name              Character_Description  ...  \\\n",
       "0    DDB                    Man                           at party  ...   \n",
       "1    DDB             Boomer Man  Shirtless, dark hair, chewing gum  ...   \n",
       "2    DDB  Older man watching TV              Older man watching TV  ...   \n",
       "3    DDB        Boy watching TV                    Boy watching TV  ...   \n",
       "4    DDB                   girl                                sad  ...   \n",
       "\n",
       "   Q23i_Clumsy  Q23j_Alone Q24a_Comic_Relief  Q24b_Sidekick  Q24c_Mamma_Hen  \\\n",
       "0           10          10                10             10              10   \n",
       "1           10          10                10             10              10   \n",
       "2           10          10                10             10              10   \n",
       "3           10          10                10             10              10   \n",
       "4           10          10                10             10              10   \n",
       "\n",
       "   Q24d_Nympho  Q25_Fat_to_Fit Q26_Inspo_Porn  Q25_NOTES Notes on Dwelling  \n",
       "0           10              10             10        NaN               NaN  \n",
       "1           10              10             10        NaN               NaN  \n",
       "2           10              10             10        NaN               NaN  \n",
       "3           10              10             10        NaN               NaN  \n",
       "4           10              10             10        NaN               NaN  \n",
       "\n",
       "[5 rows x 88 columns]"
      ]
     },
     "execution_count": 2,
     "metadata": {},
     "output_type": "execute_result"
    }
   ],
   "source": [
    "df = pd.read_csv('Merged_Preprocessed_Mars2020_2021.csv')\n",
    "df.head()"
   ]
  },
  {
   "cell_type": "markdown",
   "id": "ad3d8223",
   "metadata": {},
   "source": [
    "To answer this question, we choose three different representations: age, sex, race/ethnicity to analyze.\n",
    "\n",
    "We are going to plot bar charts to see the changes between different years."
   ]
  },
  {
   "cell_type": "markdown",
   "id": "7c30c733",
   "metadata": {},
   "source": [
    "## Age"
   ]
  },
  {
   "cell_type": "code",
   "execution_count": 3,
   "id": "ae18344e",
   "metadata": {},
   "outputs": [],
   "source": [
    "# “Q2_Age”, “Q3_Sex”, and “Q7_Race_Ethnicity”.\n",
    "uniq_age = np.sort(df['Q2_Age'].unique()).tolist()\n",
    "# to get age distribution of Year_Aired = 2020\n",
    "age_total = [[0, 0] for _ in range(len(uniq_age) + 1)]\n",
    "# age_total[i][0] means the value counts of i-th answer of Q2_Age in Year_Aired = 2019\n",
    "# age_total[i][1] means the value counts of i-th answer of Q2_Age in Year_Aired = 2020\n",
    "# age_total[-1][0/1] means the total value counts of Q2_Age in Year_Aired = 2019/2020\n",
    "\n",
    "year_2020_counts = df[df['Year_Aired'] == 2020]['Q2_Age'].value_counts()\n",
    "year_2019_counts = df[df['Year_Aired'] == 2019]['Q2_Age'].value_counts()\n",
    "sum_of_2019 = 0\n",
    "sum_of_2020 = 0\n",
    "for i in range(len(age_total) - 1):\n",
    "    age_idx = uniq_age[i]\n",
    "    if age_idx in year_2020_counts.index:\n",
    "        age_total[i][1] = year_2020_counts[age_idx]\n",
    "        sum_of_2020 += age_total[i][1]\n",
    "    else:\n",
    "        age_total[i][1] = 0\n",
    "        \n",
    "    if age_idx in year_2019_counts.index:\n",
    "        age_total[i][0] = year_2019_counts[age_idx]\n",
    "        sum_of_2019 += age_total[i][0]\n",
    "    else:\n",
    "        age_total[i][0] = 0\n",
    "uniq_age.append('total')\n",
    "age_total[-1][0] = sum_of_2019\n",
    "age_total[-1][1] = sum_of_2020\n",
    "# age_total"
   ]
  },
  {
   "cell_type": "code",
   "execution_count": 4,
   "id": "27a2aae4",
   "metadata": {},
   "outputs": [
    {
     "data": {
      "image/png": "[encoded data removed]",
      "text/plain": [
       "<Figure size 864x576 with 1 Axes>"
      ]
     },
     "metadata": {
      "needs_background": "light"
     },
     "output_type": "display_data"
    }
   ],
   "source": [
    "# plot\n",
    "# set width of bar\n",
    "barWidth = 0.05\n",
    "fig = plt.subplots(figsize =(12, 8))\n",
    "colors = ['b','g','r','c','m','y', 'lime', 'navy', 'gold', 'orange', 'coral', 'brown']\n",
    "\n",
    "# Set position of bar on X axis\n",
    "br = []\n",
    "br_tmp = np.arange(len(age_total[0]))\n",
    "br.append(br_tmp)\n",
    "\n",
    "for i in range(1, len(age_total)):\n",
    "    br_tmp = [x + barWidth for x in br[i-1]]\n",
    "    br.append(br_tmp)\n",
    "\n",
    "# Make the plot\n",
    "for i in range(len(br)):\n",
    "    plt.bar(br[i], age_total[i], color =colors[i], width = barWidth, edgecolor ='grey', label = str(uniq_age[i]))\n",
    "\n",
    "# Adding Xticks\n",
    "plt.xlabel('Year_Aired', fontweight ='bold', fontsize = 15)\n",
    "plt.ylabel('Answer No. of Q2_Age', fontweight ='bold', fontsize = 15)\n",
    "plt.xticks([r + 5 * barWidth for r in range(len(br[0]))],\n",
    "        ['2019', '2020'])\n",
    "\n",
    "plt.legend()\n",
    "plt.show()"
   ]
  },
  {
   "cell_type": "markdown",
   "id": "c370f267",
   "metadata": {},
   "source": [
    "### Conclusion"
   ]
  },
  {
   "cell_type": "markdown",
   "id": "cb4fc697",
   "metadata": {},
   "source": [
    "From the bar chart above, we can see that the distribution of two answers are almost the same; both figure out that option 4, who in their 20s, have the most people. But comparing to 2019, the total number of answers in 2020 decreased."
   ]
  },
  {
   "cell_type": "markdown",
   "id": "abe44096",
   "metadata": {},
   "source": [
    "## Q3_Sex"
   ]
  },
  {
   "cell_type": "code",
   "execution_count": 5,
   "id": "4022a193",
   "metadata": {},
   "outputs": [],
   "source": [
    "# “Q2_Age”, “Q3_Sex”, and “Q7_Race_Ethnicity”.\n",
    "# uniq_sex = np.sort(df['Q3_Sex'].unique()).tolist()\n",
    "uniq_sex = [1, 2, 3, 4, 9]\n",
    "# to get age distribution of Year_Aired = 2020\n",
    "sex_total = [[0, 0] for _ in range(len(uniq_sex) + 1)]\n",
    "# sex_total[i][0] means the value counts of i-th answer of Q3_Sex in Year_Aired = 2019\n",
    "# sex_total[i][1] means the value counts of i-th answer of Q3_Sex in Year_Aired = 2020\n",
    "# sex_total[-1][0/1] means the total value counts of Q3_Sex in Year_Aired = 2019/2020\n",
    "\n",
    "year_2020_counts = df[df['Year_Aired'] == 2020]['Q3_Sex'].value_counts()\n",
    "year_2019_counts = df[df['Year_Aired'] == 2019]['Q3_Sex'].value_counts()\n",
    "sum_of_2019 = 0\n",
    "sum_of_2020 = 0\n",
    "for i in range(len(sex_total) - 1):\n",
    "    sex_idx = uniq_sex[i]\n",
    "    if sex_idx in year_2020_counts.index:\n",
    "        sex_total[i][1] = year_2020_counts[sex_idx]\n",
    "        sum_of_2020 += sex_total[i][1]\n",
    "    else:\n",
    "        sex_total[i][1] = 0\n",
    "        \n",
    "    if sex_idx in year_2019_counts.index:\n",
    "        sex_total[i][0] = year_2019_counts[sex_idx]\n",
    "        sum_of_2019 += sex_total[i][0]\n",
    "    else:\n",
    "        sex_total[i][0] = 0\n",
    "uniq_sex.append('total')\n",
    "sex_total[-1][0] = sum_of_2019\n",
    "sex_total[-1][1] = sum_of_2020\n",
    "# sex_total"
   ]
  },
  {
   "cell_type": "code",
   "execution_count": 6,
   "id": "11ee55e5",
   "metadata": {},
   "outputs": [
    {
     "data": {
      "image/png": "[encoded data removed]",
      "text/plain": [
       "<Figure size 864x576 with 1 Axes>"
      ]
     },
     "metadata": {
      "needs_background": "light"
     },
     "output_type": "display_data"
    }
   ],
   "source": [
    "# plot\n",
    "# set width of bar\n",
    "barWidth = 0.1\n",
    "fig = plt.subplots(figsize =(12, 8))\n",
    "colors = ['b','g','r','c','m','y', 'lime', 'navy', 'gold', 'orange', 'coral', 'brown']\n",
    "\n",
    "# Set position of bar on X axis\n",
    "br = []\n",
    "br_tmp = np.arange(len(sex_total[0]))\n",
    "br.append(br_tmp)\n",
    "\n",
    "for i in range(1, len(sex_total)):\n",
    "    br_tmp = [x + barWidth for x in br[i-1]]\n",
    "    br.append(br_tmp)\n",
    "\n",
    "# Make the plot\n",
    "for i in range(len(br)):\n",
    "    plt.bar(br[i], sex_total[i], color =colors[i], width = barWidth, edgecolor ='grey', label = str(uniq_sex[i]))\n",
    "\n",
    "# Adding Xticks\n",
    "plt.xlabel('Year_Aired', fontweight ='bold', fontsize = 15)\n",
    "plt.ylabel('Answer No. of Q3_Sex', fontweight ='bold', fontsize = 15)\n",
    "plt.xticks([r + 2.5 * barWidth for r in range(len(br[0]))],\n",
    "        ['2019', '2020'])\n",
    "\n",
    "plt.legend()\n",
    "plt.show()"
   ]
  },
  {
   "cell_type": "markdown",
   "id": "70636ad8",
   "metadata": {},
   "source": [
    "### Conclusion"
   ]
  },
  {
   "cell_type": "markdown",
   "id": "6f003476",
   "metadata": {},
   "source": [
    "From the bar chart of the distribution of Q3_Sex answers, we can find that the distribution of two different years are almost the same; both of them have more answers of option 2 -- which is 'male'. But comparing to 2019, the total number of answers in 2020 decreased."
   ]
  },
  {
   "cell_type": "markdown",
   "id": "9661b943",
   "metadata": {},
   "source": [
    "## Race_Ethnicity"
   ]
  },
  {
   "cell_type": "code",
   "execution_count": 11,
   "id": "9e3df7f5",
   "metadata": {},
   "outputs": [],
   "source": [
    "# “Q2_Age”, “Q3_Sex”, and “Q7_Race_Ethnicity”.\n",
    "# uniq_race = np.sort(df['Q7_Race_Ethnicity'].unique()).tolist()\n",
    "# uniq_race = [i for i in range(1, 12)]\n",
    "uniq_race = [1,2,3,4,5,6,8,9,10,11]\n",
    "# to get age distribution of Year_Aired = 2020\n",
    "race_total = [[0, 0] for _ in range(len(uniq_race) + 1)]\n",
    "# race_total[i][0] means the value counts of i-th answer of Q7_Race_Ethnicity in Year_Aired = 2019\n",
    "# race_total[i][1] means the value counts of i-th answer of Q7_Race_Ethnicity in Year_Aired = 2020\n",
    "# race_total[-1][0/1] means the total value counts of Q7_Race_Ethnicity in Year_Aired = 2019/2020\n",
    "\n",
    "year_2020_counts = df[df['Year_Aired'] == 2020]['Q7_Race_Ethnicity'].value_counts()\n",
    "year_2019_counts = df[df['Year_Aired'] == 2019]['Q7_Race_Ethnicity'].value_counts()\n",
    "sum_of_2019 = 0\n",
    "sum_of_2020 = 0\n",
    "for i in range(len(race_total) - 1):\n",
    "    race_idx = uniq_race[i]\n",
    "    if race_idx in year_2020_counts.index:\n",
    "        race_total[i][1] = year_2020_counts[race_idx]\n",
    "        sum_of_2020 += race_total[i][1]\n",
    "    else:\n",
    "        race_total[i][1] = 0\n",
    "        \n",
    "    if race_idx in year_2019_counts.index:\n",
    "        race_total[i][0] = year_2019_counts[race_idx]\n",
    "        sum_of_2019 += race_total[i][0]\n",
    "    else:\n",
    "        race_total[i][0] = 0\n",
    "uniq_race.append('total')\n",
    "race_total[-1][0] = sum_of_2019\n",
    "race_total[-1][1] = sum_of_2020\n",
    "# race_total"
   ]
  },
  {
   "cell_type": "code",
   "execution_count": 12,
   "id": "b146b2c3",
   "metadata": {},
   "outputs": [
    {
     "data": {
      "image/png": "[encoded data removed]",
      "text/plain": [
       "<Figure size 864x576 with 1 Axes>"
      ]
     },
     "metadata": {
      "needs_background": "light"
     },
     "output_type": "display_data"
    }
   ],
   "source": [
    "# plot\n",
    "# set width of bar\n",
    "barWidth = 0.06\n",
    "fig = plt.subplots(figsize =(12, 8))\n",
    "colors = ['b','g','r','c','m','y', 'navy', 'gold', 'orange', 'coral', 'brown']\n",
    "\n",
    "# Set position of bar on X axis\n",
    "br = []\n",
    "br_tmp = np.arange(len(race_total[0]))\n",
    "br.append(br_tmp)\n",
    "\n",
    "for i in range(1, len(race_total)):\n",
    "    br_tmp = [x + barWidth for x in br[i-1]]\n",
    "    br.append(br_tmp)\n",
    "\n",
    "# Make the plot\n",
    "for i in range(len(br)):\n",
    "    plt.bar(br[i], race_total[i], color =colors[i], width = barWidth, edgecolor ='grey', label = str(uniq_race[i]))\n",
    "\n",
    "# Adding Xticks\n",
    "plt.xlabel('Year_Aired', fontweight ='bold', fontsize = 15)\n",
    "plt.ylabel('Answer No. of Q7_Race_Ethnicity', fontweight ='bold', fontsize = 15)\n",
    "plt.xticks([r + 5 * barWidth for r in range(len(br[0]))],\n",
    "        ['2019', '2020'])\n",
    "\n",
    "plt.legend()\n",
    "plt.show()"
   ]
  },
  {
   "cell_type": "markdown",
   "id": "90fb54ee",
   "metadata": {},
   "source": [
    "### Conclusion"
   ]
  },
  {
   "cell_type": "markdown",
   "id": "de31104f",
   "metadata": {},
   "source": [
    "From the bar chart above, we can see that the distributions of answers between two years do not change much. White people (Option 1) are the majority of the answer set. But comparing to 2019, the total number of answers in 2020 decreased."
   ]
  }
 ],
 "metadata": {
  "kernelspec": {
   "display_name": "Python 3 (ipykernel)",
   "language": "python",
   "name": "python3"
  },
  "language_info": {
   "codemirror_mode": {
    "name": "ipython",
    "version": 3
   },
   "file_extension": ".py",
   "mimetype": "text/x-python",
   "name": "python",
   "nbconvert_exporter": "python",
   "pygments_lexer": "ipython3",
   "version": "3.9.6"
  }
 },
 "nbformat": 4,
 "nbformat_minor": 5
}

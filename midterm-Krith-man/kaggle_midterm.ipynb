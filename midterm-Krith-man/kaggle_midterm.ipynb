{
 "cells": [
  {
   "cell_type": "code",
   "execution_count": 12,
   "id": "e3fa6b6a",
   "metadata": {},
   "outputs": [],
   "source": [
    "import pandas as pd\n",
    "import numpy as np\n",
    "import re\n",
    "import warnings\n",
    "warnings.filterwarnings('ignore')\n",
    "from sklearn.feature_extraction.text import TfidfVectorizer\n",
    "from nltk.corpus import stopwords\n",
    "from scipy.sparse import hstack\n",
    "from scipy.sparse import csr_matrix\n",
    "from sklearn.preprocessing import OneHotEncoder\n",
    "from sklearn.model_selection import train_test_split\n",
    "from sklearn.model_selection import KFold\n",
    "from sklearn.metrics import accuracy_score\n",
    "from sklearn.linear_model import LogisticRegression\n",
    "from sklearn.ensemble import RandomForestClassifier\n",
    "from sklearn.metrics import plot_confusion_matrix\n",
    "from sklearn.pipeline import make_pipeline\n",
    "from sklearn.decomposition import TruncatedSVD\n",
    "\n",
    "origin_data = pd.read_csv(\"./data/train.csv\")\n",
    "submission_data = pd.read_csv(\"./data/test.csv\")"
   ]
  },
  {
   "cell_type": "markdown",
   "id": "cf070a04",
   "metadata": {},
   "source": [
    "\n",
    "- Handle the null values of text and summary columns. If we find one in either column we replace it with an empty string.\n",
    "- Since we are going to use TFIDF vectorization later and we care about the individual words, we combine both of the 'Text' and 'Summary' columns into one.\n",
    "- Clean the combine textual info from URLs, punctuations, speecial characters and lowercase the words.\n",
    "- During the TFIDF vectorization we remove the stop-words, which do not put any importance to the textual info. \n",
    "- Keep as words only those we have seen at least two times (no stopwords of course) to increase the importance of words included in the corpus.  "
   ]
  },
  {
   "cell_type": "code",
   "execution_count": 4,
   "id": "4fdcf303",
   "metadata": {},
   "outputs": [
    {
     "data": {
      "text/html": [
       "<div>\n",
       "<style scoped>\n",
       "    .dataframe tbody tr th:only-of-type {\n",
       "        vertical-align: middle;\n",
       "    }\n",
       "\n",
       "    .dataframe tbody tr th {\n",
       "        vertical-align: top;\n",
       "    }\n",
       "\n",
       "    .dataframe thead th {\n",
       "        text-align: right;\n",
       "    }\n",
       "</style>\n",
       "<table border=\"1\" class=\"dataframe\">\n",
       "  <thead>\n",
       "    <tr style=\"text-align: right;\">\n",
       "      <th></th>\n",
       "      <th>ProductId</th>\n",
       "      <th>UserId</th>\n",
       "      <th>HelpfulnessNumerator</th>\n",
       "      <th>HelpfulnessDenominator</th>\n",
       "      <th>Score</th>\n",
       "      <th>Textual_Info</th>\n",
       "    </tr>\n",
       "  </thead>\n",
       "  <tbody>\n",
       "    <tr>\n",
       "      <th>0</th>\n",
       "      <td>0005019281</td>\n",
       "      <td>ADZPIG9QOCDG5</td>\n",
       "      <td>0</td>\n",
       "      <td>0</td>\n",
       "      <td>4.0</td>\n",
       "      <td>This is a charming version of the classic Dick...</td>\n",
       "    </tr>\n",
       "    <tr>\n",
       "      <th>1</th>\n",
       "      <td>0005019281</td>\n",
       "      <td>A35947ZP82G7JH</td>\n",
       "      <td>0</td>\n",
       "      <td>0</td>\n",
       "      <td>3.0</td>\n",
       "      <td>It was good but not as emotionally moving as t...</td>\n",
       "    </tr>\n",
       "    <tr>\n",
       "      <th>2</th>\n",
       "      <td>0005019281</td>\n",
       "      <td>A3UORV8A9D5L2E</td>\n",
       "      <td>0</td>\n",
       "      <td>0</td>\n",
       "      <td>3.0</td>\n",
       "      <td>Don't get me wrong, Winkler is a wonderful cha...</td>\n",
       "    </tr>\n",
       "    <tr>\n",
       "      <th>3</th>\n",
       "      <td>0005019281</td>\n",
       "      <td>A1VKW06X1O2X7V</td>\n",
       "      <td>0</td>\n",
       "      <td>0</td>\n",
       "      <td>5.0</td>\n",
       "      <td>Henry Winkler is very good in this twist on th...</td>\n",
       "    </tr>\n",
       "    <tr>\n",
       "      <th>4</th>\n",
       "      <td>0005019281</td>\n",
       "      <td>A3R27T4HADWFFJ</td>\n",
       "      <td>0</td>\n",
       "      <td>0</td>\n",
       "      <td>4.0</td>\n",
       "      <td>This is one of the best Scrooge movies out.  H...</td>\n",
       "    </tr>\n",
       "  </tbody>\n",
       "</table>\n",
       "</div>"
      ],
      "text/plain": [
       "    ProductId          UserId  HelpfulnessNumerator  HelpfulnessDenominator  \\\n",
       "0  0005019281   ADZPIG9QOCDG5                     0                       0   \n",
       "1  0005019281  A35947ZP82G7JH                     0                       0   \n",
       "2  0005019281  A3UORV8A9D5L2E                     0                       0   \n",
       "3  0005019281  A1VKW06X1O2X7V                     0                       0   \n",
       "4  0005019281  A3R27T4HADWFFJ                     0                       0   \n",
       "\n",
       "   Score                                       Textual_Info  \n",
       "0    4.0  This is a charming version of the classic Dick...  \n",
       "1    3.0  It was good but not as emotionally moving as t...  \n",
       "2    3.0  Don't get me wrong, Winkler is a wonderful cha...  \n",
       "3    5.0  Henry Winkler is very good in this twist on th...  \n",
       "4    4.0  This is one of the best Scrooge movies out.  H...  "
      ]
     },
     "execution_count": 4,
     "metadata": {},
     "output_type": "execute_result"
    }
   ],
   "source": [
    "origin_data['Text'].loc[origin_data['Text'].isnull()] = ''\n",
    "origin_data['Summary'].loc[origin_data['Summary'].isnull()] = ''\n",
    "\n",
    "origin_data[\"Textual_Info\"] = origin_data['Text'] + origin_data['Summary']\n",
    "columns_to_drop = ['Id', 'Time', 'Text', 'Summary']\n",
    "origin_data = origin_data.drop(columns=columns_to_drop)\n",
    "origin_data.head()"
   ]
  },
  {
   "cell_type": "code",
   "execution_count": 5,
   "id": "6658c97b",
   "metadata": {},
   "outputs": [
    {
     "name": "stdout",
     "output_type": "stream",
     "text": [
      "Start cleaning Textual_Info column...\n"
     ]
    }
   ],
   "source": [
    "def clean_documents(doc):\n",
    "    doc = str(doc).lower()  # Lowercase conversion\n",
    "    doc = re.sub('\\[.*?\\]', '', doc)\n",
    "    doc = re.sub('https?://\\S+|http?://\\S+|www\\.\\S+', '', doc)  # Remove URls\n",
    "    doc = re.sub('<.*?>+', '', doc)\n",
    "    doc = re.sub(r'[^a-z0-9\\s]', '', doc)  # Remove punctuation\n",
    "    doc = re.sub('\\n', '', doc)\n",
    "    doc = re.sub('\\w*\\d\\w*', '', doc)\n",
    "    return doc\n",
    "\n",
    "print(\"Start cleaning Textual_Info column...\")\n",
    "origin_data['Textual_Info'] = origin_data['Textual_Info'].apply(clean_documents)"
   ]
  },
  {
   "cell_type": "markdown",
   "id": "9bb5f9ea",
   "metadata": {},
   "source": [
    "- Implement TFIDF vectorization on the combined textual info column using a corpus of at least two times used words and with no stopwords. TFIDF vectorization is fitted on train data and transformed on train and test data otherwise we are overfitting with words of test data. I was inspired for this solution as it was used in homework 3 exercise 2(c).\n",
    "- Implement One hot encoding on 'ProductId' and 'UserId'. It is important to notice that the fitting is done on the train data and transformed on train and test data otherwise we are overfitting with test 'productId' and 'UserId'. To ignore unknown 'ProductId' and 'UserId' i used a parameter called 'handle_unknown' on OneHotEncoder() definition. I was inspired for this solution based on instructor Saurav vara prasad chennuri when he replied on homework 2 about one hot encoding the 'Title' column of Titanic dataset.\n",
    "- Used the 'Helpfulness' column as it was proposed in the initial feature extraction from the professor Lance Galletti and I believe is a clever way to incorporate the information of both columns 'HelpfulnessNumerator' and 'HelpfulnessDenominator' into one. "
   ]
  },
  {
   "cell_type": "code",
   "execution_count": 6,
   "id": "5699bb34",
   "metadata": {},
   "outputs": [],
   "source": [
    "# Split the original given origin_data dataframe to train_df and test_df \n",
    "train_df = origin_data[origin_data['Score'].notna()]\n",
    "test_df = origin_data[origin_data['Score'].isnull()]\n",
    "train_Y = train_df.reset_index()['Score']\n",
    "\n",
    "# Prepare the train dataset\n",
    "train_df['Helpfulness'] = train_df['HelpfulnessNumerator'] / train_df['HelpfulnessDenominator']\n",
    "train_df['Helpfulness'] = train_df['Helpfulness'].fillna(0)\n",
    "train_helpfulness_matrix = csr_matrix(train_df[['Helpfulness']].values)\n",
    "\n",
    "# Fit the one hot encoder on train dataset and tranform it too.\n",
    "productID_encoder = OneHotEncoder(handle_unknown='ignore').fit(train_df[['ProductId']])\n",
    "train_productID_encoded = productID_encoder.transform(train_df[['ProductId']])\n",
    "userID_encoder = OneHotEncoder(handle_unknown='ignore').fit(train_df[['UserId']])\n",
    "train_userID_encoded = userID_encoder.transform(train_df[['UserId']])\n",
    "\n",
    "# Fit the TFIDF vectorizer on train dataset and tranform it too.\n",
    "stop_words = set(stopwords.words('english'))\n",
    "vectorizer = TfidfVectorizer(min_df=2, stop_words=stop_words)\n",
    "textual_info_vectorizer = vectorizer.fit(train_df['Textual_Info'])\n",
    "train_textual_info_vectorized = textual_info_vectorizer.transform(train_df['Textual_Info'])\n",
    "\n",
    "# Combine all the features vectors into one matrix\n",
    "train_data_stacked = hstack([train_textual_info_vectorized, train_productID_encoded, train_userID_encoded, train_helpfulness_matrix])\n",
    "train_X = csr_matrix(train_data_stacked)"
   ]
  },
  {
   "cell_type": "code",
   "execution_count": 7,
   "id": "0ce917b0",
   "metadata": {},
   "outputs": [],
   "source": [
    "# Prepare the test dataset\n",
    "test_df['Helpfulness'] = test_df['HelpfulnessNumerator'] / test_df['HelpfulnessDenominator']\n",
    "test_df['Helpfulness'] = test_df['Helpfulness'].fillna(0)\n",
    "test_helpfulness_matrix = csr_matrix(test_df[['Helpfulness']].values)\n",
    "\n",
    "# Only transform the test dataset based on the one hot encoder of train dataset!\n",
    "test_productID_encoded = productID_encoder.transform(test_df[['ProductId']])\n",
    "test_userID_encoded = userID_encoder.transform(test_df[['UserId']])\n",
    "\n",
    "# Only transform the test dataset based on the TFIDF vectorizer of train dataset!\n",
    "test_textual_info_vectorized = textual_info_vectorizer.transform(test_df['Textual_Info'])\n",
    "\n",
    "# Combine all the features vectors into one matrix\n",
    "test_data_stacked = hstack([test_textual_info_vectorized, test_productID_encoded, test_userID_encoded, test_helpfulness_matrix])\n",
    "test_X = csr_matrix(test_data_stacked)"
   ]
  },
  {
   "cell_type": "markdown",
   "id": "ffd8b7a5",
   "metadata": {},
   "source": [
    "\n",
    "I worked with 2 different classifiers. Logistic regression and Randomforest.  \n",
    "In order to make sure that I used the optimal model of the chosen classifier I trained the model of the chosen classifier on a KFold environment with 10 splits and I took the model with the maximum accuracy out of those 10. The inspiration of this evaluation technique was based on the following article: https://towardsdatascience.com/train-test-split-and-cross-validation-in-python-80b61beca4b6. "
   ]
  },
  {
   "cell_type": "code",
   "execution_count": 15,
   "id": "5df6790b",
   "metadata": {},
   "outputs": [],
   "source": [
    "# Implements a 10 Kfold split of train dataset in which we calculate the accuracy & hold \n",
    "# the model with the best accuracy to use it later for predicting the submission test data\n",
    "def bestmodel(model, X, y):\n",
    "    max_accuracy = -1\n",
    "    optimal_model = model\n",
    "    cv = KFold(n_splits=10, random_state= 1, shuffle=True)\n",
    "    for train_index, test_index in cv.split(X):\n",
    "        model.fit(X[train_index], y[train_index])\n",
    "        y_pred = model.predict(X[test_index])\n",
    "        current_accuracy = (accuracy_score(y_pred, y[test_index]) * 100).__round__(2)\n",
    "        if(max_accuracy < current_accuracy):\n",
    "            max_accuracy = current_accuracy\n",
    "            optimal_model = model\n",
    "    return max_accuracy, optimal_model"
   ]
  },
  {
   "cell_type": "code",
   "execution_count": 9,
   "id": "053ae338",
   "metadata": {},
   "outputs": [
    {
     "name": "stdout",
     "output_type": "stream",
     "text": [
      "Maximum accuracy for logistic regression is 66.81\n"
     ]
    },
    {
     "data": {
      "text/plain": [
       "<sklearn.metrics._plot.confusion_matrix.ConfusionMatrixDisplay at 0x503cf3dc0>"
      ]
     },
     "execution_count": 9,
     "metadata": {},
     "output_type": "execute_result"
    },
    {
     "data": {
      "image/png": "[encoded data removed]",
      "text/plain": [
       "<Figure size 432x288 with 2 Axes>"
      ]
     },
     "metadata": {
      "needs_background": "light"
     },
     "output_type": "display_data"
    }
   ],
   "source": [
    "# Apply the logistic regression model with a Kfold evaluation metric. \n",
    "# At the end plot the confusion matric of the produced model\n",
    "X_train, X_test, y_train, y_test = train_test_split(train_X, train_Y, test_size=0.2)\n",
    "log_reg_model = LogisticRegression()\n",
    "max_accuracy, optimal_model = bestmodel(log_reg_model, train_X, train_Y)\n",
    "print(\"Maximum accuracy for logistic regression is {}\".format(max_accuracy))\n",
    "final_predictions = pd.DataFrame(optimal_model.predict(test_X))[0]\n",
    "submission_data[\"Score\"] = final_predictions\n",
    "submission_data.to_csv('log_reg_submission.csv',index=False)\n",
    "plot_confusion_matrix(log_reg_model, X_test, y_test, normalize='true')"
   ]
  },
  {
   "cell_type": "code",
   "execution_count": 9,
   "id": "21f4398c",
   "metadata": {},
   "outputs": [
    {
     "name": "stdout",
     "output_type": "stream",
     "text": [
      "Accuracy for RandomForestClassifier is 58.15\n"
     ]
    },
    {
     "data": {
      "text/plain": [
       "<sklearn.metrics._plot.confusion_matrix.ConfusionMatrixDisplay at 0x325984e50>"
      ]
     },
     "execution_count": 9,
     "metadata": {},
     "output_type": "execute_result"
    },
    {
     "data": {
      "image/png": "[encoded data removed]",
      "text/plain": [
       "<Figure size 432x288 with 2 Axes>"
      ]
     },
     "metadata": {
      "needs_background": "light"
     },
     "output_type": "display_data"
    }
   ],
   "source": [
    "# Apply SVD as dimentionality reduction technique in pipeline with the random forest model.\n",
    "# At the end plot the confusion matric of the produced model\n",
    "X_train, X_test, y_train, y_test = train_test_split(train_X, train_Y, test_size=0.2)\n",
    "svd = TruncatedSVD(n_components=100)\n",
    "rf_model = RandomForestClassifier(n_jobs=-1)\n",
    "rf_model = make_pipeline(svd, rf_model)\n",
    "rf_model.fit(X_train, y_train)\n",
    "y_pred = rf_model.predict(X_test)\n",
    "accuracy = (accuracy_score(y_pred, y_test) * 100).__round__(2)\n",
    "print(\"Accuracy for RandomForestClassifier is {}\".format(accuracy))\n",
    "final_predictions = pd.DataFrame(rf_model.predict(test_X))[0]\n",
    "submission_data[\"Score\"] = final_predictions\n",
    "submission_data.to_csv('rf_submission.csv',index=False)\n",
    "plot_confusion_matrix(rf_model, X_test, y_test, normalize='true')"
   ]
  }
 ],
 "metadata": {
  "kernelspec": {
   "display_name": "Python 3 (ipykernel)",
   "language": "python",
   "name": "python3"
  },
  "language_info": {
   "codemirror_mode": {
    "name": "ipython",
    "version": 3
   },
   "file_extension": ".py",
   "mimetype": "text/x-python",
   "name": "python",
   "nbconvert_exporter": "python",
   "pygments_lexer": "ipython3",
   "version": "3.9.6"
  }
 },
 "nbformat": 4,
 "nbformat_minor": 5
}
